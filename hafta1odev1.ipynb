{
 "cells": [
  {
   "cell_type": "markdown",
   "id": "0c4275ce",
   "metadata": {},
   "source": [
    "Ödev-1: Değişkenlere atanmış değerlerin veri tipleri arasında dönüşüm yapılır."
   ]
  },
  {
   "cell_type": "code",
   "execution_count": 105,
   "id": "253f2654",
   "metadata": {},
   "outputs": [
    {
     "data": {
      "text/plain": [
       "15"
      ]
     },
     "execution_count": 105,
     "metadata": {},
     "output_type": "execute_result"
    }
   ],
   "source": [
    "masaNo = 15\n",
    "masaNo"
   ]
  },
  {
   "cell_type": "code",
   "execution_count": 106,
   "id": "9793d2c9",
   "metadata": {},
   "outputs": [
    {
     "data": {
      "text/plain": [
       "int"
      ]
     },
     "execution_count": 106,
     "metadata": {},
     "output_type": "execute_result"
    }
   ],
   "source": [
    "type(masaNo)"
   ]
  },
  {
   "cell_type": "code",
   "execution_count": 99,
   "id": "97674389",
   "metadata": {},
   "outputs": [
    {
     "data": {
      "text/plain": [
       "'15'"
      ]
     },
     "execution_count": 99,
     "metadata": {},
     "output_type": "execute_result"
    }
   ],
   "source": [
    "masaNo = str(masaNo)\n",
    "masaNo"
   ]
  },
  {
   "cell_type": "code",
   "execution_count": 100,
   "id": "11d68712",
   "metadata": {},
   "outputs": [
    {
     "data": {
      "text/plain": [
       "str"
      ]
     },
     "execution_count": 100,
     "metadata": {},
     "output_type": "execute_result"
    }
   ],
   "source": [
    "type(masaNo)"
   ]
  },
  {
   "cell_type": "code",
   "execution_count": 101,
   "id": "78fe17b4",
   "metadata": {},
   "outputs": [
    {
     "data": {
      "text/plain": [
       "15.0"
      ]
     },
     "execution_count": 101,
     "metadata": {},
     "output_type": "execute_result"
    }
   ],
   "source": [
    "masaNo = float(masaNo)\n",
    "masaNo"
   ]
  },
  {
   "cell_type": "code",
   "execution_count": 102,
   "id": "b02f792e",
   "metadata": {},
   "outputs": [
    {
     "data": {
      "text/plain": [
       "float"
      ]
     },
     "execution_count": 102,
     "metadata": {},
     "output_type": "execute_result"
    }
   ],
   "source": [
    "type(masaNo)"
   ]
  },
  {
   "cell_type": "code",
   "execution_count": 103,
   "id": "a341e570",
   "metadata": {},
   "outputs": [
    {
     "data": {
      "text/plain": [
       "True"
      ]
     },
     "execution_count": 103,
     "metadata": {},
     "output_type": "execute_result"
    }
   ],
   "source": [
    "masaNo = bool(masaNo)\n",
    "masaNo"
   ]
  },
  {
   "cell_type": "code",
   "execution_count": 104,
   "id": "ba7f5f94",
   "metadata": {},
   "outputs": [
    {
     "data": {
      "text/plain": [
       "bool"
      ]
     },
     "execution_count": 104,
     "metadata": {},
     "output_type": "execute_result"
    }
   ],
   "source": [
    "type(masaNo)"
   ]
  },
  {
   "cell_type": "code",
   "execution_count": 117,
   "id": "2d385596",
   "metadata": {},
   "outputs": [
    {
     "data": {
      "text/plain": [
       "75.5"
      ]
     },
     "execution_count": 117,
     "metadata": {},
     "output_type": "execute_result"
    }
   ],
   "source": [
    "sinavNotu = 75.5\n",
    "sinavNotu"
   ]
  },
  {
   "cell_type": "code",
   "execution_count": 118,
   "id": "dac23b91",
   "metadata": {},
   "outputs": [
    {
     "data": {
      "text/plain": [
       "float"
      ]
     },
     "execution_count": 118,
     "metadata": {},
     "output_type": "execute_result"
    }
   ],
   "source": [
    "type(sinavNotu)"
   ]
  },
  {
   "cell_type": "code",
   "execution_count": 113,
   "id": "edeee037",
   "metadata": {},
   "outputs": [
    {
     "data": {
      "text/plain": [
       "'75'"
      ]
     },
     "execution_count": 113,
     "metadata": {},
     "output_type": "execute_result"
    }
   ],
   "source": [
    "sinavNotu = str(sinavNotu)\n",
    "sinavNotu"
   ]
  },
  {
   "cell_type": "code",
   "execution_count": 114,
   "id": "8d77852d",
   "metadata": {},
   "outputs": [
    {
     "data": {
      "text/plain": [
       "str"
      ]
     },
     "execution_count": 114,
     "metadata": {},
     "output_type": "execute_result"
    }
   ],
   "source": [
    "type(sinavNotu)"
   ]
  },
  {
   "cell_type": "code",
   "execution_count": 115,
   "id": "4147516d",
   "metadata": {},
   "outputs": [
    {
     "data": {
      "text/plain": [
       "75"
      ]
     },
     "execution_count": 115,
     "metadata": {},
     "output_type": "execute_result"
    }
   ],
   "source": [
    "sinavNotu = int(float(sinavNotu))\n",
    "sinavNotu"
   ]
  },
  {
   "cell_type": "code",
   "execution_count": 116,
   "id": "d742be62",
   "metadata": {},
   "outputs": [
    {
     "data": {
      "text/plain": [
       "int"
      ]
     },
     "execution_count": 116,
     "metadata": {},
     "output_type": "execute_result"
    }
   ],
   "source": [
    "type(sinavNotu)"
   ]
  },
  {
   "cell_type": "code",
   "execution_count": 119,
   "id": "6af09640",
   "metadata": {},
   "outputs": [
    {
     "data": {
      "text/plain": [
       "0"
      ]
     },
     "execution_count": 119,
     "metadata": {},
     "output_type": "execute_result"
    }
   ],
   "source": [
    "elmaSayisi = 0\n",
    "elmaSayisi"
   ]
  },
  {
   "cell_type": "code",
   "execution_count": 120,
   "id": "8d4dd9c8",
   "metadata": {},
   "outputs": [
    {
     "data": {
      "text/plain": [
       "int"
      ]
     },
     "execution_count": 120,
     "metadata": {},
     "output_type": "execute_result"
    }
   ],
   "source": [
    "type(elmaSayisi)"
   ]
  },
  {
   "cell_type": "code",
   "execution_count": 121,
   "id": "338e4989",
   "metadata": {},
   "outputs": [
    {
     "data": {
      "text/plain": [
       "False"
      ]
     },
     "execution_count": 121,
     "metadata": {},
     "output_type": "execute_result"
    }
   ],
   "source": [
    "elmaSayisi = bool(elmaSayisi)\n",
    "elmaSayisi"
   ]
  },
  {
   "cell_type": "code",
   "execution_count": 122,
   "id": "3c20355b",
   "metadata": {},
   "outputs": [
    {
     "data": {
      "text/plain": [
       "bool"
      ]
     },
     "execution_count": 122,
     "metadata": {},
     "output_type": "execute_result"
    }
   ],
   "source": [
    "type(elmaSayisi)"
   ]
  },
  {
   "cell_type": "code",
   "execution_count": 123,
   "id": "21df8356",
   "metadata": {},
   "outputs": [
    {
     "data": {
      "text/plain": [
       "'Nasilsiniz?'"
      ]
     },
     "execution_count": 123,
     "metadata": {},
     "output_type": "execute_result"
    }
   ],
   "source": [
    "metin = \"Nasilsiniz?\"\n",
    "metin"
   ]
  },
  {
   "cell_type": "code",
   "execution_count": 124,
   "id": "08db2aab",
   "metadata": {},
   "outputs": [
    {
     "data": {
      "text/plain": [
       "str"
      ]
     },
     "execution_count": 124,
     "metadata": {},
     "output_type": "execute_result"
    }
   ],
   "source": [
    "type(metin)"
   ]
  },
  {
   "cell_type": "code",
   "execution_count": 126,
   "id": "26e67c73",
   "metadata": {},
   "outputs": [
    {
     "data": {
      "text/plain": [
       "True"
      ]
     },
     "execution_count": 126,
     "metadata": {},
     "output_type": "execute_result"
    }
   ],
   "source": [
    "metin = bool(metin)\n",
    "metin"
   ]
  },
  {
   "cell_type": "code",
   "execution_count": 127,
   "id": "31d8b3eb",
   "metadata": {},
   "outputs": [
    {
     "data": {
      "text/plain": [
       "''"
      ]
     },
     "execution_count": 127,
     "metadata": {},
     "output_type": "execute_result"
    }
   ],
   "source": [
    "metin2= \"\"\n",
    "metin2"
   ]
  },
  {
   "cell_type": "code",
   "execution_count": 128,
   "id": "4f042dda",
   "metadata": {},
   "outputs": [
    {
     "data": {
      "text/plain": [
       "str"
      ]
     },
     "execution_count": 128,
     "metadata": {},
     "output_type": "execute_result"
    }
   ],
   "source": [
    "type(metin2)"
   ]
  },
  {
   "cell_type": "code",
   "execution_count": 130,
   "id": "9ffb2a37",
   "metadata": {},
   "outputs": [
    {
     "data": {
      "text/plain": [
       "False"
      ]
     },
     "execution_count": 130,
     "metadata": {},
     "output_type": "execute_result"
    }
   ],
   "source": [
    "metin2 = bool(metin2)\n",
    "metin2"
   ]
  },
  {
   "cell_type": "code",
   "execution_count": 131,
   "id": "2d4dd224",
   "metadata": {},
   "outputs": [
    {
     "data": {
      "text/plain": [
       "bool"
      ]
     },
     "execution_count": 131,
     "metadata": {},
     "output_type": "execute_result"
    }
   ],
   "source": [
    "type(metin2)"
   ]
  },
  {
   "cell_type": "markdown",
   "id": "5fbb01a5",
   "metadata": {},
   "source": [
    "Ödev-2: İsimlerden oluşan üç değişkene yaş değerleri atanır. Belirlenen üç değişken birbiriyle karşılaştırma operatörleri ile karşılaştırılır. Bu karşılaştırmalara mantıksal operatörler de eklenir."
   ]
  },
  {
   "cell_type": "code",
   "execution_count": 8,
   "id": "ef5de0c2",
   "metadata": {},
   "outputs": [],
   "source": [
    "derya = 20\n",
    "baki = 19\n",
    "sena = 17"
   ]
  },
  {
   "cell_type": "code",
   "execution_count": 12,
   "id": "6f2f77e9",
   "metadata": {},
   "outputs": [
    {
     "data": {
      "text/plain": [
       "False"
      ]
     },
     "execution_count": 12,
     "metadata": {},
     "output_type": "execute_result"
    }
   ],
   "source": [
    "baki<derya and sena>derya"
   ]
  },
  {
   "cell_type": "code",
   "execution_count": 14,
   "id": "e00fb16f",
   "metadata": {},
   "outputs": [
    {
     "data": {
      "text/plain": [
       "False"
      ]
     },
     "execution_count": 14,
     "metadata": {},
     "output_type": "execute_result"
    }
   ],
   "source": [
    "sena==derya"
   ]
  },
  {
   "cell_type": "code",
   "execution_count": 13,
   "id": "eb5198d5",
   "metadata": {},
   "outputs": [
    {
     "data": {
      "text/plain": [
       "False"
      ]
     },
     "execution_count": 13,
     "metadata": {},
     "output_type": "execute_result"
    }
   ],
   "source": [
    "not baki<=derya"
   ]
  },
  {
   "cell_type": "code",
   "execution_count": 16,
   "id": "1e33266f",
   "metadata": {},
   "outputs": [
    {
     "data": {
      "text/plain": [
       "True"
      ]
     },
     "execution_count": 16,
     "metadata": {},
     "output_type": "execute_result"
    }
   ],
   "source": [
    "derya!=baki or sena>=derya"
   ]
  },
  {
   "cell_type": "markdown",
   "id": "045b5bf5",
   "metadata": {},
   "source": [
    "Ödev-3: Kullanıcıdan iki değer girmesini istenir. Girilen değerlerin toplama, çıkarma, çarpma, bölme sonuçlarını yazdırılır."
   ]
  },
  {
   "cell_type": "code",
   "execution_count": 29,
   "id": "0fb30bc6",
   "metadata": {},
   "outputs": [
    {
     "name": "stdout",
     "output_type": "stream",
     "text": [
      "enter the first number : 10\n"
     ]
    }
   ],
   "source": [
    "num1 = 0\n",
    "num1 = int(input(\"enter the first number : \"))"
   ]
  },
  {
   "cell_type": "code",
   "execution_count": 30,
   "id": "ad178aa5",
   "metadata": {
    "scrolled": false
   },
   "outputs": [
    {
     "name": "stdout",
     "output_type": "stream",
     "text": [
      "enter the second number : 3\n"
     ]
    }
   ],
   "source": [
    "num2 = 0\n",
    "num2 = int(input(\"enter the second number : \"))"
   ]
  },
  {
   "cell_type": "code",
   "execution_count": 31,
   "id": "fd97145f",
   "metadata": {},
   "outputs": [],
   "source": [
    "addition = num1 + num2\n",
    "subtraction = num1 - num2\n",
    "multiplication = num1 * num2\n",
    "division = num1 / num2\n",
    "mode = num1 % num2\n",
    "section = num1 // num2"
   ]
  },
  {
   "cell_type": "code",
   "execution_count": 32,
   "id": "c8521c1b",
   "metadata": {},
   "outputs": [
    {
     "name": "stdout",
     "output_type": "stream",
     "text": [
      "10 + 3 = 13\n"
     ]
    }
   ],
   "source": [
    "print(f'{num1} + {num2} = {addition}')"
   ]
  },
  {
   "cell_type": "code",
   "execution_count": 33,
   "id": "2ca43a65",
   "metadata": {},
   "outputs": [
    {
     "name": "stdout",
     "output_type": "stream",
     "text": [
      "10 - 3 = 7\n"
     ]
    }
   ],
   "source": [
    "print(f'{num1} - {num2} = {subtraction}')"
   ]
  },
  {
   "cell_type": "code",
   "execution_count": 34,
   "id": "b90092cf",
   "metadata": {},
   "outputs": [
    {
     "name": "stdout",
     "output_type": "stream",
     "text": [
      "10 * 3 = 30\n"
     ]
    }
   ],
   "source": [
    "print(f'{num1} * {num2} = {multiplication}')"
   ]
  },
  {
   "cell_type": "code",
   "execution_count": 35,
   "id": "20a613b1",
   "metadata": {},
   "outputs": [
    {
     "name": "stdout",
     "output_type": "stream",
     "text": [
      "10 / 3 = 3.3333333333333335\n"
     ]
    }
   ],
   "source": [
    "print(f'{num1} / {num2} = {division}')"
   ]
  },
  {
   "cell_type": "code",
   "execution_count": 36,
   "id": "fe653416",
   "metadata": {},
   "outputs": [
    {
     "name": "stdout",
     "output_type": "stream",
     "text": [
      "10 % 3 = 1\n"
     ]
    }
   ],
   "source": [
    "print(f'{num1} % {num2} = {mode}')"
   ]
  },
  {
   "cell_type": "code",
   "execution_count": 38,
   "id": "09121e9a",
   "metadata": {},
   "outputs": [
    {
     "name": "stdout",
     "output_type": "stream",
     "text": [
      "10 // 3 = 3\n"
     ]
    }
   ],
   "source": [
    "print(f'{num1} // {num2} = {section}')"
   ]
  },
  {
   "cell_type": "markdown",
   "id": "9b260055",
   "metadata": {},
   "source": [
    "Ödev-4: Kullanıcıdan isim, yaş, şehir ve meslek bilgileri istenir ve cevaplarını yazdırılır."
   ]
  },
  {
   "cell_type": "code",
   "execution_count": 39,
   "id": "fadf27c5",
   "metadata": {},
   "outputs": [
    {
     "name": "stdout",
     "output_type": "stream",
     "text": [
      "what is your name ? : emine\n"
     ]
    }
   ],
   "source": [
    "name = input(\"what is your name ? : \")"
   ]
  },
  {
   "cell_type": "code",
   "execution_count": 40,
   "id": "c9e0b416",
   "metadata": {},
   "outputs": [
    {
     "name": "stdout",
     "output_type": "stream",
     "text": [
      "how old are you ? : 20\n"
     ]
    }
   ],
   "source": [
    "age = input(\"how old are you ? : \")"
   ]
  },
  {
   "cell_type": "code",
   "execution_count": 41,
   "id": "5e84ca2e",
   "metadata": {},
   "outputs": [
    {
     "name": "stdout",
     "output_type": "stream",
     "text": [
      "where do you live ? : istanbul\n"
     ]
    }
   ],
   "source": [
    "city = input(\"where do you live ? : \")"
   ]
  },
  {
   "cell_type": "code",
   "execution_count": 42,
   "id": "a291145f",
   "metadata": {},
   "outputs": [
    {
     "name": "stdout",
     "output_type": "stream",
     "text": [
      "what is your job ? : student\n"
     ]
    }
   ],
   "source": [
    "job = input(\"what is your job ? : \")"
   ]
  },
  {
   "cell_type": "code",
   "execution_count": 45,
   "id": "71cb7054",
   "metadata": {},
   "outputs": [
    {
     "name": "stdout",
     "output_type": "stream",
     "text": [
      "Name : emine  Age : 20  City : istanbul  Job : student\n"
     ]
    }
   ],
   "source": [
    "print(f'Name : {name}  Age : {age}  City : {city}  Job : {job}')"
   ]
  },
  {
   "cell_type": "markdown",
   "id": "3ef83da9",
   "metadata": {},
   "source": [
    "Ödev-5: \"Hi-Kod Veri Bilimi Atölyesi\" ifadesi bir değişkene tanımlanır.\n",
    "\n",
    "\n",
    " İfadedeki her bir kelimeyi (\"Hi-Kod\", \"Veri\", \"Bilimi\", \"Atölyesi\") değişken içinden seçilir. \n",
    " İfadeyi hepsini büyük harf olacak hale çevrilir. (\"HI-KOD VERİ BİLİMİ ATÖLYESİ\") \n",
    " İfadeyi hepsini küçük harf olacak hale çevrilir.(\"hi-kod veri bilimi atölyesi\") \n",
    "\n",
    "\"0123456789\" ifadesindeki yalnızca çift sayıları ve yalnızca tek sayıları seçilir. (\"02468\", \"13579\")"
   ]
  },
  {
   "cell_type": "code",
   "execution_count": 134,
   "id": "3b93701f",
   "metadata": {},
   "outputs": [
    {
     "data": {
      "text/plain": [
       "['Hi-Kod', 'Veri', 'Bilimi', 'Atölyesi']"
      ]
     },
     "execution_count": 134,
     "metadata": {},
     "output_type": "execute_result"
    }
   ],
   "source": [
    "text = \"Hi-Kod Veri Bilimi Atölyesi\"\n",
    "text.split()"
   ]
  },
  {
   "cell_type": "code",
   "execution_count": 135,
   "id": "e7c5696a",
   "metadata": {},
   "outputs": [
    {
     "data": {
      "text/plain": [
       "'Hi-Kod'"
      ]
     },
     "execution_count": 135,
     "metadata": {},
     "output_type": "execute_result"
    }
   ],
   "source": [
    "text[0:6]"
   ]
  },
  {
   "cell_type": "code",
   "execution_count": 136,
   "id": "5e503ad6",
   "metadata": {},
   "outputs": [
    {
     "data": {
      "text/plain": [
       "'Veri'"
      ]
     },
     "execution_count": 136,
     "metadata": {},
     "output_type": "execute_result"
    }
   ],
   "source": [
    "text[7:11]"
   ]
  },
  {
   "cell_type": "code",
   "execution_count": 137,
   "id": "42353f80",
   "metadata": {},
   "outputs": [
    {
     "data": {
      "text/plain": [
       "'Bilimi'"
      ]
     },
     "execution_count": 137,
     "metadata": {},
     "output_type": "execute_result"
    }
   ],
   "source": [
    "text[12:18]"
   ]
  },
  {
   "cell_type": "code",
   "execution_count": 138,
   "id": "68568a60",
   "metadata": {},
   "outputs": [
    {
     "data": {
      "text/plain": [
       "'Atölyesi'"
      ]
     },
     "execution_count": 138,
     "metadata": {},
     "output_type": "execute_result"
    }
   ],
   "source": [
    "text[19:27]"
   ]
  },
  {
   "cell_type": "code",
   "execution_count": 56,
   "id": "443d8c64",
   "metadata": {},
   "outputs": [
    {
     "data": {
      "text/plain": [
       "'HI-KOD VERI BILIMI ATÖLYESI'"
      ]
     },
     "execution_count": 56,
     "metadata": {},
     "output_type": "execute_result"
    }
   ],
   "source": [
    "text1 = text.upper()\n",
    "text1"
   ]
  },
  {
   "cell_type": "code",
   "execution_count": 55,
   "id": "6843c270",
   "metadata": {},
   "outputs": [
    {
     "data": {
      "text/plain": [
       "'hi-kod veri bilimi atölyesi'"
      ]
     },
     "execution_count": 55,
     "metadata": {},
     "output_type": "execute_result"
    }
   ],
   "source": [
    "text2 = text.lower()\n",
    "text2"
   ]
  },
  {
   "cell_type": "code",
   "execution_count": 89,
   "id": "10ad40fd",
   "metadata": {},
   "outputs": [
    {
     "name": "stdout",
     "output_type": "stream",
     "text": [
      "0\n",
      "2\n",
      "4\n",
      "6\n",
      "8\n"
     ]
    }
   ],
   "source": [
    "numbers = \"0123456789\"\n",
    "i = 0\n",
    "while i<len(numbers):\n",
    "    if int(numbers[i])%2==0 :\n",
    "        print(numbers[i])\n",
    "    i+=1"
   ]
  },
  {
   "cell_type": "code",
   "execution_count": null,
   "id": "13bd1e59",
   "metadata": {},
   "outputs": [],
   "source": []
  },
  {
   "cell_type": "code",
   "execution_count": 90,
   "id": "86060cc1",
   "metadata": {},
   "outputs": [
    {
     "name": "stdout",
     "output_type": "stream",
     "text": [
      "1\n",
      "3\n",
      "5\n",
      "7\n",
      "9\n"
     ]
    }
   ],
   "source": [
    "j = 0\n",
    "while j<len(numbers):\n",
    "    if int(numbers[j])%2==1 :\n",
    "        print(numbers[j])\n",
    "    j+=1"
   ]
  },
  {
   "cell_type": "code",
   "execution_count": null,
   "id": "5f15f0a6",
   "metadata": {},
   "outputs": [],
   "source": []
  }
 ],
 "metadata": {
  "kernelspec": {
   "display_name": "Python 3 (ipykernel)",
   "language": "python",
   "name": "python3"
  },
  "language_info": {
   "codemirror_mode": {
    "name": "ipython",
    "version": 3
   },
   "file_extension": ".py",
   "mimetype": "text/x-python",
   "name": "python",
   "nbconvert_exporter": "python",
   "pygments_lexer": "ipython3",
   "version": "3.11.7"
  }
 },
 "nbformat": 4,
 "nbformat_minor": 5
}
