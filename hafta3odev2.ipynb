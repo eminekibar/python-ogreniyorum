{
 "cells": [
  {
   "cell_type": "markdown",
   "id": "39a2d88f",
   "metadata": {},
   "source": [
    "Ödev-1: Kullanıcıdan maaş bilgisini istenir ve bu bilgiye göre maaşından ne kadar vergi kesileceğini hesaplanır. Kullanıcının geliri;\n",
    "\n",
    "1. 10000 ve altındaysa maaşından %5 kesinti olur.\n",
    "2. 25000 ve altındaysa maaşından %10 kesinti olur.\n",
    "3. 45000 ve altındaysa maaşından %25 kesinti olur.\n",
    "4. Diğer koşullarda %30 kesinti olur. \n",
    "\n",
    "Bu durumlara göre kullanıcının yeni maaşı yazdırılır."
   ]
  },
  {
   "cell_type": "code",
   "execution_count": 1,
   "id": "1d4dfbf1",
   "metadata": {},
   "outputs": [
    {
     "name": "stdout",
     "output_type": "stream",
     "text": [
      "Aylık maaşınız ne kadar ? : 30000\n"
     ]
    }
   ],
   "source": [
    "maas = int(input(\"Aylık maaşınız ne kadar ? : \"))"
   ]
  },
  {
   "cell_type": "code",
   "execution_count": 4,
   "id": "0a4d8c9e",
   "metadata": {},
   "outputs": [
    {
     "name": "stdout",
     "output_type": "stream",
     "text": [
      "Maaşınızdan vergi olarak 7500.0 TL kesilmesi sonucu maaşınız 22500.0 TL olmuştur.\n"
     ]
    }
   ],
   "source": [
    "vergi = 0\n",
    "if maas<10000 :\n",
    "    vergi = maas*5/100\n",
    "    vergiliMaas = maas - vergi\n",
    "elif maas<25000 :\n",
    "    vergi = maas*10/100\n",
    "    vergiliMaas = maas - vergi\n",
    "elif maas<45000 :\n",
    "    vergi = maas*25/100\n",
    "    vergiliMaas = maas - vergi\n",
    "else :\n",
    "    vergi = maas*30/100\n",
    "    vergiliMaas = maas - vergi\n",
    "print(f'Maaşınızdan vergi olarak {vergi} TL kesilmesi sonucu maaşınız {vergiliMaas} TL olmuştur.')"
   ]
  },
  {
   "cell_type": "markdown",
   "id": "8e996e89",
   "metadata": {},
   "source": [
    "Ödev-2: Kullanıcıdan kullanıcı adı ve şifre oluşturmasını istenir. Şifrenin uzunluğu altı haneye ulaşmışsa hesabınız oluşturuldu mesajı alınır, altı haneden azsa altı haneli şifre oluşturması gerektiğinin mesajı alınır. (Sadece koşul kullanılması yeterli.)\n",
    "\n"
   ]
  },
  {
   "cell_type": "code",
   "execution_count": 11,
   "id": "b583bc44",
   "metadata": {},
   "outputs": [
    {
     "name": "stdout",
     "output_type": "stream",
     "text": [
      "Kullanıcı adı oluşturunuz : emine\n"
     ]
    }
   ],
   "source": [
    "kullaniciAdi = input(\"Kullanıcı adı oluşturunuz : \")"
   ]
  },
  {
   "cell_type": "code",
   "execution_count": 43,
   "id": "21509b65",
   "metadata": {},
   "outputs": [
    {
     "name": "stdout",
     "output_type": "stream",
     "text": [
      "Şifre oluşturunuz : 458\n"
     ]
    }
   ],
   "source": [
    "sifre = input(\"Şifre oluşturunuz : \")"
   ]
  },
  {
   "cell_type": "code",
   "execution_count": 44,
   "id": "05914040",
   "metadata": {},
   "outputs": [
    {
     "name": "stdout",
     "output_type": "stream",
     "text": [
      "Şifre 6 haneden oluşmalıdır.\n"
     ]
    }
   ],
   "source": [
    "if len(sifre) == 6:\n",
    "    print(\"Hesabınız başarıyla oluşturuldu.\")\n",
    "else:\n",
    "    print(\"Şifre 6 haneden oluşmalıdır.\")"
   ]
  },
  {
   "cell_type": "code",
   "execution_count": 45,
   "id": "c2e29cde",
   "metadata": {},
   "outputs": [
    {
     "name": "stdout",
     "output_type": "stream",
     "text": [
      "(Şifreniz 6 haneden oluşmalıdır.) Şifre oluşturunuz : 689\n",
      "(Şifreniz 6 haneden oluşmalıdır.) Şifre oluşturunuz : 5\n",
      "(Şifreniz 6 haneden oluşmalıdır.) Şifre oluşturunuz : 78956254\n",
      "(Şifreniz 6 haneden oluşmalıdır.) Şifre oluşturunuz : 458745\n",
      "Hesabınız başarıyla oluşturuldu.\n"
     ]
    }
   ],
   "source": [
    "while len(sifre)!=6 :\n",
    "    sifre = input(\"(Şifreniz 6 haneden oluşmalıdır.) Şifre oluşturunuz : \")\n",
    "print(\"Hesabınız başarıyla oluşturuldu.\")"
   ]
  },
  {
   "cell_type": "markdown",
   "id": "5e4d306d",
   "metadata": {},
   "source": [
    "Ödev-3: Bir önceki örnek geliştirilir.\n",
    "\n",
    "1. Kullanıcı girdiği şifre 5 ve 10 hane arasında olmak zorunda. \n",
    "2. Eğer bu koşula uyuyorsa \"Hesabınız oluşturuldu.\" mesajı alır. \n",
    "3. Koşulu sağlamıyorsa \"Lütfen girdiniz şifre 5 haneden az 10 haneden fazla olmasın!\" uyarısı alır. \n",
    "4. Bunu oluştururken kullanıcı istediğimiz şartlarda şifre oluşturana kadar sormaya devam eder "
   ]
  },
  {
   "cell_type": "code",
   "execution_count": 48,
   "id": "d1fa0f9e",
   "metadata": {},
   "outputs": [
    {
     "name": "stdout",
     "output_type": "stream",
     "text": [
      "Kullanıcı adı oluşturunuz : baki\n"
     ]
    }
   ],
   "source": [
    "kullaniciAdi2 = input(\"Kullanıcı adı oluşturunuz : \")"
   ]
  },
  {
   "cell_type": "code",
   "execution_count": 49,
   "id": "ac2042ba",
   "metadata": {},
   "outputs": [
    {
     "name": "stdout",
     "output_type": "stream",
     "text": [
      "Şifre oluşturunuz : 78\n"
     ]
    }
   ],
   "source": [
    "sifre2 = input(\"Şifre oluşturunuz : \")"
   ]
  },
  {
   "cell_type": "code",
   "execution_count": 50,
   "id": "238608b9",
   "metadata": {},
   "outputs": [
    {
     "name": "stdout",
     "output_type": "stream",
     "text": [
      "(Lütfen girdiğiniz şifre 5 haneden az 10 haneden fazla olmasın!) Şifre oluşturunuz : 7458745874158741584\n",
      "(Lütfen girdiğiniz şifre 5 haneden az 10 haneden fazla olmasın!) Şifre oluşturunuz : 4562287\n",
      "Hesabınız başarıyla oluşturuldu.\n"
     ]
    }
   ],
   "source": [
    "while True :\n",
    "    if len(sifre2)>=5 and len(sifre2)<=10 :\n",
    "        print(\"Hesabınız başarıyla oluşturuldu.\")\n",
    "        break\n",
    "    else :\n",
    "        sifre2 = input(\"(Lütfen girdiğiniz şifre 5 haneden az 10 haneden fazla olmasın!) Şifre oluşturunuz : \")"
   ]
  },
  {
   "cell_type": "markdown",
   "id": "d528c6d2",
   "metadata": {},
   "source": [
    "Ödev-4: Kullanıcıdan isim ve şifre isteyeceğiz ve şifre girişi için üç hak verilir.\n",
    "\n",
    "\n",
    " Eğer önceden tanımlı şifre ile kullanıcıdan gelen şifre aynıysa \"Giriş yapıldı.\" yazar. \n",
    " Şifre girişi yanlışsa \"Yanlış şifre girildi!\" uyarısı verilsin ve üç yanlış denemede program biter. \n",
    " Tercihe göre kalan hak bilgisi verilir. "
   ]
  },
  {
   "cell_type": "code",
   "execution_count": 117,
   "id": "c8233e32",
   "metadata": {},
   "outputs": [
    {
     "name": "stdout",
     "output_type": "stream",
     "text": [
      "Kullanıcı adı oluşturunuz : derya\n",
      "Şifre oluşturunuz : 123\n"
     ]
    }
   ],
   "source": [
    "isim = input(\"Kullanıcı adı oluşturunuz : \")\n",
    "sifre3 = input(\"Şifre oluşturunuz : \")"
   ]
  },
  {
   "cell_type": "code",
   "execution_count": 90,
   "id": "799e767d",
   "metadata": {},
   "outputs": [
    {
     "name": "stdout",
     "output_type": "stream",
     "text": [
      "Hesabınız oluşturuldu.\n",
      "Hesabınıza giriş yapmak için bilgileri doldurunuz.\n"
     ]
    }
   ],
   "source": [
    "print(\"Hesabınız oluşturuldu.\")\n",
    "print(\"Hesabınıza giriş yapmak için bilgileri doldurunuz.\")"
   ]
  },
  {
   "cell_type": "code",
   "execution_count": 119,
   "id": "742373a1",
   "metadata": {},
   "outputs": [
    {
     "name": "stdout",
     "output_type": "stream",
     "text": [
      "Kullanıcı adı giriniz: der\n",
      "Kullanıcı bulunamadı. Başka kullanıcı adı giriniz.\n",
      "Kullanıcı adı giriniz: derya\n",
      "Şifre giriniz (3 hakkınız kaldı): 45\n",
      "Şifre giriniz (2 hakkınız kaldı): 85\n",
      "Şifre giriniz (1 hakkınız kaldı): 123\n",
      "Giriş yapıldı.\n"
     ]
    }
   ],
   "source": [
    "hak = 3\n",
    "gecisIzni = False\n",
    "while not gecisIzni:\n",
    "    yeniIsim = input(\"Kullanıcı adı giriniz: \")\n",
    "    if yeniIsim != isim:\n",
    "        print(\"Kullanıcı bulunamadı. Başka kullanıcı adı giriniz.\")\n",
    "    else:\n",
    "        gecisIzni = True\n",
    "while hak > 0:\n",
    "    yeniSifre = input(f'Şifre giriniz ({hak} hakkınız kaldı): ')\n",
    "    if yeniSifre != sifre3:\n",
    "        hak -= 1\n",
    "        if hak == 0:\n",
    "            print(\"Şifre giriş hakkınız bitti.\")\n",
    "            break\n",
    "    else:\n",
    "        print(\"Giriş yapıldı.\")\n",
    "        break"
   ]
  }
 ],
 "metadata": {
  "kernelspec": {
   "display_name": "Python 3 (ipykernel)",
   "language": "python",
   "name": "python3"
  },
  "language_info": {
   "codemirror_mode": {
    "name": "ipython",
    "version": 3
   },
   "file_extension": ".py",
   "mimetype": "text/x-python",
   "name": "python",
   "nbconvert_exporter": "python",
   "pygments_lexer": "ipython3",
   "version": "3.11.7"
  }
 },
 "nbformat": 4,
 "nbformat_minor": 5
}
