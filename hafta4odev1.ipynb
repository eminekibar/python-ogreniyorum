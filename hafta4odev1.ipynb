{
 "cells": [
  {
   "cell_type": "markdown",
   "id": "40deeb26",
   "metadata": {},
   "source": [
    "1- Kullanıcıdan pi değeri ve yarıçap bilgisi alarak dairenin alanını hesaplayan bir fonksiyon oluşturulur.\n",
    "\n"
   ]
  },
  {
   "cell_type": "code",
   "execution_count": 10,
   "id": "cb9efd04",
   "metadata": {},
   "outputs": [
    {
     "name": "stdout",
     "output_type": "stream",
     "text": [
      "pi sayısını giriniz : 3.14\n",
      "yarıçapı giriniz : 2\n",
      "dairenin alanı = 12.56\n"
     ]
    }
   ],
   "source": [
    "def daireAlani(pi,yaricap) :\n",
    "    alan = pi * yaricap * yaricap\n",
    "    return alan\n",
    "    \n",
    "p = float(input(\"pi sayısını giriniz : \"))\n",
    "r = float(input(\"yarıçapı giriniz : \"))\n",
    "print(f'dairenin alanı = {daireAlani(p,r)}')"
   ]
  },
  {
   "cell_type": "markdown",
   "id": "10007bbf",
   "metadata": {},
   "source": [
    "2- Faktöriyel adında fonksiyon oluşturulur. Döngü kullanarak parametre olarak girilen sayının faktöriyeli hesaplanır. Format metodunu kullanılarak ekrana yazdırılır."
   ]
  },
  {
   "cell_type": "code",
   "execution_count": 3,
   "id": "99c6806d",
   "metadata": {},
   "outputs": [
    {
     "name": "stdout",
     "output_type": "stream",
     "text": [
      "3! = 6\n"
     ]
    }
   ],
   "source": [
    "def faktöriyel(sayi):\n",
    "    i = 1\n",
    "    sonuc = 1\n",
    "    while i<sayi :\n",
    "        i+=1\n",
    "        sonuc *= i\n",
    "    return print(\"{}! = {}\".format(sayi,sonuc))\n",
    "faktöriyel(3)"
   ]
  },
  {
   "cell_type": "markdown",
   "id": "b0fe75ce",
   "metadata": {},
   "source": [
    "3- Kişinin fonksiyona doğum yılını vererek kaç yaşında olduğunu hesaplayan bir fonksiyon oluşturun. "
   ]
  },
  {
   "cell_type": "code",
   "execution_count": 9,
   "id": "914ff502",
   "metadata": {},
   "outputs": [
    {
     "name": "stdout",
     "output_type": "stream",
     "text": [
      "Doğum yılınız nedir ? 2004\n",
      "Yaşınız : 20\n"
     ]
    }
   ],
   "source": [
    "def yasHesapla(dogumYili):\n",
    "    guncelYil = 2024\n",
    "    yas = guncelYil - dogumYili\n",
    "    return yas\n",
    "print(f'Yaşınız : {yasHesapla(int(input(\"Doğum yılınız nedir ? \")))}')"
   ]
  },
  {
   "cell_type": "markdown",
   "id": "feb83a78",
   "metadata": {},
   "source": [
    "4- Doğum yılı ve isim bilgisi verilen fonksiyon kişinin emekli olup olmadığını söylesin.(Kişi 65 yaşında ise emekli olur.) Burada yaş hesabını yukarıdaki örnekteki fonksiyonu kullanarak yapsın.(Yani fonksiyon içinde fonksiyon kullanmanızı istiyorum :)) Kişi 65 yaşında ya da daha fazlaysa \"Emekli oldunuz\" yanıtını, 65 yaşından küçükse emekliliğine kaç yıl kaldığını da hesaplayarak \"(isim) emekliliğine (yıl) kaldı.\" yanıtını versin."
   ]
  },
  {
   "cell_type": "code",
   "execution_count": 14,
   "id": "ad88bd32",
   "metadata": {},
   "outputs": [
    {
     "name": "stdout",
     "output_type": "stream",
     "text": [
      "ayşe emekliliğine 45 yıl kaldı.\n",
      "Emekli oldunuz.\n"
     ]
    }
   ],
   "source": [
    "def emeklilik(isim,dogumYili):\n",
    "    if yasHesapla(dogumYili)>=65 :\n",
    "        print(\"Emekli oldunuz.\")\n",
    "    elif yasHesapla(dogumYili)<65 :\n",
    "        kalanYil = 65 - yasHesapla(dogumYili)\n",
    "        print(f'{isim} emekliliğine {kalanYil} yıl kaldı.')\n",
    "\n",
    "emeklilik(\"ayşe\",2004)\n",
    "emeklilik(\"hasan\",1950)"
   ]
  }
 ],
 "metadata": {
  "kernelspec": {
   "display_name": "Python 3 (ipykernel)",
   "language": "python",
   "name": "python3"
  },
  "language_info": {
   "codemirror_mode": {
    "name": "ipython",
    "version": 3
   },
   "file_extension": ".py",
   "mimetype": "text/x-python",
   "name": "python",
   "nbconvert_exporter": "python",
   "pygments_lexer": "ipython3",
   "version": "3.11.7"
  }
 },
 "nbformat": 4,
 "nbformat_minor": 5
}
