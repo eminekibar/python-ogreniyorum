{
 "cells": [
  {
   "cell_type": "markdown",
   "id": "0106340c",
   "metadata": {},
   "source": [
    "### Ödev 1\n",
    "\n",
    "liste = [\"Python\",True,9,\"3\",8.4,\"Hi-Kod\",\"False\",4.7]\n",
    "\n",
    "1. Aşağıdaki işlemleri indexing ve slicing kullanarak liste üzerinde uygulayın.\n",
    "\n",
    "   - \"3\" değerine ulaşmak için indexleme yapın.\n",
    "   - \"Hi-Kod\" değerine ulaşmak için indexleme yapın.\n",
    "   - 4.7 değerine ulaşmak için indexleme yapın.\n",
    "   - 9,\"3\",8.4,\"Hi-Kod\" değerlerine ulaşmak için slicing yapın.\n",
    "   - 8.4,\"Hi-Kod\",\"False\",4.7 değerlerine ulaşmak için slicing yapın."
   ]
  },
  {
   "cell_type": "code",
   "execution_count": 1,
   "id": "64a5dc7e",
   "metadata": {},
   "outputs": [],
   "source": [
    "liste = [\"Python\",True,9,\"3\",8.4,\"Hi-Kod\",\"False\",4.7]"
   ]
  },
  {
   "cell_type": "code",
   "execution_count": 2,
   "id": "8b484849",
   "metadata": {},
   "outputs": [
    {
     "data": {
      "text/plain": [
       "'3'"
      ]
     },
     "execution_count": 2,
     "metadata": {},
     "output_type": "execute_result"
    }
   ],
   "source": [
    "liste[3]"
   ]
  },
  {
   "cell_type": "code",
   "execution_count": 3,
   "id": "deb60689",
   "metadata": {},
   "outputs": [
    {
     "data": {
      "text/plain": [
       "'Hi-Kod'"
      ]
     },
     "execution_count": 3,
     "metadata": {},
     "output_type": "execute_result"
    }
   ],
   "source": [
    "liste[5]"
   ]
  },
  {
   "cell_type": "code",
   "execution_count": 4,
   "id": "949d9b97",
   "metadata": {},
   "outputs": [
    {
     "data": {
      "text/plain": [
       "4.7"
      ]
     },
     "execution_count": 4,
     "metadata": {},
     "output_type": "execute_result"
    }
   ],
   "source": [
    "liste[-1]"
   ]
  },
  {
   "cell_type": "code",
   "execution_count": 5,
   "id": "be0dbb78",
   "metadata": {},
   "outputs": [
    {
     "data": {
      "text/plain": [
       "[9, '3', 8.4, 'Hi-Kod']"
      ]
     },
     "execution_count": 5,
     "metadata": {},
     "output_type": "execute_result"
    }
   ],
   "source": [
    "liste[2:6]"
   ]
  },
  {
   "cell_type": "code",
   "execution_count": 6,
   "id": "f867696a",
   "metadata": {},
   "outputs": [
    {
     "data": {
      "text/plain": [
       "[8.4, 'Hi-Kod', 'False', 4.7]"
      ]
     },
     "execution_count": 6,
     "metadata": {},
     "output_type": "execute_result"
    }
   ],
   "source": [
    "liste[4:8]"
   ]
  },
  {
   "cell_type": "markdown",
   "id": "046fcc5c",
   "metadata": {},
   "source": [
    "### Ödev 2\n",
    "\n",
    "Verilen listede bulunan string veri tipindeki öğeleri yeni_liste isimli listeye eklenir.\n",
    "\n",
    "liste = [\"Python\",True,9,\"3\",8.4,\"Hi-Kod\",\"False\",4.7]"
   ]
  },
  {
   "cell_type": "code",
   "execution_count": 8,
   "id": "00b9c6d1",
   "metadata": {},
   "outputs": [
    {
     "data": {
      "text/plain": [
       "['Python', '3', 'Hi-Kod', 'False']"
      ]
     },
     "execution_count": 8,
     "metadata": {},
     "output_type": "execute_result"
    }
   ],
   "source": [
    "liste = [\"Python\",True,9,\"3\",8.4,\"Hi-Kod\",\"False\",4.7]\n",
    "yeniListe = []\n",
    "for oge in liste :\n",
    "    if type(oge)==str :\n",
    "        yeniListe.append(oge)\n",
    "yeniListe"
   ]
  },
  {
   "cell_type": "markdown",
   "id": "4a0d841d",
   "metadata": {},
   "source": [
    "### Ödev 3\n",
    "\n",
    "Enumerate methodunu araştırın ve aşağıdaki örneği enumerate methodu ile yapın."
   ]
  },
  {
   "cell_type": "code",
   "execution_count": 31,
   "id": "332c5138",
   "metadata": {},
   "outputs": [
    {
     "name": "stdout",
     "output_type": "stream",
     "text": [
      "0. indexte bulunan meyve: üzüm\n",
      "1. indexte bulunan meyve: elma\n",
      "2. indexte bulunan meyve: armut\n"
     ]
    }
   ],
   "source": [
    "meyveler = [\"üzüm\",\"elma\",\"armut\"]\n",
    "for index in range(len(meyveler)):\n",
    "    print(\"{}. indexte bulunan meyve: {}\".format(index,meyveler[index]))"
   ]
  },
  {
   "cell_type": "code",
   "execution_count": 32,
   "id": "70d50459",
   "metadata": {},
   "outputs": [
    {
     "name": "stdout",
     "output_type": "stream",
     "text": [
      "0. indexte bulunan meyve : üzüm\n",
      "1. indexte bulunan meyve : elma\n",
      "2. indexte bulunan meyve : armut\n"
     ]
    }
   ],
   "source": [
    "meyveler = [\"üzüm\",\"elma\",\"armut\"]\n",
    "for index,meyve in enumerate(meyveler,start=0) :\n",
    "    print(f'{index}. indexte bulunan meyve : {meyve}')"
   ]
  }
 ],
 "metadata": {
  "kernelspec": {
   "display_name": "Python 3 (ipykernel)",
   "language": "python",
   "name": "python3"
  },
  "language_info": {
   "codemirror_mode": {
    "name": "ipython",
    "version": 3
   },
   "file_extension": ".py",
   "mimetype": "text/x-python",
   "name": "python",
   "nbconvert_exporter": "python",
   "pygments_lexer": "ipython3",
   "version": "3.11.7"
  }
 },
 "nbformat": 4,
 "nbformat_minor": 5
}
