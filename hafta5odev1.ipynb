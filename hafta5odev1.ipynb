{
 "cells": [
  {
   "cell_type": "markdown",
   "id": "7425b988",
   "metadata": {},
   "source": [
    "### Ödev 1\n",
    "\n",
    "Bir sözlük oluşturulur ve bu sözlükte öğrencilerin isimleri ve Matematik, Fizik, Kimya notları tutulur. Kullanıcıdan isim ve ders ismi(Matematik, Fizik, Kimya) istenir ve bu bilgilere göre çıktı verilir."
   ]
  },
  {
   "cell_type": "code",
   "execution_count": 32,
   "id": "fd1b2bd2",
   "metadata": {},
   "outputs": [
    {
     "data": {
      "text/plain": [
       "{'derya': {'matematik': 70, 'fizik': 80, 'kimya': 95},\n",
       " 'baki': {'matematik': 100, 'fizik': 75, 'kimya': 85},\n",
       " 'eray': {'matematik': 55, 'fizik': 60, 'kimya': 100},\n",
       " 'emine': {'matematik': 80, 'fizik': 80, 'kimya': 90},\n",
       " 'ebru': {'matematik': 90, 'fizik': 50, 'kimya': 85}}"
      ]
     },
     "execution_count": 32,
     "metadata": {},
     "output_type": "execute_result"
    }
   ],
   "source": [
    "sozluk = {\"derya\" : {\"matematik\" : 70,\n",
    "                   \"fizik\" : 80,\n",
    "                   \"kimya\" : 95},\n",
    "         \"baki\" : {\"matematik\" : 100,\n",
    "                   \"fizik\" : 75,\n",
    "                   \"kimya\" : 85},\n",
    "          \"eray\" : {\"matematik\" : 55,\n",
    "                   \"fizik\" : 60,\n",
    "                   \"kimya\" : 100},\n",
    "          \"emine\" : {\"matematik\" : 80,\n",
    "                   \"fizik\" : 80,\n",
    "                   \"kimya\" : 90},\n",
    "          \"ebru\" : {\"matematik\" : 90,\n",
    "                   \"fizik\" : 50,\n",
    "                   \"kimya\" : 85}}\n",
    "sozluk"
   ]
  },
  {
   "cell_type": "code",
   "execution_count": 25,
   "id": "798c9ada",
   "metadata": {},
   "outputs": [
    {
     "name": "stdout",
     "output_type": "stream",
     "text": [
      "Öğrenci ismini giriniz : emine\n",
      "Ders ismini giriniz : kimya\n"
     ]
    },
    {
     "data": {
      "text/plain": [
       "90"
      ]
     },
     "execution_count": 25,
     "metadata": {},
     "output_type": "execute_result"
    }
   ],
   "source": [
    "isim = input(\"Öğrenci ismini giriniz : \")\n",
    "ders = input(\"Ders ismini giriniz : \")\n",
    "sozluk[isim][ders]"
   ]
  },
  {
   "cell_type": "code",
   "execution_count": 15,
   "id": "94f42cd9",
   "metadata": {},
   "outputs": [
    {
     "name": "stdout",
     "output_type": "stream",
     "text": [
      "Öğrenci ismini giriniz : ebru\n",
      "Ders ismini giriniz : matematik\n"
     ]
    },
    {
     "data": {
      "text/plain": [
       "90"
      ]
     },
     "execution_count": 15,
     "metadata": {},
     "output_type": "execute_result"
    }
   ],
   "source": [
    "sozluk[input(\"Öğrenci ismini giriniz : \")][input(\"Ders ismini giriniz : \")]"
   ]
  },
  {
   "cell_type": "code",
   "execution_count": 47,
   "id": "301990bf",
   "metadata": {},
   "outputs": [
    {
     "name": "stdout",
     "output_type": "stream",
     "text": [
      "Öğrenci ismini giriniz : ebru\n"
     ]
    },
    {
     "data": {
      "text/plain": [
       "{'matematik': 90, 'fizik': 50, 'kimya': 85}"
      ]
     },
     "execution_count": 47,
     "metadata": {},
     "output_type": "execute_result"
    }
   ],
   "source": [
    "sozluk[input(\"Öğrenci ismini giriniz : \")]"
   ]
  },
  {
   "cell_type": "markdown",
   "id": "082f13de",
   "metadata": {},
   "source": [
    "### Ödev 2\n",
    "\n",
    "Sözlük üzerinde değerleri değiştirme, yeni değer ekleme, kullanıcıya ulaşmak istediği bilgileri sorma gibi uygulamalar yapın."
   ]
  },
  {
   "cell_type": "code",
   "execution_count": 35,
   "id": "8e3ccb16",
   "metadata": {},
   "outputs": [
    {
     "data": {
      "text/plain": [
       "{'derya': {'matematik': 70, 'fizik': 80, 'kimya': 95},\n",
       " 'baki': {'matematik': 100, 'fizik': 75, 'kimya': 85},\n",
       " 'eray': {'matematik': 55, 'fizik': 60, 'kimya': 100},\n",
       " 'emine': {'matematik': 80, 'fizik': 80, 'kimya': 90},\n",
       " 'ebru': {'matematik': 90, 'fizik': 50, 'kimya': 85}}"
      ]
     },
     "execution_count": 35,
     "metadata": {},
     "output_type": "execute_result"
    }
   ],
   "source": [
    "sozluk"
   ]
  },
  {
   "cell_type": "code",
   "execution_count": 36,
   "id": "9f8cdb4a",
   "metadata": {},
   "outputs": [
    {
     "data": {
      "text/plain": [
       "{'derya': {'matematik': 70, 'fizik': 60, 'kimya': 95},\n",
       " 'baki': {'matematik': 100, 'fizik': 75, 'kimya': 85},\n",
       " 'eray': {'matematik': 55, 'fizik': 60, 'kimya': 100},\n",
       " 'emine': {'matematik': 80, 'fizik': 80, 'kimya': 90},\n",
       " 'ebru': {'matematik': 90, 'fizik': 50, 'kimya': 85}}"
      ]
     },
     "execution_count": 36,
     "metadata": {},
     "output_type": "execute_result"
    }
   ],
   "source": [
    "sozluk[\"derya\"][\"fizik\"] = 60\n",
    "sozluk"
   ]
  },
  {
   "cell_type": "code",
   "execution_count": 37,
   "id": "74f401ad",
   "metadata": {},
   "outputs": [
    {
     "data": {
      "text/plain": [
       "{'derya': {'matematik': 70, 'fizik': 60, 'kimya': 95},\n",
       " 'baki': {'matematik': 100, 'fizik': 75, 'kimya': 85},\n",
       " 'eray': {'matematik': 55, 'fizik': 60, 'kimya': 100},\n",
       " 'emine': {'matematik': 80, 'fizik': 80, 'kimya': 90},\n",
       " 'ebru': {'matematik': 90, 'fizik': 50, 'kimya': 85},\n",
       " 'egemen': {'matematik': 75, 'fizik': 60, 'kimya': 100}}"
      ]
     },
     "execution_count": 37,
     "metadata": {},
     "output_type": "execute_result"
    }
   ],
   "source": [
    "sozluk[\"egemen\"] = {'matematik': 75, 'fizik': 60, 'kimya': 100}\n",
    "sozluk"
   ]
  },
  {
   "cell_type": "code",
   "execution_count": 43,
   "id": "dda26d4d",
   "metadata": {},
   "outputs": [
    {
     "name": "stdout",
     "output_type": "stream",
     "text": [
      "Öğrenci ismini giriniz : egemen\n",
      "Ders ismini giriniz : fizik\n"
     ]
    },
    {
     "data": {
      "text/plain": [
       "60"
      ]
     },
     "execution_count": 43,
     "metadata": {},
     "output_type": "execute_result"
    }
   ],
   "source": [
    "sozluk[input(\"Öğrenci ismini giriniz : \")][input(\"Ders ismini giriniz : \")]"
   ]
  },
  {
   "cell_type": "code",
   "execution_count": 46,
   "id": "57fe8e3b",
   "metadata": {},
   "outputs": [
    {
     "name": "stdout",
     "output_type": "stream",
     "text": [
      "Öğrenci ismini giriniz : eray\n"
     ]
    },
    {
     "data": {
      "text/plain": [
       "{'matematik': 55, 'fizik': 60, 'kimya': 100}"
      ]
     },
     "execution_count": 46,
     "metadata": {},
     "output_type": "execute_result"
    }
   ],
   "source": [
    "sozluk[input(\"Öğrenci ismini giriniz : \")]"
   ]
  },
  {
   "cell_type": "code",
   "execution_count": 38,
   "id": "cc61287e",
   "metadata": {},
   "outputs": [
    {
     "name": "stdout",
     "output_type": "stream",
     "text": [
      "derya : matematik = 70\n",
      "derya : fizik = 60\n",
      "derya : kimya = 95\n",
      "baki : matematik = 100\n",
      "baki : fizik = 75\n",
      "baki : kimya = 85\n",
      "eray : matematik = 55\n",
      "eray : fizik = 60\n",
      "eray : kimya = 100\n",
      "emine : matematik = 80\n",
      "emine : fizik = 80\n",
      "emine : kimya = 90\n",
      "ebru : matematik = 90\n",
      "ebru : fizik = 50\n",
      "ebru : kimya = 85\n",
      "egemen : matematik = 75\n",
      "egemen : fizik = 60\n",
      "egemen : kimya = 100\n"
     ]
    }
   ],
   "source": [
    "for key,value in sozluk.items():\n",
    "    for key2,value2 in value.items():\n",
    "        print(f'{key} : {key2} = {value2}')"
   ]
  },
  {
   "cell_type": "code",
   "execution_count": 40,
   "id": "c0b381fd",
   "metadata": {},
   "outputs": [
    {
     "data": {
      "text/plain": [
       "['derya', 'baki', 'eray', 'emine', 'ebru', 'egemen']"
      ]
     },
     "execution_count": 40,
     "metadata": {},
     "output_type": "execute_result"
    }
   ],
   "source": [
    "keys = list(sozluk.keys())\n",
    "keys"
   ]
  },
  {
   "cell_type": "code",
   "execution_count": 42,
   "id": "a9c3caaa",
   "metadata": {},
   "outputs": [
    {
     "data": {
      "text/plain": [
       "[{'matematik': 70, 'fizik': 60, 'kimya': 95},\n",
       " {'matematik': 100, 'fizik': 75, 'kimya': 85},\n",
       " {'matematik': 55, 'fizik': 60, 'kimya': 100},\n",
       " {'matematik': 80, 'fizik': 80, 'kimya': 90},\n",
       " {'matematik': 90, 'fizik': 50, 'kimya': 85},\n",
       " {'matematik': 75, 'fizik': 60, 'kimya': 100}]"
      ]
     },
     "execution_count": 42,
     "metadata": {},
     "output_type": "execute_result"
    }
   ],
   "source": [
    "values = list(sozluk.values())\n",
    "values"
   ]
  }
 ],
 "metadata": {
  "kernelspec": {
   "display_name": "Python 3 (ipykernel)",
   "language": "python",
   "name": "python3"
  },
  "language_info": {
   "codemirror_mode": {
    "name": "ipython",
    "version": 3
   },
   "file_extension": ".py",
   "mimetype": "text/x-python",
   "name": "python",
   "nbconvert_exporter": "python",
   "pygments_lexer": "ipython3",
   "version": "3.11.7"
  }
 },
 "nbformat": 4,
 "nbformat_minor": 5
}
