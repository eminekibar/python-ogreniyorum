{
 "cells": [
  {
   "cell_type": "code",
   "execution_count": 335,
   "metadata": {},
   "outputs": [],
   "source": [
    "import pandas as pd\n",
    "import plotly.express as px\n",
    "import matplotlib.pyplot as plt"
   ]
  },
  {
   "cell_type": "code",
   "execution_count": 336,
   "metadata": {},
   "outputs": [
    {
     "data": {
      "text/html": [
       "<div>\n",
       "<style scoped>\n",
       "    .dataframe tbody tr th:only-of-type {\n",
       "        vertical-align: middle;\n",
       "    }\n",
       "\n",
       "    .dataframe tbody tr th {\n",
       "        vertical-align: top;\n",
       "    }\n",
       "\n",
       "    .dataframe thead th {\n",
       "        text-align: right;\n",
       "    }\n",
       "</style>\n",
       "<table border=\"1\" class=\"dataframe\">\n",
       "  <thead>\n",
       "    <tr style=\"text-align: right;\">\n",
       "      <th></th>\n",
       "      <th>Entity</th>\n",
       "      <th>Year</th>\n",
       "      <th>Access to electricity (% of population)</th>\n",
       "      <th>Access to clean fuels for cooking</th>\n",
       "      <th>Renewable-electricity-generating-capacity-per-capita</th>\n",
       "      <th>Financial flows to developing countries (US $)</th>\n",
       "      <th>Renewable energy share in the total final energy consumption (%)</th>\n",
       "      <th>Electricity from fossil fuels (TWh)</th>\n",
       "      <th>Electricity from nuclear (TWh)</th>\n",
       "      <th>Electricity from renewables (TWh)</th>\n",
       "      <th>...</th>\n",
       "      <th>Primary energy consumption per capita (kWh/person)</th>\n",
       "      <th>Energy intensity level of primary energy (MJ/$2017 PPP GDP)</th>\n",
       "      <th>Value_co2_emissions_kt_by_country</th>\n",
       "      <th>Renewables (% equivalent primary energy)</th>\n",
       "      <th>gdp_growth</th>\n",
       "      <th>gdp_per_capita</th>\n",
       "      <th>Density\\n(P/Km2)</th>\n",
       "      <th>Land Area(Km2)</th>\n",
       "      <th>Latitude</th>\n",
       "      <th>Longitude</th>\n",
       "    </tr>\n",
       "  </thead>\n",
       "  <tbody>\n",
       "    <tr>\n",
       "      <th>0</th>\n",
       "      <td>Afghanistan</td>\n",
       "      <td>2000</td>\n",
       "      <td>1.613591</td>\n",
       "      <td>6.2</td>\n",
       "      <td>9.22</td>\n",
       "      <td>20000.0</td>\n",
       "      <td>44.99</td>\n",
       "      <td>0.16</td>\n",
       "      <td>0.0</td>\n",
       "      <td>0.31</td>\n",
       "      <td>...</td>\n",
       "      <td>302.59482</td>\n",
       "      <td>1.64</td>\n",
       "      <td>760.000000</td>\n",
       "      <td>NaN</td>\n",
       "      <td>NaN</td>\n",
       "      <td>NaN</td>\n",
       "      <td>60</td>\n",
       "      <td>652230.0</td>\n",
       "      <td>33.939110</td>\n",
       "      <td>67.709953</td>\n",
       "    </tr>\n",
       "    <tr>\n",
       "      <th>1</th>\n",
       "      <td>Afghanistan</td>\n",
       "      <td>2001</td>\n",
       "      <td>4.074574</td>\n",
       "      <td>7.2</td>\n",
       "      <td>8.86</td>\n",
       "      <td>130000.0</td>\n",
       "      <td>45.60</td>\n",
       "      <td>0.09</td>\n",
       "      <td>0.0</td>\n",
       "      <td>0.50</td>\n",
       "      <td>...</td>\n",
       "      <td>236.89185</td>\n",
       "      <td>1.74</td>\n",
       "      <td>730.000000</td>\n",
       "      <td>NaN</td>\n",
       "      <td>NaN</td>\n",
       "      <td>NaN</td>\n",
       "      <td>60</td>\n",
       "      <td>652230.0</td>\n",
       "      <td>33.939110</td>\n",
       "      <td>67.709953</td>\n",
       "    </tr>\n",
       "    <tr>\n",
       "      <th>2</th>\n",
       "      <td>Afghanistan</td>\n",
       "      <td>2002</td>\n",
       "      <td>9.409158</td>\n",
       "      <td>8.2</td>\n",
       "      <td>8.47</td>\n",
       "      <td>3950000.0</td>\n",
       "      <td>37.83</td>\n",
       "      <td>0.13</td>\n",
       "      <td>0.0</td>\n",
       "      <td>0.56</td>\n",
       "      <td>...</td>\n",
       "      <td>210.86215</td>\n",
       "      <td>1.40</td>\n",
       "      <td>1029.999971</td>\n",
       "      <td>NaN</td>\n",
       "      <td>NaN</td>\n",
       "      <td>179.426579</td>\n",
       "      <td>60</td>\n",
       "      <td>652230.0</td>\n",
       "      <td>33.939110</td>\n",
       "      <td>67.709953</td>\n",
       "    </tr>\n",
       "    <tr>\n",
       "      <th>3</th>\n",
       "      <td>Afghanistan</td>\n",
       "      <td>2003</td>\n",
       "      <td>14.738506</td>\n",
       "      <td>9.5</td>\n",
       "      <td>8.09</td>\n",
       "      <td>25970000.0</td>\n",
       "      <td>36.66</td>\n",
       "      <td>0.31</td>\n",
       "      <td>0.0</td>\n",
       "      <td>0.63</td>\n",
       "      <td>...</td>\n",
       "      <td>229.96822</td>\n",
       "      <td>1.40</td>\n",
       "      <td>1220.000029</td>\n",
       "      <td>NaN</td>\n",
       "      <td>8.832278</td>\n",
       "      <td>190.683814</td>\n",
       "      <td>60</td>\n",
       "      <td>652230.0</td>\n",
       "      <td>33.939110</td>\n",
       "      <td>67.709953</td>\n",
       "    </tr>\n",
       "    <tr>\n",
       "      <th>4</th>\n",
       "      <td>Afghanistan</td>\n",
       "      <td>2004</td>\n",
       "      <td>20.064968</td>\n",
       "      <td>10.9</td>\n",
       "      <td>7.75</td>\n",
       "      <td>NaN</td>\n",
       "      <td>44.24</td>\n",
       "      <td>0.33</td>\n",
       "      <td>0.0</td>\n",
       "      <td>0.56</td>\n",
       "      <td>...</td>\n",
       "      <td>204.23125</td>\n",
       "      <td>1.20</td>\n",
       "      <td>1029.999971</td>\n",
       "      <td>NaN</td>\n",
       "      <td>1.414118</td>\n",
       "      <td>211.382074</td>\n",
       "      <td>60</td>\n",
       "      <td>652230.0</td>\n",
       "      <td>33.939110</td>\n",
       "      <td>67.709953</td>\n",
       "    </tr>\n",
       "    <tr>\n",
       "      <th>...</th>\n",
       "      <td>...</td>\n",
       "      <td>...</td>\n",
       "      <td>...</td>\n",
       "      <td>...</td>\n",
       "      <td>...</td>\n",
       "      <td>...</td>\n",
       "      <td>...</td>\n",
       "      <td>...</td>\n",
       "      <td>...</td>\n",
       "      <td>...</td>\n",
       "      <td>...</td>\n",
       "      <td>...</td>\n",
       "      <td>...</td>\n",
       "      <td>...</td>\n",
       "      <td>...</td>\n",
       "      <td>...</td>\n",
       "      <td>...</td>\n",
       "      <td>...</td>\n",
       "      <td>...</td>\n",
       "      <td>...</td>\n",
       "      <td>...</td>\n",
       "    </tr>\n",
       "    <tr>\n",
       "      <th>3644</th>\n",
       "      <td>Zimbabwe</td>\n",
       "      <td>2016</td>\n",
       "      <td>42.561730</td>\n",
       "      <td>29.8</td>\n",
       "      <td>62.88</td>\n",
       "      <td>30000.0</td>\n",
       "      <td>81.90</td>\n",
       "      <td>3.50</td>\n",
       "      <td>0.0</td>\n",
       "      <td>3.32</td>\n",
       "      <td>...</td>\n",
       "      <td>3227.68020</td>\n",
       "      <td>10.00</td>\n",
       "      <td>11020.000460</td>\n",
       "      <td>NaN</td>\n",
       "      <td>0.755869</td>\n",
       "      <td>1464.588957</td>\n",
       "      <td>38</td>\n",
       "      <td>390757.0</td>\n",
       "      <td>-19.015438</td>\n",
       "      <td>29.154857</td>\n",
       "    </tr>\n",
       "    <tr>\n",
       "      <th>3645</th>\n",
       "      <td>Zimbabwe</td>\n",
       "      <td>2017</td>\n",
       "      <td>44.178635</td>\n",
       "      <td>29.8</td>\n",
       "      <td>62.33</td>\n",
       "      <td>5570000.0</td>\n",
       "      <td>82.46</td>\n",
       "      <td>3.05</td>\n",
       "      <td>0.0</td>\n",
       "      <td>4.30</td>\n",
       "      <td>...</td>\n",
       "      <td>3068.01150</td>\n",
       "      <td>9.51</td>\n",
       "      <td>10340.000150</td>\n",
       "      <td>NaN</td>\n",
       "      <td>4.709492</td>\n",
       "      <td>1235.189032</td>\n",
       "      <td>38</td>\n",
       "      <td>390757.0</td>\n",
       "      <td>-19.015438</td>\n",
       "      <td>29.154857</td>\n",
       "    </tr>\n",
       "    <tr>\n",
       "      <th>3646</th>\n",
       "      <td>Zimbabwe</td>\n",
       "      <td>2018</td>\n",
       "      <td>45.572647</td>\n",
       "      <td>29.9</td>\n",
       "      <td>82.53</td>\n",
       "      <td>10000.0</td>\n",
       "      <td>80.23</td>\n",
       "      <td>3.73</td>\n",
       "      <td>0.0</td>\n",
       "      <td>5.46</td>\n",
       "      <td>...</td>\n",
       "      <td>3441.98580</td>\n",
       "      <td>9.83</td>\n",
       "      <td>12380.000110</td>\n",
       "      <td>NaN</td>\n",
       "      <td>4.824211</td>\n",
       "      <td>1254.642265</td>\n",
       "      <td>38</td>\n",
       "      <td>390757.0</td>\n",
       "      <td>-19.015438</td>\n",
       "      <td>29.154857</td>\n",
       "    </tr>\n",
       "    <tr>\n",
       "      <th>3647</th>\n",
       "      <td>Zimbabwe</td>\n",
       "      <td>2019</td>\n",
       "      <td>46.781475</td>\n",
       "      <td>30.1</td>\n",
       "      <td>81.40</td>\n",
       "      <td>250000.0</td>\n",
       "      <td>81.50</td>\n",
       "      <td>3.66</td>\n",
       "      <td>0.0</td>\n",
       "      <td>4.58</td>\n",
       "      <td>...</td>\n",
       "      <td>3003.65530</td>\n",
       "      <td>10.47</td>\n",
       "      <td>11760.000230</td>\n",
       "      <td>NaN</td>\n",
       "      <td>-6.144236</td>\n",
       "      <td>1316.740657</td>\n",
       "      <td>38</td>\n",
       "      <td>390757.0</td>\n",
       "      <td>-19.015438</td>\n",
       "      <td>29.154857</td>\n",
       "    </tr>\n",
       "    <tr>\n",
       "      <th>3648</th>\n",
       "      <td>Zimbabwe</td>\n",
       "      <td>2020</td>\n",
       "      <td>52.747670</td>\n",
       "      <td>30.4</td>\n",
       "      <td>80.61</td>\n",
       "      <td>30000.0</td>\n",
       "      <td>81.90</td>\n",
       "      <td>3.40</td>\n",
       "      <td>0.0</td>\n",
       "      <td>4.19</td>\n",
       "      <td>...</td>\n",
       "      <td>2680.13180</td>\n",
       "      <td>10.00</td>\n",
       "      <td>NaN</td>\n",
       "      <td>NaN</td>\n",
       "      <td>-6.248748</td>\n",
       "      <td>1214.509820</td>\n",
       "      <td>38</td>\n",
       "      <td>390757.0</td>\n",
       "      <td>-19.015438</td>\n",
       "      <td>29.154857</td>\n",
       "    </tr>\n",
       "  </tbody>\n",
       "</table>\n",
       "<p>3649 rows × 21 columns</p>\n",
       "</div>"
      ],
      "text/plain": [
       "           Entity  Year  Access to electricity (% of population)  \\\n",
       "0     Afghanistan  2000                                 1.613591   \n",
       "1     Afghanistan  2001                                 4.074574   \n",
       "2     Afghanistan  2002                                 9.409158   \n",
       "3     Afghanistan  2003                                14.738506   \n",
       "4     Afghanistan  2004                                20.064968   \n",
       "...           ...   ...                                      ...   \n",
       "3644     Zimbabwe  2016                                42.561730   \n",
       "3645     Zimbabwe  2017                                44.178635   \n",
       "3646     Zimbabwe  2018                                45.572647   \n",
       "3647     Zimbabwe  2019                                46.781475   \n",
       "3648     Zimbabwe  2020                                52.747670   \n",
       "\n",
       "      Access to clean fuels for cooking  \\\n",
       "0                                   6.2   \n",
       "1                                   7.2   \n",
       "2                                   8.2   \n",
       "3                                   9.5   \n",
       "4                                  10.9   \n",
       "...                                 ...   \n",
       "3644                               29.8   \n",
       "3645                               29.8   \n",
       "3646                               29.9   \n",
       "3647                               30.1   \n",
       "3648                               30.4   \n",
       "\n",
       "      Renewable-electricity-generating-capacity-per-capita  \\\n",
       "0                                                  9.22      \n",
       "1                                                  8.86      \n",
       "2                                                  8.47      \n",
       "3                                                  8.09      \n",
       "4                                                  7.75      \n",
       "...                                                 ...      \n",
       "3644                                              62.88      \n",
       "3645                                              62.33      \n",
       "3646                                              82.53      \n",
       "3647                                              81.40      \n",
       "3648                                              80.61      \n",
       "\n",
       "      Financial flows to developing countries (US $)  \\\n",
       "0                                            20000.0   \n",
       "1                                           130000.0   \n",
       "2                                          3950000.0   \n",
       "3                                         25970000.0   \n",
       "4                                                NaN   \n",
       "...                                              ...   \n",
       "3644                                         30000.0   \n",
       "3645                                       5570000.0   \n",
       "3646                                         10000.0   \n",
       "3647                                        250000.0   \n",
       "3648                                         30000.0   \n",
       "\n",
       "      Renewable energy share in the total final energy consumption (%)  \\\n",
       "0                                                 44.99                  \n",
       "1                                                 45.60                  \n",
       "2                                                 37.83                  \n",
       "3                                                 36.66                  \n",
       "4                                                 44.24                  \n",
       "...                                                 ...                  \n",
       "3644                                              81.90                  \n",
       "3645                                              82.46                  \n",
       "3646                                              80.23                  \n",
       "3647                                              81.50                  \n",
       "3648                                              81.90                  \n",
       "\n",
       "      Electricity from fossil fuels (TWh)  Electricity from nuclear (TWh)  \\\n",
       "0                                    0.16                             0.0   \n",
       "1                                    0.09                             0.0   \n",
       "2                                    0.13                             0.0   \n",
       "3                                    0.31                             0.0   \n",
       "4                                    0.33                             0.0   \n",
       "...                                   ...                             ...   \n",
       "3644                                 3.50                             0.0   \n",
       "3645                                 3.05                             0.0   \n",
       "3646                                 3.73                             0.0   \n",
       "3647                                 3.66                             0.0   \n",
       "3648                                 3.40                             0.0   \n",
       "\n",
       "      Electricity from renewables (TWh)  ...  \\\n",
       "0                                  0.31  ...   \n",
       "1                                  0.50  ...   \n",
       "2                                  0.56  ...   \n",
       "3                                  0.63  ...   \n",
       "4                                  0.56  ...   \n",
       "...                                 ...  ...   \n",
       "3644                               3.32  ...   \n",
       "3645                               4.30  ...   \n",
       "3646                               5.46  ...   \n",
       "3647                               4.58  ...   \n",
       "3648                               4.19  ...   \n",
       "\n",
       "      Primary energy consumption per capita (kWh/person)  \\\n",
       "0                                             302.59482    \n",
       "1                                             236.89185    \n",
       "2                                             210.86215    \n",
       "3                                             229.96822    \n",
       "4                                             204.23125    \n",
       "...                                                 ...    \n",
       "3644                                         3227.68020    \n",
       "3645                                         3068.01150    \n",
       "3646                                         3441.98580    \n",
       "3647                                         3003.65530    \n",
       "3648                                         2680.13180    \n",
       "\n",
       "      Energy intensity level of primary energy (MJ/$2017 PPP GDP)  \\\n",
       "0                                                  1.64             \n",
       "1                                                  1.74             \n",
       "2                                                  1.40             \n",
       "3                                                  1.40             \n",
       "4                                                  1.20             \n",
       "...                                                 ...             \n",
       "3644                                              10.00             \n",
       "3645                                               9.51             \n",
       "3646                                               9.83             \n",
       "3647                                              10.47             \n",
       "3648                                              10.00             \n",
       "\n",
       "      Value_co2_emissions_kt_by_country  \\\n",
       "0                            760.000000   \n",
       "1                            730.000000   \n",
       "2                           1029.999971   \n",
       "3                           1220.000029   \n",
       "4                           1029.999971   \n",
       "...                                 ...   \n",
       "3644                       11020.000460   \n",
       "3645                       10340.000150   \n",
       "3646                       12380.000110   \n",
       "3647                       11760.000230   \n",
       "3648                                NaN   \n",
       "\n",
       "      Renewables (% equivalent primary energy)  gdp_growth  gdp_per_capita  \\\n",
       "0                                          NaN         NaN             NaN   \n",
       "1                                          NaN         NaN             NaN   \n",
       "2                                          NaN         NaN      179.426579   \n",
       "3                                          NaN    8.832278      190.683814   \n",
       "4                                          NaN    1.414118      211.382074   \n",
       "...                                        ...         ...             ...   \n",
       "3644                                       NaN    0.755869     1464.588957   \n",
       "3645                                       NaN    4.709492     1235.189032   \n",
       "3646                                       NaN    4.824211     1254.642265   \n",
       "3647                                       NaN   -6.144236     1316.740657   \n",
       "3648                                       NaN   -6.248748     1214.509820   \n",
       "\n",
       "      Density\\n(P/Km2) Land Area(Km2)   Latitude  Longitude  \n",
       "0                   60       652230.0  33.939110  67.709953  \n",
       "1                   60       652230.0  33.939110  67.709953  \n",
       "2                   60       652230.0  33.939110  67.709953  \n",
       "3                   60       652230.0  33.939110  67.709953  \n",
       "4                   60       652230.0  33.939110  67.709953  \n",
       "...                ...            ...        ...        ...  \n",
       "3644                38       390757.0 -19.015438  29.154857  \n",
       "3645                38       390757.0 -19.015438  29.154857  \n",
       "3646                38       390757.0 -19.015438  29.154857  \n",
       "3647                38       390757.0 -19.015438  29.154857  \n",
       "3648                38       390757.0 -19.015438  29.154857  \n",
       "\n",
       "[3649 rows x 21 columns]"
      ]
     },
     "execution_count": 336,
     "metadata": {},
     "output_type": "execute_result"
    }
   ],
   "source": [
    "# veri setini yüklüyoruz\n",
    "data = pd.read_csv(\"C:/Users/Emine/Desktop/global-data-on-sustainable-energyy.csv\")\n",
    "data"
   ]
  },
  {
   "cell_type": "code",
   "execution_count": 337,
   "metadata": {},
   "outputs": [
    {
     "data": {
      "text/html": [
       "<div>\n",
       "<style scoped>\n",
       "    .dataframe tbody tr th:only-of-type {\n",
       "        vertical-align: middle;\n",
       "    }\n",
       "\n",
       "    .dataframe tbody tr th {\n",
       "        vertical-align: top;\n",
       "    }\n",
       "\n",
       "    .dataframe thead th {\n",
       "        text-align: right;\n",
       "    }\n",
       "</style>\n",
       "<table border=\"1\" class=\"dataframe\">\n",
       "  <thead>\n",
       "    <tr style=\"text-align: right;\">\n",
       "      <th></th>\n",
       "      <th>Entity</th>\n",
       "      <th>Year</th>\n",
       "      <th>Access to electricity (% of population)</th>\n",
       "      <th>Access to clean fuels for cooking</th>\n",
       "      <th>Renewable-electricity-generating-capacity-per-capita</th>\n",
       "      <th>Financial flows to developing countries (US $)</th>\n",
       "      <th>Renewable energy share in the total final energy consumption (%)</th>\n",
       "      <th>Electricity from fossil fuels (TWh)</th>\n",
       "      <th>Electricity from nuclear (TWh)</th>\n",
       "      <th>Electricity from renewables (TWh)</th>\n",
       "      <th>...</th>\n",
       "      <th>Primary energy consumption per capita (kWh/person)</th>\n",
       "      <th>Energy intensity level of primary energy (MJ/$2017 PPP GDP)</th>\n",
       "      <th>Value_co2_emissions_kt_by_country</th>\n",
       "      <th>Renewables (% equivalent primary energy)</th>\n",
       "      <th>gdp_growth</th>\n",
       "      <th>gdp_per_capita</th>\n",
       "      <th>Density\\n(P/Km2)</th>\n",
       "      <th>Land Area(Km2)</th>\n",
       "      <th>Latitude</th>\n",
       "      <th>Longitude</th>\n",
       "    </tr>\n",
       "  </thead>\n",
       "  <tbody>\n",
       "    <tr>\n",
       "      <th>0</th>\n",
       "      <td>Afghanistan</td>\n",
       "      <td>2000</td>\n",
       "      <td>1.613591</td>\n",
       "      <td>6.20</td>\n",
       "      <td>9.22</td>\n",
       "      <td>20000.0</td>\n",
       "      <td>44.99</td>\n",
       "      <td>0.16</td>\n",
       "      <td>0.0</td>\n",
       "      <td>0.31</td>\n",
       "      <td>...</td>\n",
       "      <td>302.59482</td>\n",
       "      <td>1.64</td>\n",
       "      <td>760.000000</td>\n",
       "      <td>NaN</td>\n",
       "      <td>NaN</td>\n",
       "      <td>NaN</td>\n",
       "      <td>60</td>\n",
       "      <td>652230.0</td>\n",
       "      <td>33.93911</td>\n",
       "      <td>67.709953</td>\n",
       "    </tr>\n",
       "    <tr>\n",
       "      <th>1</th>\n",
       "      <td>Afghanistan</td>\n",
       "      <td>2001</td>\n",
       "      <td>4.074574</td>\n",
       "      <td>7.20</td>\n",
       "      <td>8.86</td>\n",
       "      <td>130000.0</td>\n",
       "      <td>45.60</td>\n",
       "      <td>0.09</td>\n",
       "      <td>0.0</td>\n",
       "      <td>0.50</td>\n",
       "      <td>...</td>\n",
       "      <td>236.89185</td>\n",
       "      <td>1.74</td>\n",
       "      <td>730.000000</td>\n",
       "      <td>NaN</td>\n",
       "      <td>NaN</td>\n",
       "      <td>NaN</td>\n",
       "      <td>60</td>\n",
       "      <td>652230.0</td>\n",
       "      <td>33.93911</td>\n",
       "      <td>67.709953</td>\n",
       "    </tr>\n",
       "    <tr>\n",
       "      <th>2</th>\n",
       "      <td>Afghanistan</td>\n",
       "      <td>2002</td>\n",
       "      <td>9.409158</td>\n",
       "      <td>8.20</td>\n",
       "      <td>8.47</td>\n",
       "      <td>3950000.0</td>\n",
       "      <td>37.83</td>\n",
       "      <td>0.13</td>\n",
       "      <td>0.0</td>\n",
       "      <td>0.56</td>\n",
       "      <td>...</td>\n",
       "      <td>210.86215</td>\n",
       "      <td>1.40</td>\n",
       "      <td>1029.999971</td>\n",
       "      <td>NaN</td>\n",
       "      <td>NaN</td>\n",
       "      <td>179.426579</td>\n",
       "      <td>60</td>\n",
       "      <td>652230.0</td>\n",
       "      <td>33.93911</td>\n",
       "      <td>67.709953</td>\n",
       "    </tr>\n",
       "    <tr>\n",
       "      <th>3</th>\n",
       "      <td>Afghanistan</td>\n",
       "      <td>2003</td>\n",
       "      <td>14.738506</td>\n",
       "      <td>9.50</td>\n",
       "      <td>8.09</td>\n",
       "      <td>25970000.0</td>\n",
       "      <td>36.66</td>\n",
       "      <td>0.31</td>\n",
       "      <td>0.0</td>\n",
       "      <td>0.63</td>\n",
       "      <td>...</td>\n",
       "      <td>229.96822</td>\n",
       "      <td>1.40</td>\n",
       "      <td>1220.000029</td>\n",
       "      <td>NaN</td>\n",
       "      <td>8.832278</td>\n",
       "      <td>190.683814</td>\n",
       "      <td>60</td>\n",
       "      <td>652230.0</td>\n",
       "      <td>33.93911</td>\n",
       "      <td>67.709953</td>\n",
       "    </tr>\n",
       "    <tr>\n",
       "      <th>4</th>\n",
       "      <td>Afghanistan</td>\n",
       "      <td>2004</td>\n",
       "      <td>20.064968</td>\n",
       "      <td>10.90</td>\n",
       "      <td>7.75</td>\n",
       "      <td>NaN</td>\n",
       "      <td>44.24</td>\n",
       "      <td>0.33</td>\n",
       "      <td>0.0</td>\n",
       "      <td>0.56</td>\n",
       "      <td>...</td>\n",
       "      <td>204.23125</td>\n",
       "      <td>1.20</td>\n",
       "      <td>1029.999971</td>\n",
       "      <td>NaN</td>\n",
       "      <td>1.414118</td>\n",
       "      <td>211.382074</td>\n",
       "      <td>60</td>\n",
       "      <td>652230.0</td>\n",
       "      <td>33.93911</td>\n",
       "      <td>67.709953</td>\n",
       "    </tr>\n",
       "    <tr>\n",
       "      <th>5</th>\n",
       "      <td>Afghanistan</td>\n",
       "      <td>2005</td>\n",
       "      <td>25.390894</td>\n",
       "      <td>12.20</td>\n",
       "      <td>7.51</td>\n",
       "      <td>9830000.0</td>\n",
       "      <td>33.88</td>\n",
       "      <td>0.34</td>\n",
       "      <td>0.0</td>\n",
       "      <td>0.59</td>\n",
       "      <td>...</td>\n",
       "      <td>252.06912</td>\n",
       "      <td>1.41</td>\n",
       "      <td>1549.999952</td>\n",
       "      <td>NaN</td>\n",
       "      <td>11.229715</td>\n",
       "      <td>242.031313</td>\n",
       "      <td>60</td>\n",
       "      <td>652230.0</td>\n",
       "      <td>33.93911</td>\n",
       "      <td>67.709953</td>\n",
       "    </tr>\n",
       "    <tr>\n",
       "      <th>6</th>\n",
       "      <td>Afghanistan</td>\n",
       "      <td>2006</td>\n",
       "      <td>30.718690</td>\n",
       "      <td>13.85</td>\n",
       "      <td>7.40</td>\n",
       "      <td>10620000.0</td>\n",
       "      <td>31.89</td>\n",
       "      <td>0.20</td>\n",
       "      <td>0.0</td>\n",
       "      <td>0.64</td>\n",
       "      <td>...</td>\n",
       "      <td>304.42090</td>\n",
       "      <td>1.50</td>\n",
       "      <td>1759.999990</td>\n",
       "      <td>NaN</td>\n",
       "      <td>5.357403</td>\n",
       "      <td>263.733602</td>\n",
       "      <td>60</td>\n",
       "      <td>652230.0</td>\n",
       "      <td>33.93911</td>\n",
       "      <td>67.709953</td>\n",
       "    </tr>\n",
       "    <tr>\n",
       "      <th>7</th>\n",
       "      <td>Afghanistan</td>\n",
       "      <td>2007</td>\n",
       "      <td>36.051010</td>\n",
       "      <td>15.30</td>\n",
       "      <td>7.25</td>\n",
       "      <td>15750000.0</td>\n",
       "      <td>28.78</td>\n",
       "      <td>0.20</td>\n",
       "      <td>0.0</td>\n",
       "      <td>0.75</td>\n",
       "      <td>...</td>\n",
       "      <td>354.27990</td>\n",
       "      <td>1.53</td>\n",
       "      <td>1769.999981</td>\n",
       "      <td>NaN</td>\n",
       "      <td>13.826320</td>\n",
       "      <td>359.693158</td>\n",
       "      <td>60</td>\n",
       "      <td>652230.0</td>\n",
       "      <td>33.93911</td>\n",
       "      <td>67.709953</td>\n",
       "    </tr>\n",
       "    <tr>\n",
       "      <th>8</th>\n",
       "      <td>Afghanistan</td>\n",
       "      <td>2008</td>\n",
       "      <td>42.400000</td>\n",
       "      <td>16.70</td>\n",
       "      <td>7.49</td>\n",
       "      <td>16170000.0</td>\n",
       "      <td>21.17</td>\n",
       "      <td>0.19</td>\n",
       "      <td>0.0</td>\n",
       "      <td>0.54</td>\n",
       "      <td>...</td>\n",
       "      <td>607.83350</td>\n",
       "      <td>1.94</td>\n",
       "      <td>3559.999943</td>\n",
       "      <td>NaN</td>\n",
       "      <td>3.924984</td>\n",
       "      <td>364.663542</td>\n",
       "      <td>60</td>\n",
       "      <td>652230.0</td>\n",
       "      <td>33.93911</td>\n",
       "      <td>67.709953</td>\n",
       "    </tr>\n",
       "    <tr>\n",
       "      <th>9</th>\n",
       "      <td>Afghanistan</td>\n",
       "      <td>2009</td>\n",
       "      <td>46.740050</td>\n",
       "      <td>18.40</td>\n",
       "      <td>7.50</td>\n",
       "      <td>9960000.0</td>\n",
       "      <td>16.53</td>\n",
       "      <td>0.16</td>\n",
       "      <td>0.0</td>\n",
       "      <td>0.78</td>\n",
       "      <td>...</td>\n",
       "      <td>975.04816</td>\n",
       "      <td>2.25</td>\n",
       "      <td>4880.000114</td>\n",
       "      <td>NaN</td>\n",
       "      <td>21.390528</td>\n",
       "      <td>437.268740</td>\n",
       "      <td>60</td>\n",
       "      <td>652230.0</td>\n",
       "      <td>33.93911</td>\n",
       "      <td>67.709953</td>\n",
       "    </tr>\n",
       "    <tr>\n",
       "      <th>10</th>\n",
       "      <td>Afghanistan</td>\n",
       "      <td>2010</td>\n",
       "      <td>42.700000</td>\n",
       "      <td>20.00</td>\n",
       "      <td>8.27</td>\n",
       "      <td>36500000.0</td>\n",
       "      <td>15.15</td>\n",
       "      <td>0.19</td>\n",
       "      <td>0.0</td>\n",
       "      <td>0.75</td>\n",
       "      <td>...</td>\n",
       "      <td>1182.89200</td>\n",
       "      <td>2.46</td>\n",
       "      <td>7110.000134</td>\n",
       "      <td>NaN</td>\n",
       "      <td>14.362441</td>\n",
       "      <td>543.306526</td>\n",
       "      <td>60</td>\n",
       "      <td>652230.0</td>\n",
       "      <td>33.93911</td>\n",
       "      <td>67.709953</td>\n",
       "    </tr>\n",
       "    <tr>\n",
       "      <th>11</th>\n",
       "      <td>Afghanistan</td>\n",
       "      <td>2011</td>\n",
       "      <td>43.222020</td>\n",
       "      <td>21.80</td>\n",
       "      <td>8.13</td>\n",
       "      <td>28690000.0</td>\n",
       "      <td>12.61</td>\n",
       "      <td>0.18</td>\n",
       "      <td>0.0</td>\n",
       "      <td>0.60</td>\n",
       "      <td>...</td>\n",
       "      <td>1436.11430</td>\n",
       "      <td>3.23</td>\n",
       "      <td>8930.000305</td>\n",
       "      <td>NaN</td>\n",
       "      <td>0.426355</td>\n",
       "      <td>591.190030</td>\n",
       "      <td>60</td>\n",
       "      <td>652230.0</td>\n",
       "      <td>33.93911</td>\n",
       "      <td>67.709953</td>\n",
       "    </tr>\n",
       "    <tr>\n",
       "      <th>12</th>\n",
       "      <td>Afghanistan</td>\n",
       "      <td>2012</td>\n",
       "      <td>69.100000</td>\n",
       "      <td>23.00</td>\n",
       "      <td>9.29</td>\n",
       "      <td>62630000.0</td>\n",
       "      <td>15.36</td>\n",
       "      <td>0.14</td>\n",
       "      <td>0.0</td>\n",
       "      <td>0.74</td>\n",
       "      <td>...</td>\n",
       "      <td>1324.12110</td>\n",
       "      <td>2.61</td>\n",
       "      <td>8079.999924</td>\n",
       "      <td>NaN</td>\n",
       "      <td>12.752287</td>\n",
       "      <td>638.845852</td>\n",
       "      <td>60</td>\n",
       "      <td>652230.0</td>\n",
       "      <td>33.93911</td>\n",
       "      <td>67.709953</td>\n",
       "    </tr>\n",
       "    <tr>\n",
       "      <th>13</th>\n",
       "      <td>Afghanistan</td>\n",
       "      <td>2013</td>\n",
       "      <td>68.290650</td>\n",
       "      <td>24.80</td>\n",
       "      <td>9.10</td>\n",
       "      <td>268460000.0</td>\n",
       "      <td>16.86</td>\n",
       "      <td>0.22</td>\n",
       "      <td>0.0</td>\n",
       "      <td>0.89</td>\n",
       "      <td>...</td>\n",
       "      <td>1060.79260</td>\n",
       "      <td>2.46</td>\n",
       "      <td>5989.999771</td>\n",
       "      <td>NaN</td>\n",
       "      <td>5.600745</td>\n",
       "      <td>624.315454</td>\n",
       "      <td>60</td>\n",
       "      <td>652230.0</td>\n",
       "      <td>33.93911</td>\n",
       "      <td>67.709953</td>\n",
       "    </tr>\n",
       "    <tr>\n",
       "      <th>14</th>\n",
       "      <td>Afghanistan</td>\n",
       "      <td>2014</td>\n",
       "      <td>89.500000</td>\n",
       "      <td>26.10</td>\n",
       "      <td>8.95</td>\n",
       "      <td>6940000.0</td>\n",
       "      <td>18.93</td>\n",
       "      <td>0.16</td>\n",
       "      <td>0.0</td>\n",
       "      <td>1.00</td>\n",
       "      <td>...</td>\n",
       "      <td>868.57620</td>\n",
       "      <td>2.25</td>\n",
       "      <td>4880.000114</td>\n",
       "      <td>NaN</td>\n",
       "      <td>2.724543</td>\n",
       "      <td>614.223342</td>\n",
       "      <td>60</td>\n",
       "      <td>652230.0</td>\n",
       "      <td>33.93911</td>\n",
       "      <td>67.709953</td>\n",
       "    </tr>\n",
       "  </tbody>\n",
       "</table>\n",
       "<p>15 rows × 21 columns</p>\n",
       "</div>"
      ],
      "text/plain": [
       "         Entity  Year  Access to electricity (% of population)  \\\n",
       "0   Afghanistan  2000                                 1.613591   \n",
       "1   Afghanistan  2001                                 4.074574   \n",
       "2   Afghanistan  2002                                 9.409158   \n",
       "3   Afghanistan  2003                                14.738506   \n",
       "4   Afghanistan  2004                                20.064968   \n",
       "5   Afghanistan  2005                                25.390894   \n",
       "6   Afghanistan  2006                                30.718690   \n",
       "7   Afghanistan  2007                                36.051010   \n",
       "8   Afghanistan  2008                                42.400000   \n",
       "9   Afghanistan  2009                                46.740050   \n",
       "10  Afghanistan  2010                                42.700000   \n",
       "11  Afghanistan  2011                                43.222020   \n",
       "12  Afghanistan  2012                                69.100000   \n",
       "13  Afghanistan  2013                                68.290650   \n",
       "14  Afghanistan  2014                                89.500000   \n",
       "\n",
       "    Access to clean fuels for cooking  \\\n",
       "0                                6.20   \n",
       "1                                7.20   \n",
       "2                                8.20   \n",
       "3                                9.50   \n",
       "4                               10.90   \n",
       "5                               12.20   \n",
       "6                               13.85   \n",
       "7                               15.30   \n",
       "8                               16.70   \n",
       "9                               18.40   \n",
       "10                              20.00   \n",
       "11                              21.80   \n",
       "12                              23.00   \n",
       "13                              24.80   \n",
       "14                              26.10   \n",
       "\n",
       "    Renewable-electricity-generating-capacity-per-capita  \\\n",
       "0                                                9.22      \n",
       "1                                                8.86      \n",
       "2                                                8.47      \n",
       "3                                                8.09      \n",
       "4                                                7.75      \n",
       "5                                                7.51      \n",
       "6                                                7.40      \n",
       "7                                                7.25      \n",
       "8                                                7.49      \n",
       "9                                                7.50      \n",
       "10                                               8.27      \n",
       "11                                               8.13      \n",
       "12                                               9.29      \n",
       "13                                               9.10      \n",
       "14                                               8.95      \n",
       "\n",
       "    Financial flows to developing countries (US $)  \\\n",
       "0                                          20000.0   \n",
       "1                                         130000.0   \n",
       "2                                        3950000.0   \n",
       "3                                       25970000.0   \n",
       "4                                              NaN   \n",
       "5                                        9830000.0   \n",
       "6                                       10620000.0   \n",
       "7                                       15750000.0   \n",
       "8                                       16170000.0   \n",
       "9                                        9960000.0   \n",
       "10                                      36500000.0   \n",
       "11                                      28690000.0   \n",
       "12                                      62630000.0   \n",
       "13                                     268460000.0   \n",
       "14                                       6940000.0   \n",
       "\n",
       "    Renewable energy share in the total final energy consumption (%)  \\\n",
       "0                                               44.99                  \n",
       "1                                               45.60                  \n",
       "2                                               37.83                  \n",
       "3                                               36.66                  \n",
       "4                                               44.24                  \n",
       "5                                               33.88                  \n",
       "6                                               31.89                  \n",
       "7                                               28.78                  \n",
       "8                                               21.17                  \n",
       "9                                               16.53                  \n",
       "10                                              15.15                  \n",
       "11                                              12.61                  \n",
       "12                                              15.36                  \n",
       "13                                              16.86                  \n",
       "14                                              18.93                  \n",
       "\n",
       "    Electricity from fossil fuels (TWh)  Electricity from nuclear (TWh)  \\\n",
       "0                                  0.16                             0.0   \n",
       "1                                  0.09                             0.0   \n",
       "2                                  0.13                             0.0   \n",
       "3                                  0.31                             0.0   \n",
       "4                                  0.33                             0.0   \n",
       "5                                  0.34                             0.0   \n",
       "6                                  0.20                             0.0   \n",
       "7                                  0.20                             0.0   \n",
       "8                                  0.19                             0.0   \n",
       "9                                  0.16                             0.0   \n",
       "10                                 0.19                             0.0   \n",
       "11                                 0.18                             0.0   \n",
       "12                                 0.14                             0.0   \n",
       "13                                 0.22                             0.0   \n",
       "14                                 0.16                             0.0   \n",
       "\n",
       "    Electricity from renewables (TWh)  ...  \\\n",
       "0                                0.31  ...   \n",
       "1                                0.50  ...   \n",
       "2                                0.56  ...   \n",
       "3                                0.63  ...   \n",
       "4                                0.56  ...   \n",
       "5                                0.59  ...   \n",
       "6                                0.64  ...   \n",
       "7                                0.75  ...   \n",
       "8                                0.54  ...   \n",
       "9                                0.78  ...   \n",
       "10                               0.75  ...   \n",
       "11                               0.60  ...   \n",
       "12                               0.74  ...   \n",
       "13                               0.89  ...   \n",
       "14                               1.00  ...   \n",
       "\n",
       "    Primary energy consumption per capita (kWh/person)  \\\n",
       "0                                           302.59482    \n",
       "1                                           236.89185    \n",
       "2                                           210.86215    \n",
       "3                                           229.96822    \n",
       "4                                           204.23125    \n",
       "5                                           252.06912    \n",
       "6                                           304.42090    \n",
       "7                                           354.27990    \n",
       "8                                           607.83350    \n",
       "9                                           975.04816    \n",
       "10                                         1182.89200    \n",
       "11                                         1436.11430    \n",
       "12                                         1324.12110    \n",
       "13                                         1060.79260    \n",
       "14                                          868.57620    \n",
       "\n",
       "    Energy intensity level of primary energy (MJ/$2017 PPP GDP)  \\\n",
       "0                                                1.64             \n",
       "1                                                1.74             \n",
       "2                                                1.40             \n",
       "3                                                1.40             \n",
       "4                                                1.20             \n",
       "5                                                1.41             \n",
       "6                                                1.50             \n",
       "7                                                1.53             \n",
       "8                                                1.94             \n",
       "9                                                2.25             \n",
       "10                                               2.46             \n",
       "11                                               3.23             \n",
       "12                                               2.61             \n",
       "13                                               2.46             \n",
       "14                                               2.25             \n",
       "\n",
       "    Value_co2_emissions_kt_by_country  \\\n",
       "0                          760.000000   \n",
       "1                          730.000000   \n",
       "2                         1029.999971   \n",
       "3                         1220.000029   \n",
       "4                         1029.999971   \n",
       "5                         1549.999952   \n",
       "6                         1759.999990   \n",
       "7                         1769.999981   \n",
       "8                         3559.999943   \n",
       "9                         4880.000114   \n",
       "10                        7110.000134   \n",
       "11                        8930.000305   \n",
       "12                        8079.999924   \n",
       "13                        5989.999771   \n",
       "14                        4880.000114   \n",
       "\n",
       "    Renewables (% equivalent primary energy)  gdp_growth  gdp_per_capita  \\\n",
       "0                                        NaN         NaN             NaN   \n",
       "1                                        NaN         NaN             NaN   \n",
       "2                                        NaN         NaN      179.426579   \n",
       "3                                        NaN    8.832278      190.683814   \n",
       "4                                        NaN    1.414118      211.382074   \n",
       "5                                        NaN   11.229715      242.031313   \n",
       "6                                        NaN    5.357403      263.733602   \n",
       "7                                        NaN   13.826320      359.693158   \n",
       "8                                        NaN    3.924984      364.663542   \n",
       "9                                        NaN   21.390528      437.268740   \n",
       "10                                       NaN   14.362441      543.306526   \n",
       "11                                       NaN    0.426355      591.190030   \n",
       "12                                       NaN   12.752287      638.845852   \n",
       "13                                       NaN    5.600745      624.315454   \n",
       "14                                       NaN    2.724543      614.223342   \n",
       "\n",
       "    Density\\n(P/Km2) Land Area(Km2)  Latitude  Longitude  \n",
       "0                 60       652230.0  33.93911  67.709953  \n",
       "1                 60       652230.0  33.93911  67.709953  \n",
       "2                 60       652230.0  33.93911  67.709953  \n",
       "3                 60       652230.0  33.93911  67.709953  \n",
       "4                 60       652230.0  33.93911  67.709953  \n",
       "5                 60       652230.0  33.93911  67.709953  \n",
       "6                 60       652230.0  33.93911  67.709953  \n",
       "7                 60       652230.0  33.93911  67.709953  \n",
       "8                 60       652230.0  33.93911  67.709953  \n",
       "9                 60       652230.0  33.93911  67.709953  \n",
       "10                60       652230.0  33.93911  67.709953  \n",
       "11                60       652230.0  33.93911  67.709953  \n",
       "12                60       652230.0  33.93911  67.709953  \n",
       "13                60       652230.0  33.93911  67.709953  \n",
       "14                60       652230.0  33.93911  67.709953  \n",
       "\n",
       "[15 rows x 21 columns]"
      ]
     },
     "execution_count": 337,
     "metadata": {},
     "output_type": "execute_result"
    }
   ],
   "source": [
    "# ilk 15 veriye bakıyoruz\n",
    "data.head(15)"
   ]
  },
  {
   "cell_type": "code",
   "execution_count": 338,
   "metadata": {},
   "outputs": [
    {
     "data": {
      "text/html": [
       "<div>\n",
       "<style scoped>\n",
       "    .dataframe tbody tr th:only-of-type {\n",
       "        vertical-align: middle;\n",
       "    }\n",
       "\n",
       "    .dataframe tbody tr th {\n",
       "        vertical-align: top;\n",
       "    }\n",
       "\n",
       "    .dataframe thead th {\n",
       "        text-align: right;\n",
       "    }\n",
       "</style>\n",
       "<table border=\"1\" class=\"dataframe\">\n",
       "  <thead>\n",
       "    <tr style=\"text-align: right;\">\n",
       "      <th></th>\n",
       "      <th>Entity</th>\n",
       "      <th>Year</th>\n",
       "      <th>Access to electricity (% of population)</th>\n",
       "      <th>Access to clean fuels for cooking</th>\n",
       "      <th>Renewable-electricity-generating-capacity-per-capita</th>\n",
       "      <th>Financial flows to developing countries (US $)</th>\n",
       "      <th>Renewable energy share in the total final energy consumption (%)</th>\n",
       "      <th>Electricity from fossil fuels (TWh)</th>\n",
       "      <th>Electricity from nuclear (TWh)</th>\n",
       "      <th>Electricity from renewables (TWh)</th>\n",
       "      <th>...</th>\n",
       "      <th>Primary energy consumption per capita (kWh/person)</th>\n",
       "      <th>Energy intensity level of primary energy (MJ/$2017 PPP GDP)</th>\n",
       "      <th>Value_co2_emissions_kt_by_country</th>\n",
       "      <th>Renewables (% equivalent primary energy)</th>\n",
       "      <th>gdp_growth</th>\n",
       "      <th>gdp_per_capita</th>\n",
       "      <th>Density\\n(P/Km2)</th>\n",
       "      <th>Land Area(Km2)</th>\n",
       "      <th>Latitude</th>\n",
       "      <th>Longitude</th>\n",
       "    </tr>\n",
       "  </thead>\n",
       "  <tbody>\n",
       "    <tr>\n",
       "      <th>3634</th>\n",
       "      <td>Zimbabwe</td>\n",
       "      <td>2006</td>\n",
       "      <td>37.200000</td>\n",
       "      <td>31.40</td>\n",
       "      <td>61.68</td>\n",
       "      <td>NaN</td>\n",
       "      <td>78.59</td>\n",
       "      <td>2.23</td>\n",
       "      <td>0.0</td>\n",
       "      <td>5.45</td>\n",
       "      <td>...</td>\n",
       "      <td>4158.7817</td>\n",
       "      <td>14.09</td>\n",
       "      <td>9829.999924</td>\n",
       "      <td>NaN</td>\n",
       "      <td>-3.461495</td>\n",
       "      <td>447.854740</td>\n",
       "      <td>38</td>\n",
       "      <td>390757.0</td>\n",
       "      <td>-19.015438</td>\n",
       "      <td>29.154857</td>\n",
       "    </tr>\n",
       "    <tr>\n",
       "      <th>3635</th>\n",
       "      <td>Zimbabwe</td>\n",
       "      <td>2007</td>\n",
       "      <td>37.204010</td>\n",
       "      <td>31.00</td>\n",
       "      <td>61.18</td>\n",
       "      <td>NaN</td>\n",
       "      <td>77.97</td>\n",
       "      <td>1.86</td>\n",
       "      <td>0.0</td>\n",
       "      <td>5.49</td>\n",
       "      <td>...</td>\n",
       "      <td>4036.7202</td>\n",
       "      <td>14.40</td>\n",
       "      <td>9760.000229</td>\n",
       "      <td>NaN</td>\n",
       "      <td>-3.653327</td>\n",
       "      <td>431.787259</td>\n",
       "      <td>38</td>\n",
       "      <td>390757.0</td>\n",
       "      <td>-19.015438</td>\n",
       "      <td>29.154857</td>\n",
       "    </tr>\n",
       "    <tr>\n",
       "      <th>3636</th>\n",
       "      <td>Zimbabwe</td>\n",
       "      <td>2008</td>\n",
       "      <td>37.719345</td>\n",
       "      <td>30.50</td>\n",
       "      <td>67.35</td>\n",
       "      <td>NaN</td>\n",
       "      <td>81.86</td>\n",
       "      <td>1.60</td>\n",
       "      <td>0.0</td>\n",
       "      <td>5.79</td>\n",
       "      <td>...</td>\n",
       "      <td>3324.8596</td>\n",
       "      <td>16.34</td>\n",
       "      <td>7599.999905</td>\n",
       "      <td>NaN</td>\n",
       "      <td>-17.668946</td>\n",
       "      <td>356.693234</td>\n",
       "      <td>38</td>\n",
       "      <td>390757.0</td>\n",
       "      <td>-19.015438</td>\n",
       "      <td>29.154857</td>\n",
       "    </tr>\n",
       "    <tr>\n",
       "      <th>3637</th>\n",
       "      <td>Zimbabwe</td>\n",
       "      <td>2009</td>\n",
       "      <td>43.369083</td>\n",
       "      <td>30.50</td>\n",
       "      <td>66.60</td>\n",
       "      <td>20000.0</td>\n",
       "      <td>82.09</td>\n",
       "      <td>1.57</td>\n",
       "      <td>0.0</td>\n",
       "      <td>5.54</td>\n",
       "      <td>...</td>\n",
       "      <td>3254.2820</td>\n",
       "      <td>15.00</td>\n",
       "      <td>7750.000000</td>\n",
       "      <td>NaN</td>\n",
       "      <td>12.019560</td>\n",
       "      <td>771.599032</td>\n",
       "      <td>38</td>\n",
       "      <td>390757.0</td>\n",
       "      <td>-19.015438</td>\n",
       "      <td>29.154857</td>\n",
       "    </tr>\n",
       "    <tr>\n",
       "      <th>3638</th>\n",
       "      <td>Zimbabwe</td>\n",
       "      <td>2010</td>\n",
       "      <td>38.782550</td>\n",
       "      <td>30.15</td>\n",
       "      <td>65.79</td>\n",
       "      <td>NaN</td>\n",
       "      <td>82.27</td>\n",
       "      <td>2.49</td>\n",
       "      <td>0.0</td>\n",
       "      <td>5.95</td>\n",
       "      <td>...</td>\n",
       "      <td>3592.6724</td>\n",
       "      <td>12.71</td>\n",
       "      <td>9600.000381</td>\n",
       "      <td>NaN</td>\n",
       "      <td>19.675323</td>\n",
       "      <td>948.331481</td>\n",
       "      <td>38</td>\n",
       "      <td>390757.0</td>\n",
       "      <td>-19.015438</td>\n",
       "      <td>29.154857</td>\n",
       "    </tr>\n",
       "    <tr>\n",
       "      <th>3639</th>\n",
       "      <td>Zimbabwe</td>\n",
       "      <td>2011</td>\n",
       "      <td>36.900000</td>\n",
       "      <td>30.10</td>\n",
       "      <td>66.20</td>\n",
       "      <td>1080000.0</td>\n",
       "      <td>79.27</td>\n",
       "      <td>3.43</td>\n",
       "      <td>0.0</td>\n",
       "      <td>5.51</td>\n",
       "      <td>...</td>\n",
       "      <td>3860.7898</td>\n",
       "      <td>11.77</td>\n",
       "      <td>11409.999850</td>\n",
       "      <td>NaN</td>\n",
       "      <td>14.193913</td>\n",
       "      <td>1093.653409</td>\n",
       "      <td>38</td>\n",
       "      <td>390757.0</td>\n",
       "      <td>-19.015438</td>\n",
       "      <td>29.154857</td>\n",
       "    </tr>\n",
       "    <tr>\n",
       "      <th>3640</th>\n",
       "      <td>Zimbabwe</td>\n",
       "      <td>2012</td>\n",
       "      <td>44.000000</td>\n",
       "      <td>29.80</td>\n",
       "      <td>65.14</td>\n",
       "      <td>NaN</td>\n",
       "      <td>77.50</td>\n",
       "      <td>3.25</td>\n",
       "      <td>0.0</td>\n",
       "      <td>5.68</td>\n",
       "      <td>...</td>\n",
       "      <td>4106.9497</td>\n",
       "      <td>10.42</td>\n",
       "      <td>12010.000230</td>\n",
       "      <td>NaN</td>\n",
       "      <td>16.665429</td>\n",
       "      <td>1304.968011</td>\n",
       "      <td>38</td>\n",
       "      <td>390757.0</td>\n",
       "      <td>-19.015438</td>\n",
       "      <td>29.154857</td>\n",
       "    </tr>\n",
       "    <tr>\n",
       "      <th>3641</th>\n",
       "      <td>Zimbabwe</td>\n",
       "      <td>2013</td>\n",
       "      <td>40.498375</td>\n",
       "      <td>29.80</td>\n",
       "      <td>64.44</td>\n",
       "      <td>319000000.0</td>\n",
       "      <td>78.87</td>\n",
       "      <td>3.90</td>\n",
       "      <td>0.0</td>\n",
       "      <td>5.36</td>\n",
       "      <td>...</td>\n",
       "      <td>4085.3320</td>\n",
       "      <td>10.48</td>\n",
       "      <td>12279.999730</td>\n",
       "      <td>NaN</td>\n",
       "      <td>1.989493</td>\n",
       "      <td>1429.998461</td>\n",
       "      <td>38</td>\n",
       "      <td>390757.0</td>\n",
       "      <td>-19.015438</td>\n",
       "      <td>29.154857</td>\n",
       "    </tr>\n",
       "    <tr>\n",
       "      <th>3642</th>\n",
       "      <td>Zimbabwe</td>\n",
       "      <td>2014</td>\n",
       "      <td>32.300000</td>\n",
       "      <td>29.50</td>\n",
       "      <td>63.38</td>\n",
       "      <td>17830000.0</td>\n",
       "      <td>80.27</td>\n",
       "      <td>3.92</td>\n",
       "      <td>0.0</td>\n",
       "      <td>5.79</td>\n",
       "      <td>...</td>\n",
       "      <td>3940.8862</td>\n",
       "      <td>10.40</td>\n",
       "      <td>12079.999920</td>\n",
       "      <td>NaN</td>\n",
       "      <td>2.376929</td>\n",
       "      <td>1434.896277</td>\n",
       "      <td>38</td>\n",
       "      <td>390757.0</td>\n",
       "      <td>-19.015438</td>\n",
       "      <td>29.154857</td>\n",
       "    </tr>\n",
       "    <tr>\n",
       "      <th>3643</th>\n",
       "      <td>Zimbabwe</td>\n",
       "      <td>2015</td>\n",
       "      <td>33.700000</td>\n",
       "      <td>29.50</td>\n",
       "      <td>63.54</td>\n",
       "      <td>NaN</td>\n",
       "      <td>80.82</td>\n",
       "      <td>4.02</td>\n",
       "      <td>0.0</td>\n",
       "      <td>5.37</td>\n",
       "      <td>...</td>\n",
       "      <td>3860.9202</td>\n",
       "      <td>10.36</td>\n",
       "      <td>12430.000310</td>\n",
       "      <td>NaN</td>\n",
       "      <td>1.779873</td>\n",
       "      <td>1445.069702</td>\n",
       "      <td>38</td>\n",
       "      <td>390757.0</td>\n",
       "      <td>-19.015438</td>\n",
       "      <td>29.154857</td>\n",
       "    </tr>\n",
       "    <tr>\n",
       "      <th>3644</th>\n",
       "      <td>Zimbabwe</td>\n",
       "      <td>2016</td>\n",
       "      <td>42.561730</td>\n",
       "      <td>29.80</td>\n",
       "      <td>62.88</td>\n",
       "      <td>30000.0</td>\n",
       "      <td>81.90</td>\n",
       "      <td>3.50</td>\n",
       "      <td>0.0</td>\n",
       "      <td>3.32</td>\n",
       "      <td>...</td>\n",
       "      <td>3227.6802</td>\n",
       "      <td>10.00</td>\n",
       "      <td>11020.000460</td>\n",
       "      <td>NaN</td>\n",
       "      <td>0.755869</td>\n",
       "      <td>1464.588957</td>\n",
       "      <td>38</td>\n",
       "      <td>390757.0</td>\n",
       "      <td>-19.015438</td>\n",
       "      <td>29.154857</td>\n",
       "    </tr>\n",
       "    <tr>\n",
       "      <th>3645</th>\n",
       "      <td>Zimbabwe</td>\n",
       "      <td>2017</td>\n",
       "      <td>44.178635</td>\n",
       "      <td>29.80</td>\n",
       "      <td>62.33</td>\n",
       "      <td>5570000.0</td>\n",
       "      <td>82.46</td>\n",
       "      <td>3.05</td>\n",
       "      <td>0.0</td>\n",
       "      <td>4.30</td>\n",
       "      <td>...</td>\n",
       "      <td>3068.0115</td>\n",
       "      <td>9.51</td>\n",
       "      <td>10340.000150</td>\n",
       "      <td>NaN</td>\n",
       "      <td>4.709492</td>\n",
       "      <td>1235.189032</td>\n",
       "      <td>38</td>\n",
       "      <td>390757.0</td>\n",
       "      <td>-19.015438</td>\n",
       "      <td>29.154857</td>\n",
       "    </tr>\n",
       "    <tr>\n",
       "      <th>3646</th>\n",
       "      <td>Zimbabwe</td>\n",
       "      <td>2018</td>\n",
       "      <td>45.572647</td>\n",
       "      <td>29.90</td>\n",
       "      <td>82.53</td>\n",
       "      <td>10000.0</td>\n",
       "      <td>80.23</td>\n",
       "      <td>3.73</td>\n",
       "      <td>0.0</td>\n",
       "      <td>5.46</td>\n",
       "      <td>...</td>\n",
       "      <td>3441.9858</td>\n",
       "      <td>9.83</td>\n",
       "      <td>12380.000110</td>\n",
       "      <td>NaN</td>\n",
       "      <td>4.824211</td>\n",
       "      <td>1254.642265</td>\n",
       "      <td>38</td>\n",
       "      <td>390757.0</td>\n",
       "      <td>-19.015438</td>\n",
       "      <td>29.154857</td>\n",
       "    </tr>\n",
       "    <tr>\n",
       "      <th>3647</th>\n",
       "      <td>Zimbabwe</td>\n",
       "      <td>2019</td>\n",
       "      <td>46.781475</td>\n",
       "      <td>30.10</td>\n",
       "      <td>81.40</td>\n",
       "      <td>250000.0</td>\n",
       "      <td>81.50</td>\n",
       "      <td>3.66</td>\n",
       "      <td>0.0</td>\n",
       "      <td>4.58</td>\n",
       "      <td>...</td>\n",
       "      <td>3003.6553</td>\n",
       "      <td>10.47</td>\n",
       "      <td>11760.000230</td>\n",
       "      <td>NaN</td>\n",
       "      <td>-6.144236</td>\n",
       "      <td>1316.740657</td>\n",
       "      <td>38</td>\n",
       "      <td>390757.0</td>\n",
       "      <td>-19.015438</td>\n",
       "      <td>29.154857</td>\n",
       "    </tr>\n",
       "    <tr>\n",
       "      <th>3648</th>\n",
       "      <td>Zimbabwe</td>\n",
       "      <td>2020</td>\n",
       "      <td>52.747670</td>\n",
       "      <td>30.40</td>\n",
       "      <td>80.61</td>\n",
       "      <td>30000.0</td>\n",
       "      <td>81.90</td>\n",
       "      <td>3.40</td>\n",
       "      <td>0.0</td>\n",
       "      <td>4.19</td>\n",
       "      <td>...</td>\n",
       "      <td>2680.1318</td>\n",
       "      <td>10.00</td>\n",
       "      <td>NaN</td>\n",
       "      <td>NaN</td>\n",
       "      <td>-6.248748</td>\n",
       "      <td>1214.509820</td>\n",
       "      <td>38</td>\n",
       "      <td>390757.0</td>\n",
       "      <td>-19.015438</td>\n",
       "      <td>29.154857</td>\n",
       "    </tr>\n",
       "  </tbody>\n",
       "</table>\n",
       "<p>15 rows × 21 columns</p>\n",
       "</div>"
      ],
      "text/plain": [
       "        Entity  Year  Access to electricity (% of population)  \\\n",
       "3634  Zimbabwe  2006                                37.200000   \n",
       "3635  Zimbabwe  2007                                37.204010   \n",
       "3636  Zimbabwe  2008                                37.719345   \n",
       "3637  Zimbabwe  2009                                43.369083   \n",
       "3638  Zimbabwe  2010                                38.782550   \n",
       "3639  Zimbabwe  2011                                36.900000   \n",
       "3640  Zimbabwe  2012                                44.000000   \n",
       "3641  Zimbabwe  2013                                40.498375   \n",
       "3642  Zimbabwe  2014                                32.300000   \n",
       "3643  Zimbabwe  2015                                33.700000   \n",
       "3644  Zimbabwe  2016                                42.561730   \n",
       "3645  Zimbabwe  2017                                44.178635   \n",
       "3646  Zimbabwe  2018                                45.572647   \n",
       "3647  Zimbabwe  2019                                46.781475   \n",
       "3648  Zimbabwe  2020                                52.747670   \n",
       "\n",
       "      Access to clean fuels for cooking  \\\n",
       "3634                              31.40   \n",
       "3635                              31.00   \n",
       "3636                              30.50   \n",
       "3637                              30.50   \n",
       "3638                              30.15   \n",
       "3639                              30.10   \n",
       "3640                              29.80   \n",
       "3641                              29.80   \n",
       "3642                              29.50   \n",
       "3643                              29.50   \n",
       "3644                              29.80   \n",
       "3645                              29.80   \n",
       "3646                              29.90   \n",
       "3647                              30.10   \n",
       "3648                              30.40   \n",
       "\n",
       "      Renewable-electricity-generating-capacity-per-capita  \\\n",
       "3634                                              61.68      \n",
       "3635                                              61.18      \n",
       "3636                                              67.35      \n",
       "3637                                              66.60      \n",
       "3638                                              65.79      \n",
       "3639                                              66.20      \n",
       "3640                                              65.14      \n",
       "3641                                              64.44      \n",
       "3642                                              63.38      \n",
       "3643                                              63.54      \n",
       "3644                                              62.88      \n",
       "3645                                              62.33      \n",
       "3646                                              82.53      \n",
       "3647                                              81.40      \n",
       "3648                                              80.61      \n",
       "\n",
       "      Financial flows to developing countries (US $)  \\\n",
       "3634                                             NaN   \n",
       "3635                                             NaN   \n",
       "3636                                             NaN   \n",
       "3637                                         20000.0   \n",
       "3638                                             NaN   \n",
       "3639                                       1080000.0   \n",
       "3640                                             NaN   \n",
       "3641                                     319000000.0   \n",
       "3642                                      17830000.0   \n",
       "3643                                             NaN   \n",
       "3644                                         30000.0   \n",
       "3645                                       5570000.0   \n",
       "3646                                         10000.0   \n",
       "3647                                        250000.0   \n",
       "3648                                         30000.0   \n",
       "\n",
       "      Renewable energy share in the total final energy consumption (%)  \\\n",
       "3634                                              78.59                  \n",
       "3635                                              77.97                  \n",
       "3636                                              81.86                  \n",
       "3637                                              82.09                  \n",
       "3638                                              82.27                  \n",
       "3639                                              79.27                  \n",
       "3640                                              77.50                  \n",
       "3641                                              78.87                  \n",
       "3642                                              80.27                  \n",
       "3643                                              80.82                  \n",
       "3644                                              81.90                  \n",
       "3645                                              82.46                  \n",
       "3646                                              80.23                  \n",
       "3647                                              81.50                  \n",
       "3648                                              81.90                  \n",
       "\n",
       "      Electricity from fossil fuels (TWh)  Electricity from nuclear (TWh)  \\\n",
       "3634                                 2.23                             0.0   \n",
       "3635                                 1.86                             0.0   \n",
       "3636                                 1.60                             0.0   \n",
       "3637                                 1.57                             0.0   \n",
       "3638                                 2.49                             0.0   \n",
       "3639                                 3.43                             0.0   \n",
       "3640                                 3.25                             0.0   \n",
       "3641                                 3.90                             0.0   \n",
       "3642                                 3.92                             0.0   \n",
       "3643                                 4.02                             0.0   \n",
       "3644                                 3.50                             0.0   \n",
       "3645                                 3.05                             0.0   \n",
       "3646                                 3.73                             0.0   \n",
       "3647                                 3.66                             0.0   \n",
       "3648                                 3.40                             0.0   \n",
       "\n",
       "      Electricity from renewables (TWh)  ...  \\\n",
       "3634                               5.45  ...   \n",
       "3635                               5.49  ...   \n",
       "3636                               5.79  ...   \n",
       "3637                               5.54  ...   \n",
       "3638                               5.95  ...   \n",
       "3639                               5.51  ...   \n",
       "3640                               5.68  ...   \n",
       "3641                               5.36  ...   \n",
       "3642                               5.79  ...   \n",
       "3643                               5.37  ...   \n",
       "3644                               3.32  ...   \n",
       "3645                               4.30  ...   \n",
       "3646                               5.46  ...   \n",
       "3647                               4.58  ...   \n",
       "3648                               4.19  ...   \n",
       "\n",
       "      Primary energy consumption per capita (kWh/person)  \\\n",
       "3634                                          4158.7817    \n",
       "3635                                          4036.7202    \n",
       "3636                                          3324.8596    \n",
       "3637                                          3254.2820    \n",
       "3638                                          3592.6724    \n",
       "3639                                          3860.7898    \n",
       "3640                                          4106.9497    \n",
       "3641                                          4085.3320    \n",
       "3642                                          3940.8862    \n",
       "3643                                          3860.9202    \n",
       "3644                                          3227.6802    \n",
       "3645                                          3068.0115    \n",
       "3646                                          3441.9858    \n",
       "3647                                          3003.6553    \n",
       "3648                                          2680.1318    \n",
       "\n",
       "      Energy intensity level of primary energy (MJ/$2017 PPP GDP)  \\\n",
       "3634                                              14.09             \n",
       "3635                                              14.40             \n",
       "3636                                              16.34             \n",
       "3637                                              15.00             \n",
       "3638                                              12.71             \n",
       "3639                                              11.77             \n",
       "3640                                              10.42             \n",
       "3641                                              10.48             \n",
       "3642                                              10.40             \n",
       "3643                                              10.36             \n",
       "3644                                              10.00             \n",
       "3645                                               9.51             \n",
       "3646                                               9.83             \n",
       "3647                                              10.47             \n",
       "3648                                              10.00             \n",
       "\n",
       "      Value_co2_emissions_kt_by_country  \\\n",
       "3634                        9829.999924   \n",
       "3635                        9760.000229   \n",
       "3636                        7599.999905   \n",
       "3637                        7750.000000   \n",
       "3638                        9600.000381   \n",
       "3639                       11409.999850   \n",
       "3640                       12010.000230   \n",
       "3641                       12279.999730   \n",
       "3642                       12079.999920   \n",
       "3643                       12430.000310   \n",
       "3644                       11020.000460   \n",
       "3645                       10340.000150   \n",
       "3646                       12380.000110   \n",
       "3647                       11760.000230   \n",
       "3648                                NaN   \n",
       "\n",
       "      Renewables (% equivalent primary energy)  gdp_growth  gdp_per_capita  \\\n",
       "3634                                       NaN   -3.461495      447.854740   \n",
       "3635                                       NaN   -3.653327      431.787259   \n",
       "3636                                       NaN  -17.668946      356.693234   \n",
       "3637                                       NaN   12.019560      771.599032   \n",
       "3638                                       NaN   19.675323      948.331481   \n",
       "3639                                       NaN   14.193913     1093.653409   \n",
       "3640                                       NaN   16.665429     1304.968011   \n",
       "3641                                       NaN    1.989493     1429.998461   \n",
       "3642                                       NaN    2.376929     1434.896277   \n",
       "3643                                       NaN    1.779873     1445.069702   \n",
       "3644                                       NaN    0.755869     1464.588957   \n",
       "3645                                       NaN    4.709492     1235.189032   \n",
       "3646                                       NaN    4.824211     1254.642265   \n",
       "3647                                       NaN   -6.144236     1316.740657   \n",
       "3648                                       NaN   -6.248748     1214.509820   \n",
       "\n",
       "      Density\\n(P/Km2) Land Area(Km2)   Latitude  Longitude  \n",
       "3634                38       390757.0 -19.015438  29.154857  \n",
       "3635                38       390757.0 -19.015438  29.154857  \n",
       "3636                38       390757.0 -19.015438  29.154857  \n",
       "3637                38       390757.0 -19.015438  29.154857  \n",
       "3638                38       390757.0 -19.015438  29.154857  \n",
       "3639                38       390757.0 -19.015438  29.154857  \n",
       "3640                38       390757.0 -19.015438  29.154857  \n",
       "3641                38       390757.0 -19.015438  29.154857  \n",
       "3642                38       390757.0 -19.015438  29.154857  \n",
       "3643                38       390757.0 -19.015438  29.154857  \n",
       "3644                38       390757.0 -19.015438  29.154857  \n",
       "3645                38       390757.0 -19.015438  29.154857  \n",
       "3646                38       390757.0 -19.015438  29.154857  \n",
       "3647                38       390757.0 -19.015438  29.154857  \n",
       "3648                38       390757.0 -19.015438  29.154857  \n",
       "\n",
       "[15 rows x 21 columns]"
      ]
     },
     "execution_count": 338,
     "metadata": {},
     "output_type": "execute_result"
    }
   ],
   "source": [
    "# son 15 veriye bakıyoruz\n",
    "data.tail(15)"
   ]
  },
  {
   "cell_type": "code",
   "execution_count": 339,
   "metadata": {},
   "outputs": [
    {
     "data": {
      "text/plain": [
       "(3649, 21)"
      ]
     },
     "execution_count": 339,
     "metadata": {},
     "output_type": "execute_result"
    }
   ],
   "source": [
    "# satır ve sütun sayısına bakıyoruz\n",
    "data.shape"
   ]
  },
  {
   "cell_type": "code",
   "execution_count": 340,
   "metadata": {},
   "outputs": [
    {
     "name": "stdout",
     "output_type": "stream",
     "text": [
      "<class 'pandas.core.frame.DataFrame'>\n",
      "RangeIndex: 3649 entries, 0 to 3648\n",
      "Data columns (total 21 columns):\n",
      " #   Column                                                            Non-Null Count  Dtype  \n",
      "---  ------                                                            --------------  -----  \n",
      " 0   Entity                                                            3649 non-null   object \n",
      " 1   Year                                                              3649 non-null   int64  \n",
      " 2   Access to electricity (% of population)                           3639 non-null   float64\n",
      " 3   Access to clean fuels for cooking                                 3480 non-null   float64\n",
      " 4   Renewable-electricity-generating-capacity-per-capita              2718 non-null   float64\n",
      " 5   Financial flows to developing countries (US $)                    1560 non-null   float64\n",
      " 6   Renewable energy share in the total final energy consumption (%)  3455 non-null   float64\n",
      " 7   Electricity from fossil fuels (TWh)                               3628 non-null   float64\n",
      " 8   Electricity from nuclear (TWh)                                    3523 non-null   float64\n",
      " 9   Electricity from renewables (TWh)                                 3628 non-null   float64\n",
      " 10  Low-carbon electricity (% electricity)                            3607 non-null   float64\n",
      " 11  Primary energy consumption per capita (kWh/person)                3649 non-null   float64\n",
      " 12  Energy intensity level of primary energy (MJ/$2017 PPP GDP)       3442 non-null   float64\n",
      " 13  Value_co2_emissions_kt_by_country                                 3221 non-null   float64\n",
      " 14  Renewables (% equivalent primary energy)                          1512 non-null   float64\n",
      " 15  gdp_growth                                                        3332 non-null   float64\n",
      " 16  gdp_per_capita                                                    3367 non-null   float64\n",
      " 17  Density\\n(P/Km2)                                                  3648 non-null   object \n",
      " 18  Land Area(Km2)                                                    3648 non-null   float64\n",
      " 19  Latitude                                                          3648 non-null   float64\n",
      " 20  Longitude                                                         3648 non-null   float64\n",
      "dtypes: float64(18), int64(1), object(2)\n",
      "memory usage: 598.8+ KB\n"
     ]
    }
   ],
   "source": [
    "# veri seti hakkında genel bilgilere bakıyoruz\n",
    "data.info()"
   ]
  },
  {
   "cell_type": "code",
   "execution_count": 341,
   "metadata": {},
   "outputs": [
    {
     "data": {
      "text/html": [
       "<div>\n",
       "<style scoped>\n",
       "    .dataframe tbody tr th:only-of-type {\n",
       "        vertical-align: middle;\n",
       "    }\n",
       "\n",
       "    .dataframe tbody tr th {\n",
       "        vertical-align: top;\n",
       "    }\n",
       "\n",
       "    .dataframe thead th {\n",
       "        text-align: right;\n",
       "    }\n",
       "</style>\n",
       "<table border=\"1\" class=\"dataframe\">\n",
       "  <thead>\n",
       "    <tr style=\"text-align: right;\">\n",
       "      <th></th>\n",
       "      <th>Year</th>\n",
       "      <th>Access to electricity (% of population)</th>\n",
       "      <th>Access to clean fuels for cooking</th>\n",
       "      <th>Renewable-electricity-generating-capacity-per-capita</th>\n",
       "      <th>Financial flows to developing countries (US $)</th>\n",
       "      <th>Renewable energy share in the total final energy consumption (%)</th>\n",
       "      <th>Electricity from fossil fuels (TWh)</th>\n",
       "      <th>Electricity from nuclear (TWh)</th>\n",
       "      <th>Electricity from renewables (TWh)</th>\n",
       "      <th>Low-carbon electricity (% electricity)</th>\n",
       "      <th>Primary energy consumption per capita (kWh/person)</th>\n",
       "      <th>Energy intensity level of primary energy (MJ/$2017 PPP GDP)</th>\n",
       "      <th>Value_co2_emissions_kt_by_country</th>\n",
       "      <th>Renewables (% equivalent primary energy)</th>\n",
       "      <th>gdp_growth</th>\n",
       "      <th>gdp_per_capita</th>\n",
       "      <th>Land Area(Km2)</th>\n",
       "      <th>Latitude</th>\n",
       "      <th>Longitude</th>\n",
       "    </tr>\n",
       "  </thead>\n",
       "  <tbody>\n",
       "    <tr>\n",
       "      <th>count</th>\n",
       "      <td>3649.000000</td>\n",
       "      <td>3639.000000</td>\n",
       "      <td>3480.000000</td>\n",
       "      <td>2718.000000</td>\n",
       "      <td>1.560000e+03</td>\n",
       "      <td>3455.000000</td>\n",
       "      <td>3628.000000</td>\n",
       "      <td>3523.000000</td>\n",
       "      <td>3628.000000</td>\n",
       "      <td>3607.000000</td>\n",
       "      <td>3649.000000</td>\n",
       "      <td>3442.000000</td>\n",
       "      <td>3.221000e+03</td>\n",
       "      <td>1512.000000</td>\n",
       "      <td>3332.000000</td>\n",
       "      <td>3367.000000</td>\n",
       "      <td>3.648000e+03</td>\n",
       "      <td>3648.000000</td>\n",
       "      <td>3648.000000</td>\n",
       "    </tr>\n",
       "    <tr>\n",
       "      <th>mean</th>\n",
       "      <td>2010.038367</td>\n",
       "      <td>78.933702</td>\n",
       "      <td>63.255287</td>\n",
       "      <td>113.137498</td>\n",
       "      <td>9.422400e+07</td>\n",
       "      <td>32.638165</td>\n",
       "      <td>70.365003</td>\n",
       "      <td>13.450190</td>\n",
       "      <td>23.968010</td>\n",
       "      <td>36.801182</td>\n",
       "      <td>25743.981745</td>\n",
       "      <td>5.307345</td>\n",
       "      <td>1.598665e+05</td>\n",
       "      <td>11.986707</td>\n",
       "      <td>3.441610</td>\n",
       "      <td>13283.774348</td>\n",
       "      <td>6.332135e+05</td>\n",
       "      <td>18.246388</td>\n",
       "      <td>14.822695</td>\n",
       "    </tr>\n",
       "    <tr>\n",
       "      <th>std</th>\n",
       "      <td>6.054228</td>\n",
       "      <td>30.275541</td>\n",
       "      <td>39.043658</td>\n",
       "      <td>244.167256</td>\n",
       "      <td>2.981544e+08</td>\n",
       "      <td>29.894901</td>\n",
       "      <td>348.051866</td>\n",
       "      <td>73.006623</td>\n",
       "      <td>104.431085</td>\n",
       "      <td>34.314884</td>\n",
       "      <td>34773.221366</td>\n",
       "      <td>3.532020</td>\n",
       "      <td>7.736611e+05</td>\n",
       "      <td>14.994644</td>\n",
       "      <td>5.686720</td>\n",
       "      <td>19709.866716</td>\n",
       "      <td>1.585519e+06</td>\n",
       "      <td>24.159232</td>\n",
       "      <td>66.348148</td>\n",
       "    </tr>\n",
       "    <tr>\n",
       "      <th>min</th>\n",
       "      <td>2000.000000</td>\n",
       "      <td>1.252269</td>\n",
       "      <td>0.000000</td>\n",
       "      <td>0.000000</td>\n",
       "      <td>0.000000e+00</td>\n",
       "      <td>0.000000</td>\n",
       "      <td>0.000000</td>\n",
       "      <td>0.000000</td>\n",
       "      <td>0.000000</td>\n",
       "      <td>0.000000</td>\n",
       "      <td>0.000000</td>\n",
       "      <td>0.110000</td>\n",
       "      <td>1.000000e+01</td>\n",
       "      <td>0.000000</td>\n",
       "      <td>-62.075920</td>\n",
       "      <td>111.927225</td>\n",
       "      <td>2.100000e+01</td>\n",
       "      <td>-40.900557</td>\n",
       "      <td>-175.198242</td>\n",
       "    </tr>\n",
       "    <tr>\n",
       "      <th>25%</th>\n",
       "      <td>2005.000000</td>\n",
       "      <td>59.800890</td>\n",
       "      <td>23.175000</td>\n",
       "      <td>3.540000</td>\n",
       "      <td>2.600000e+05</td>\n",
       "      <td>6.515000</td>\n",
       "      <td>0.290000</td>\n",
       "      <td>0.000000</td>\n",
       "      <td>0.040000</td>\n",
       "      <td>2.877847</td>\n",
       "      <td>3116.737300</td>\n",
       "      <td>3.170000</td>\n",
       "      <td>2.020000e+03</td>\n",
       "      <td>2.137095</td>\n",
       "      <td>1.383302</td>\n",
       "      <td>1337.813437</td>\n",
       "      <td>2.571300e+04</td>\n",
       "      <td>3.202778</td>\n",
       "      <td>-11.779889</td>\n",
       "    </tr>\n",
       "    <tr>\n",
       "      <th>50%</th>\n",
       "      <td>2010.000000</td>\n",
       "      <td>98.361570</td>\n",
       "      <td>83.150000</td>\n",
       "      <td>32.910000</td>\n",
       "      <td>5.665000e+06</td>\n",
       "      <td>23.300000</td>\n",
       "      <td>2.970000</td>\n",
       "      <td>0.000000</td>\n",
       "      <td>1.470000</td>\n",
       "      <td>27.865068</td>\n",
       "      <td>13120.570000</td>\n",
       "      <td>4.300000</td>\n",
       "      <td>1.050000e+04</td>\n",
       "      <td>6.290766</td>\n",
       "      <td>3.559855</td>\n",
       "      <td>4578.633208</td>\n",
       "      <td>1.176000e+05</td>\n",
       "      <td>17.189877</td>\n",
       "      <td>19.145136</td>\n",
       "    </tr>\n",
       "    <tr>\n",
       "      <th>75%</th>\n",
       "      <td>2015.000000</td>\n",
       "      <td>100.000000</td>\n",
       "      <td>100.000000</td>\n",
       "      <td>112.210000</td>\n",
       "      <td>5.534750e+07</td>\n",
       "      <td>55.245000</td>\n",
       "      <td>26.837500</td>\n",
       "      <td>0.000000</td>\n",
       "      <td>9.600000</td>\n",
       "      <td>64.403792</td>\n",
       "      <td>33892.780000</td>\n",
       "      <td>6.027500</td>\n",
       "      <td>6.058000e+04</td>\n",
       "      <td>16.841638</td>\n",
       "      <td>5.830099</td>\n",
       "      <td>15768.615365</td>\n",
       "      <td>5.131200e+05</td>\n",
       "      <td>38.969719</td>\n",
       "      <td>46.199616</td>\n",
       "    </tr>\n",
       "    <tr>\n",
       "      <th>max</th>\n",
       "      <td>2020.000000</td>\n",
       "      <td>100.000000</td>\n",
       "      <td>100.000000</td>\n",
       "      <td>3060.190000</td>\n",
       "      <td>5.202310e+09</td>\n",
       "      <td>96.040000</td>\n",
       "      <td>5184.130000</td>\n",
       "      <td>809.410000</td>\n",
       "      <td>2184.940000</td>\n",
       "      <td>100.000010</td>\n",
       "      <td>262585.700000</td>\n",
       "      <td>32.570000</td>\n",
       "      <td>1.070722e+07</td>\n",
       "      <td>86.836586</td>\n",
       "      <td>123.139555</td>\n",
       "      <td>123514.196700</td>\n",
       "      <td>9.984670e+06</td>\n",
       "      <td>64.963051</td>\n",
       "      <td>178.065032</td>\n",
       "    </tr>\n",
       "  </tbody>\n",
       "</table>\n",
       "</div>"
      ],
      "text/plain": [
       "              Year  Access to electricity (% of population)  \\\n",
       "count  3649.000000                              3639.000000   \n",
       "mean   2010.038367                                78.933702   \n",
       "std       6.054228                                30.275541   \n",
       "min    2000.000000                                 1.252269   \n",
       "25%    2005.000000                                59.800890   \n",
       "50%    2010.000000                                98.361570   \n",
       "75%    2015.000000                               100.000000   \n",
       "max    2020.000000                               100.000000   \n",
       "\n",
       "       Access to clean fuels for cooking  \\\n",
       "count                        3480.000000   \n",
       "mean                           63.255287   \n",
       "std                            39.043658   \n",
       "min                             0.000000   \n",
       "25%                            23.175000   \n",
       "50%                            83.150000   \n",
       "75%                           100.000000   \n",
       "max                           100.000000   \n",
       "\n",
       "       Renewable-electricity-generating-capacity-per-capita  \\\n",
       "count                                        2718.000000      \n",
       "mean                                          113.137498      \n",
       "std                                           244.167256      \n",
       "min                                             0.000000      \n",
       "25%                                             3.540000      \n",
       "50%                                            32.910000      \n",
       "75%                                           112.210000      \n",
       "max                                          3060.190000      \n",
       "\n",
       "       Financial flows to developing countries (US $)  \\\n",
       "count                                    1.560000e+03   \n",
       "mean                                     9.422400e+07   \n",
       "std                                      2.981544e+08   \n",
       "min                                      0.000000e+00   \n",
       "25%                                      2.600000e+05   \n",
       "50%                                      5.665000e+06   \n",
       "75%                                      5.534750e+07   \n",
       "max                                      5.202310e+09   \n",
       "\n",
       "       Renewable energy share in the total final energy consumption (%)  \\\n",
       "count                                        3455.000000                  \n",
       "mean                                           32.638165                  \n",
       "std                                            29.894901                  \n",
       "min                                             0.000000                  \n",
       "25%                                             6.515000                  \n",
       "50%                                            23.300000                  \n",
       "75%                                            55.245000                  \n",
       "max                                            96.040000                  \n",
       "\n",
       "       Electricity from fossil fuels (TWh)  Electricity from nuclear (TWh)  \\\n",
       "count                          3628.000000                     3523.000000   \n",
       "mean                             70.365003                       13.450190   \n",
       "std                             348.051866                       73.006623   \n",
       "min                               0.000000                        0.000000   \n",
       "25%                               0.290000                        0.000000   \n",
       "50%                               2.970000                        0.000000   \n",
       "75%                              26.837500                        0.000000   \n",
       "max                            5184.130000                      809.410000   \n",
       "\n",
       "       Electricity from renewables (TWh)  \\\n",
       "count                        3628.000000   \n",
       "mean                           23.968010   \n",
       "std                           104.431085   \n",
       "min                             0.000000   \n",
       "25%                             0.040000   \n",
       "50%                             1.470000   \n",
       "75%                             9.600000   \n",
       "max                          2184.940000   \n",
       "\n",
       "       Low-carbon electricity (% electricity)  \\\n",
       "count                             3607.000000   \n",
       "mean                                36.801182   \n",
       "std                                 34.314884   \n",
       "min                                  0.000000   \n",
       "25%                                  2.877847   \n",
       "50%                                 27.865068   \n",
       "75%                                 64.403792   \n",
       "max                                100.000010   \n",
       "\n",
       "       Primary energy consumption per capita (kWh/person)  \\\n",
       "count                                        3649.000000    \n",
       "mean                                        25743.981745    \n",
       "std                                         34773.221366    \n",
       "min                                             0.000000    \n",
       "25%                                          3116.737300    \n",
       "50%                                         13120.570000    \n",
       "75%                                         33892.780000    \n",
       "max                                        262585.700000    \n",
       "\n",
       "       Energy intensity level of primary energy (MJ/$2017 PPP GDP)  \\\n",
       "count                                        3442.000000             \n",
       "mean                                            5.307345             \n",
       "std                                             3.532020             \n",
       "min                                             0.110000             \n",
       "25%                                             3.170000             \n",
       "50%                                             4.300000             \n",
       "75%                                             6.027500             \n",
       "max                                            32.570000             \n",
       "\n",
       "       Value_co2_emissions_kt_by_country  \\\n",
       "count                       3.221000e+03   \n",
       "mean                        1.598665e+05   \n",
       "std                         7.736611e+05   \n",
       "min                         1.000000e+01   \n",
       "25%                         2.020000e+03   \n",
       "50%                         1.050000e+04   \n",
       "75%                         6.058000e+04   \n",
       "max                         1.070722e+07   \n",
       "\n",
       "       Renewables (% equivalent primary energy)   gdp_growth  gdp_per_capita  \\\n",
       "count                               1512.000000  3332.000000     3367.000000   \n",
       "mean                                  11.986707     3.441610    13283.774348   \n",
       "std                                   14.994644     5.686720    19709.866716   \n",
       "min                                    0.000000   -62.075920      111.927225   \n",
       "25%                                    2.137095     1.383302     1337.813437   \n",
       "50%                                    6.290766     3.559855     4578.633208   \n",
       "75%                                   16.841638     5.830099    15768.615365   \n",
       "max                                   86.836586   123.139555   123514.196700   \n",
       "\n",
       "       Land Area(Km2)     Latitude    Longitude  \n",
       "count    3.648000e+03  3648.000000  3648.000000  \n",
       "mean     6.332135e+05    18.246388    14.822695  \n",
       "std      1.585519e+06    24.159232    66.348148  \n",
       "min      2.100000e+01   -40.900557  -175.198242  \n",
       "25%      2.571300e+04     3.202778   -11.779889  \n",
       "50%      1.176000e+05    17.189877    19.145136  \n",
       "75%      5.131200e+05    38.969719    46.199616  \n",
       "max      9.984670e+06    64.963051   178.065032  "
      ]
     },
     "execution_count": 341,
     "metadata": {},
     "output_type": "execute_result"
    }
   ],
   "source": [
    "# istatiksel bilgilere bakıyoruz\n",
    "data.describe()"
   ]
  },
  {
   "cell_type": "code",
   "execution_count": 342,
   "metadata": {},
   "outputs": [
    {
     "data": {
      "text/plain": [
       "Entity                                                                 0\n",
       "Year                                                                   0\n",
       "Access to electricity (% of population)                               10\n",
       "Access to clean fuels for cooking                                    169\n",
       "Renewable-electricity-generating-capacity-per-capita                 931\n",
       "Financial flows to developing countries (US $)                      2089\n",
       "Renewable energy share in the total final energy consumption (%)     194\n",
       "Electricity from fossil fuels (TWh)                                   21\n",
       "Electricity from nuclear (TWh)                                       126\n",
       "Electricity from renewables (TWh)                                     21\n",
       "Low-carbon electricity (% electricity)                                42\n",
       "Primary energy consumption per capita (kWh/person)                     0\n",
       "Energy intensity level of primary energy (MJ/$2017 PPP GDP)          207\n",
       "Value_co2_emissions_kt_by_country                                    428\n",
       "Renewables (% equivalent primary energy)                            2137\n",
       "gdp_growth                                                           317\n",
       "gdp_per_capita                                                       282\n",
       "Density\\n(P/Km2)                                                       1\n",
       "Land Area(Km2)                                                         1\n",
       "Latitude                                                               1\n",
       "Longitude                                                              1\n",
       "dtype: int64"
      ]
     },
     "execution_count": 342,
     "metadata": {},
     "output_type": "execute_result"
    }
   ],
   "source": [
    "# veri setinde kaç boş değer olduğuna bakıyoruz\n",
    "data.isnull().sum()"
   ]
  },
  {
   "cell_type": "code",
   "execution_count": 343,
   "metadata": {},
   "outputs": [],
   "source": [
    "# sayısal sütunlardaki boş değerleri sütun ortalamasıyla dolduruyoruz\n",
    "data_filled = data.copy()\n",
    "data_filled = data_filled.fillna(data_filled.mean(numeric_only=True))"
   ]
  },
  {
   "cell_type": "code",
   "execution_count": 344,
   "metadata": {},
   "outputs": [
    {
     "data": {
      "text/plain": [
       "Entity                                                              0\n",
       "Year                                                                0\n",
       "Access to electricity (% of population)                             0\n",
       "Access to clean fuels for cooking                                   0\n",
       "Renewable-electricity-generating-capacity-per-capita                0\n",
       "Financial flows to developing countries (US $)                      0\n",
       "Renewable energy share in the total final energy consumption (%)    0\n",
       "Electricity from fossil fuels (TWh)                                 0\n",
       "Electricity from nuclear (TWh)                                      0\n",
       "Electricity from renewables (TWh)                                   0\n",
       "Low-carbon electricity (% electricity)                              0\n",
       "Primary energy consumption per capita (kWh/person)                  0\n",
       "Energy intensity level of primary energy (MJ/$2017 PPP GDP)         0\n",
       "Value_co2_emissions_kt_by_country                                   0\n",
       "Renewables (% equivalent primary energy)                            0\n",
       "gdp_growth                                                          0\n",
       "gdp_per_capita                                                      0\n",
       "Density\\n(P/Km2)                                                    1\n",
       "Land Area(Km2)                                                      0\n",
       "Latitude                                                            0\n",
       "Longitude                                                           0\n",
       "dtype: int64"
      ]
     },
     "execution_count": 344,
     "metadata": {},
     "output_type": "execute_result"
    }
   ],
   "source": [
    "data_filled.isnull().sum()"
   ]
  },
  {
   "cell_type": "code",
   "execution_count": 345,
   "metadata": {},
   "outputs": [
    {
     "data": {
      "text/plain": [
       "Entity                                                               object\n",
       "Year                                                                  int64\n",
       "Access to electricity (% of population)                             float64\n",
       "Access to clean fuels for cooking                                   float64\n",
       "Renewable-electricity-generating-capacity-per-capita                float64\n",
       "Financial flows to developing countries (US $)                      float64\n",
       "Renewable energy share in the total final energy consumption (%)    float64\n",
       "Electricity from fossil fuels (TWh)                                 float64\n",
       "Electricity from nuclear (TWh)                                      float64\n",
       "Electricity from renewables (TWh)                                   float64\n",
       "Low-carbon electricity (% electricity)                              float64\n",
       "Primary energy consumption per capita (kWh/person)                  float64\n",
       "Energy intensity level of primary energy (MJ/$2017 PPP GDP)         float64\n",
       "Value_co2_emissions_kt_by_country                                   float64\n",
       "Renewables (% equivalent primary energy)                            float64\n",
       "gdp_growth                                                          float64\n",
       "gdp_per_capita                                                      float64\n",
       "Density\\n(P/Km2)                                                     object\n",
       "Land Area(Km2)                                                      float64\n",
       "Latitude                                                            float64\n",
       "Longitude                                                           float64\n",
       "dtype: object"
      ]
     },
     "execution_count": 345,
     "metadata": {},
     "output_type": "execute_result"
    }
   ],
   "source": [
    "# veri tiplerine bakıyoruz\n",
    "data.dtypes"
   ]
  },
  {
   "cell_type": "code",
   "execution_count": 346,
   "metadata": {},
   "outputs": [],
   "source": [
    "# sütunu sayısal türe dönüştürüyoruz\n",
    "data_filled[\"Density\\\\n(P/Km2)\"] = pd.to_numeric(data_filled[\"Density\\\\n(P/Km2)\"], errors='coerce')\n",
    "\n",
    "# boş değerleri sütun ortalaması ile dolduruyoruz\n",
    "data_filled[\"Density\\\\n(P/Km2)\"] = data_filled[\"Density\\\\n(P/Km2)\"].fillna(data_filled[\"Density\\\\n(P/Km2)\"].mean())\n"
   ]
  },
  {
   "cell_type": "code",
   "execution_count": 347,
   "metadata": {},
   "outputs": [
    {
     "data": {
      "text/plain": [
       "Entity                                                              False\n",
       "Year                                                                False\n",
       "Access to electricity (% of population)                             False\n",
       "Access to clean fuels for cooking                                   False\n",
       "Renewable-electricity-generating-capacity-per-capita                False\n",
       "Financial flows to developing countries (US $)                      False\n",
       "Renewable energy share in the total final energy consumption (%)    False\n",
       "Electricity from fossil fuels (TWh)                                 False\n",
       "Electricity from nuclear (TWh)                                      False\n",
       "Electricity from renewables (TWh)                                   False\n",
       "Low-carbon electricity (% electricity)                              False\n",
       "Primary energy consumption per capita (kWh/person)                  False\n",
       "Energy intensity level of primary energy (MJ/$2017 PPP GDP)         False\n",
       "Value_co2_emissions_kt_by_country                                   False\n",
       "Renewables (% equivalent primary energy)                            False\n",
       "gdp_growth                                                          False\n",
       "gdp_per_capita                                                      False\n",
       "Density\\n(P/Km2)                                                    False\n",
       "Land Area(Km2)                                                      False\n",
       "Latitude                                                            False\n",
       "Longitude                                                           False\n",
       "dtype: bool"
      ]
     },
     "execution_count": 347,
     "metadata": {},
     "output_type": "execute_result"
    }
   ],
   "source": [
    "# veri setinde boş değer olup olmadığına bakıyoruz\n",
    "data_filled.isnull().any()"
   ]
  },
  {
   "cell_type": "code",
   "execution_count": 348,
   "metadata": {},
   "outputs": [
    {
     "data": {
      "text/plain": [
       "Index(['Entity', 'Year', 'Access to electricity (% of population)',\n",
       "       'Access to clean fuels for cooking',\n",
       "       'Renewable-electricity-generating-capacity-per-capita',\n",
       "       'Financial flows to developing countries (US $)',\n",
       "       'Renewable energy share in the total final energy consumption (%)',\n",
       "       'Electricity from fossil fuels (TWh)', 'Electricity from nuclear (TWh)',\n",
       "       'Electricity from renewables (TWh)',\n",
       "       'Low-carbon electricity (% electricity)',\n",
       "       'Primary energy consumption per capita (kWh/person)',\n",
       "       'Energy intensity level of primary energy (MJ/$2017 PPP GDP)',\n",
       "       'Value_co2_emissions_kt_by_country',\n",
       "       'Renewables (% equivalent primary energy)', 'gdp_growth',\n",
       "       'gdp_per_capita', 'Density\\n(P/Km2)', 'Land Area(Km2)', 'Latitude',\n",
       "       'Longitude'],\n",
       "      dtype='object')"
      ]
     },
     "execution_count": 348,
     "metadata": {},
     "output_type": "execute_result"
    }
   ],
   "source": [
    "# sütun adlarına bakıyoruz\n",
    "data_filled.columns"
   ]
  },
  {
   "cell_type": "code",
   "execution_count": 349,
   "metadata": {},
   "outputs": [
    {
     "data": {
      "text/plain": [
       "array(['Afghanistan', 'Albania', 'Algeria', 'Angola',\n",
       "       'Antigua and Barbuda', 'Argentina', 'Armenia', 'Aruba',\n",
       "       'Australia', 'Austria', 'Azerbaijan', 'Bahamas', 'Bahrain',\n",
       "       'Bangladesh', 'Barbados', 'Belarus', 'Belgium', 'Belize', 'Benin',\n",
       "       'Bermuda', 'Bhutan', 'Bosnia and Herzegovina', 'Botswana',\n",
       "       'Brazil', 'Bulgaria', 'Burkina Faso', 'Burundi', 'Cambodia',\n",
       "       'Cameroon', 'Canada', 'Cayman Islands', 'Central African Republic',\n",
       "       'Chad', 'Chile', 'China', 'Colombia', 'Comoros', 'Congo',\n",
       "       'Costa Rica', 'Croatia', 'Cuba', 'Cyprus', 'Czechia', 'Denmark',\n",
       "       'Djibouti', 'Dominica', 'Dominican Republic', 'Ecuador', 'Egypt',\n",
       "       'El Salvador', 'Equatorial Guinea', 'Eritrea', 'Estonia',\n",
       "       'Eswatini', 'Ethiopia', 'Fiji', 'Finland', 'France',\n",
       "       'French Guiana', 'Gabon', 'Gambia', 'Georgia', 'Germany', 'Ghana',\n",
       "       'Greece', 'Grenada', 'Guatemala', 'Guinea', 'Guinea-Bissau',\n",
       "       'Guyana', 'Haiti', 'Honduras', 'Hungary', 'Iceland', 'India',\n",
       "       'Indonesia', 'Iraq', 'Ireland', 'Israel', 'Italy', 'Jamaica',\n",
       "       'Japan', 'Jordan', 'Kazakhstan', 'Kenya', 'Kiribati', 'Kuwait',\n",
       "       'Kyrgyzstan', 'Latvia', 'Lebanon', 'Lesotho', 'Liberia', 'Libya',\n",
       "       'Lithuania', 'Luxembourg', 'Madagascar', 'Malawi', 'Malaysia',\n",
       "       'Maldives', 'Mali', 'Malta', 'Mauritania', 'Mauritius', 'Mexico',\n",
       "       'Mongolia', 'Montenegro', 'Morocco', 'Mozambique', 'Myanmar',\n",
       "       'Namibia', 'Nauru', 'Nepal', 'Netherlands', 'New Caledonia',\n",
       "       'New Zealand', 'Nicaragua', 'Niger', 'Nigeria', 'North Macedonia',\n",
       "       'Norway', 'Oman', 'Pakistan', 'Panama', 'Papua New Guinea',\n",
       "       'Paraguay', 'Peru', 'Philippines', 'Poland', 'Portugal',\n",
       "       'Puerto Rico', 'Qatar', 'Romania', 'Rwanda',\n",
       "       'Saint Kitts and Nevis', 'Saint Lucia',\n",
       "       'Saint Vincent and the Grenadines', 'Samoa',\n",
       "       'Sao Tome and Principe', 'Saudi Arabia', 'Senegal', 'Serbia',\n",
       "       'Seychelles', 'Sierra Leone', 'Singapore', 'Slovakia', 'Slovenia',\n",
       "       'Solomon Islands', 'Somalia', 'South Africa', 'South Sudan',\n",
       "       'Spain', 'Sri Lanka', 'Sudan', 'Suriname', 'Sweden', 'Switzerland',\n",
       "       'Tajikistan', 'Thailand', 'Togo', 'Tonga', 'Trinidad and Tobago',\n",
       "       'Tunisia', 'Turkey', 'Turkmenistan', 'Tuvalu', 'Uganda', 'Ukraine',\n",
       "       'United Arab Emirates', 'United Kingdom', 'United States',\n",
       "       'Uruguay', 'Uzbekistan', 'Vanuatu', 'Yemen', 'Zambia', 'Zimbabwe'],\n",
       "      dtype=object)"
      ]
     },
     "execution_count": 349,
     "metadata": {},
     "output_type": "execute_result"
    }
   ],
   "source": [
    "# eşsiz ülke adlarına bakıyoruz\n",
    "data_filled[\"Entity\"].unique()"
   ]
  },
  {
   "cell_type": "code",
   "execution_count": 350,
   "metadata": {},
   "outputs": [
    {
     "data": {
      "text/plain": [
       "array([2000, 2001, 2002, 2003, 2004, 2005, 2006, 2007, 2008, 2009, 2010,\n",
       "       2011, 2012, 2013, 2014, 2015, 2016, 2017, 2018, 2019, 2020],\n",
       "      dtype=int64)"
      ]
     },
     "execution_count": 350,
     "metadata": {},
     "output_type": "execute_result"
    }
   ],
   "source": [
    "# eşsiz yıllara bakıyoruz\n",
    "data_filled[\"Year\"].unique()"
   ]
  },
  {
   "cell_type": "code",
   "execution_count": 351,
   "metadata": {},
   "outputs": [
    {
     "data": {
      "text/html": [
       "<div>\n",
       "<style scoped>\n",
       "    .dataframe tbody tr th:only-of-type {\n",
       "        vertical-align: middle;\n",
       "    }\n",
       "\n",
       "    .dataframe tbody tr th {\n",
       "        vertical-align: top;\n",
       "    }\n",
       "\n",
       "    .dataframe thead th {\n",
       "        text-align: right;\n",
       "    }\n",
       "</style>\n",
       "<table border=\"1\" class=\"dataframe\">\n",
       "  <thead>\n",
       "    <tr style=\"text-align: right;\">\n",
       "      <th></th>\n",
       "      <th>Year</th>\n",
       "      <th>Access to electricity (% of population)</th>\n",
       "    </tr>\n",
       "  </thead>\n",
       "  <tbody>\n",
       "    <tr>\n",
       "      <th>0</th>\n",
       "      <td>2000</td>\n",
       "      <td>73.222085</td>\n",
       "    </tr>\n",
       "    <tr>\n",
       "      <th>1</th>\n",
       "      <td>2001</td>\n",
       "      <td>73.707979</td>\n",
       "    </tr>\n",
       "    <tr>\n",
       "      <th>2</th>\n",
       "      <td>2002</td>\n",
       "      <td>74.021165</td>\n",
       "    </tr>\n",
       "    <tr>\n",
       "      <th>3</th>\n",
       "      <td>2003</td>\n",
       "      <td>74.590201</td>\n",
       "    </tr>\n",
       "    <tr>\n",
       "      <th>4</th>\n",
       "      <td>2004</td>\n",
       "      <td>75.169976</td>\n",
       "    </tr>\n",
       "    <tr>\n",
       "      <th>5</th>\n",
       "      <td>2005</td>\n",
       "      <td>75.580426</td>\n",
       "    </tr>\n",
       "    <tr>\n",
       "      <th>6</th>\n",
       "      <td>2006</td>\n",
       "      <td>76.506423</td>\n",
       "    </tr>\n",
       "    <tr>\n",
       "      <th>7</th>\n",
       "      <td>2007</td>\n",
       "      <td>76.913793</td>\n",
       "    </tr>\n",
       "    <tr>\n",
       "      <th>8</th>\n",
       "      <td>2008</td>\n",
       "      <td>77.440696</td>\n",
       "    </tr>\n",
       "    <tr>\n",
       "      <th>9</th>\n",
       "      <td>2009</td>\n",
       "      <td>77.804968</td>\n",
       "    </tr>\n",
       "    <tr>\n",
       "      <th>10</th>\n",
       "      <td>2010</td>\n",
       "      <td>78.534954</td>\n",
       "    </tr>\n",
       "    <tr>\n",
       "      <th>11</th>\n",
       "      <td>2011</td>\n",
       "      <td>79.403946</td>\n",
       "    </tr>\n",
       "    <tr>\n",
       "      <th>12</th>\n",
       "      <td>2012</td>\n",
       "      <td>80.275411</td>\n",
       "    </tr>\n",
       "    <tr>\n",
       "      <th>13</th>\n",
       "      <td>2013</td>\n",
       "      <td>80.318206</td>\n",
       "    </tr>\n",
       "    <tr>\n",
       "      <th>14</th>\n",
       "      <td>2014</td>\n",
       "      <td>81.048829</td>\n",
       "    </tr>\n",
       "    <tr>\n",
       "      <th>15</th>\n",
       "      <td>2015</td>\n",
       "      <td>81.683522</td>\n",
       "    </tr>\n",
       "    <tr>\n",
       "      <th>16</th>\n",
       "      <td>2016</td>\n",
       "      <td>82.777890</td>\n",
       "    </tr>\n",
       "    <tr>\n",
       "      <th>17</th>\n",
       "      <td>2017</td>\n",
       "      <td>83.562116</td>\n",
       "    </tr>\n",
       "    <tr>\n",
       "      <th>18</th>\n",
       "      <td>2018</td>\n",
       "      <td>84.328949</td>\n",
       "    </tr>\n",
       "    <tr>\n",
       "      <th>19</th>\n",
       "      <td>2019</td>\n",
       "      <td>84.760534</td>\n",
       "    </tr>\n",
       "    <tr>\n",
       "      <th>20</th>\n",
       "      <td>2020</td>\n",
       "      <td>85.460078</td>\n",
       "    </tr>\n",
       "  </tbody>\n",
       "</table>\n",
       "</div>"
      ],
      "text/plain": [
       "    Year  Access to electricity (% of population)\n",
       "0   2000                                73.222085\n",
       "1   2001                                73.707979\n",
       "2   2002                                74.021165\n",
       "3   2003                                74.590201\n",
       "4   2004                                75.169976\n",
       "5   2005                                75.580426\n",
       "6   2006                                76.506423\n",
       "7   2007                                76.913793\n",
       "8   2008                                77.440696\n",
       "9   2009                                77.804968\n",
       "10  2010                                78.534954\n",
       "11  2011                                79.403946\n",
       "12  2012                                80.275411\n",
       "13  2013                                80.318206\n",
       "14  2014                                81.048829\n",
       "15  2015                                81.683522\n",
       "16  2016                                82.777890\n",
       "17  2017                                83.562116\n",
       "18  2018                                84.328949\n",
       "19  2019                                84.760534\n",
       "20  2020                                85.460078"
      ]
     },
     "execution_count": 351,
     "metadata": {},
     "output_type": "execute_result"
    }
   ],
   "source": [
    "# yıllara göre dünyadaki ortalama elektiriğe erişim yüzdeleri\n",
    "electricity = data_filled.groupby(\"Year\")[[\"Access to electricity (% of population)\"]].mean().reset_index()\n",
    "electricity"
   ]
  },
  {
   "cell_type": "code",
   "execution_count": 352,
   "metadata": {},
   "outputs": [
    {
     "data": {
      "application/vnd.plotly.v1+json": {
       "config": {
        "plotlyServerURL": "https://plot.ly"
       },
       "data": [
        {
         "hovertemplate": "Year=%{x}<br>Access to electricity (% of population)=%{y}<extra></extra>",
         "legendgroup": "",
         "line": {
          "color": "#636efa",
          "dash": "solid"
         },
         "marker": {
          "symbol": "circle"
         },
         "mode": "lines",
         "name": "",
         "orientation": "v",
         "showlegend": false,
         "type": "scatter",
         "x": [
          2000,
          2001,
          2002,
          2003,
          2004,
          2005,
          2006,
          2007,
          2008,
          2009,
          2010,
          2011,
          2012,
          2013,
          2014,
          2015,
          2016,
          2017,
          2018,
          2019,
          2020
         ],
         "xaxis": "x",
         "y": [
          73.22208501090307,
          73.70797867688462,
          74.02116545617487,
          74.59020137477953,
          75.16997563524464,
          75.58042581838417,
          76.50642307012836,
          76.9137928678161,
          77.44069590977011,
          77.80496805977012,
          78.53495358850574,
          79.40394607471264,
          80.27541079885057,
          80.31820591828571,
          81.048828764,
          81.68352206285715,
          82.77789023257142,
          83.56211616,
          84.32894910628572,
          84.76053396571429,
          85.46007794457142
         ],
         "yaxis": "y"
        }
       ],
       "layout": {
        "legend": {
         "tracegroupgap": 0
        },
        "template": {
         "data": {
          "bar": [
           {
            "error_x": {
             "color": "#2a3f5f"
            },
            "error_y": {
             "color": "#2a3f5f"
            },
            "marker": {
             "line": {
              "color": "#E5ECF6",
              "width": 0.5
             },
             "pattern": {
              "fillmode": "overlay",
              "size": 10,
              "solidity": 0.2
             }
            },
            "type": "bar"
           }
          ],
          "barpolar": [
           {
            "marker": {
             "line": {
              "color": "#E5ECF6",
              "width": 0.5
             },
             "pattern": {
              "fillmode": "overlay",
              "size": 10,
              "solidity": 0.2
             }
            },
            "type": "barpolar"
           }
          ],
          "carpet": [
           {
            "aaxis": {
             "endlinecolor": "#2a3f5f",
             "gridcolor": "white",
             "linecolor": "white",
             "minorgridcolor": "white",
             "startlinecolor": "#2a3f5f"
            },
            "baxis": {
             "endlinecolor": "#2a3f5f",
             "gridcolor": "white",
             "linecolor": "white",
             "minorgridcolor": "white",
             "startlinecolor": "#2a3f5f"
            },
            "type": "carpet"
           }
          ],
          "choropleth": [
           {
            "colorbar": {
             "outlinewidth": 0,
             "ticks": ""
            },
            "type": "choropleth"
           }
          ],
          "contour": [
           {
            "colorbar": {
             "outlinewidth": 0,
             "ticks": ""
            },
            "colorscale": [
             [
              0,
              "#0d0887"
             ],
             [
              0.1111111111111111,
              "#46039f"
             ],
             [
              0.2222222222222222,
              "#7201a8"
             ],
             [
              0.3333333333333333,
              "#9c179e"
             ],
             [
              0.4444444444444444,
              "#bd3786"
             ],
             [
              0.5555555555555556,
              "#d8576b"
             ],
             [
              0.6666666666666666,
              "#ed7953"
             ],
             [
              0.7777777777777778,
              "#fb9f3a"
             ],
             [
              0.8888888888888888,
              "#fdca26"
             ],
             [
              1,
              "#f0f921"
             ]
            ],
            "type": "contour"
           }
          ],
          "contourcarpet": [
           {
            "colorbar": {
             "outlinewidth": 0,
             "ticks": ""
            },
            "type": "contourcarpet"
           }
          ],
          "heatmap": [
           {
            "colorbar": {
             "outlinewidth": 0,
             "ticks": ""
            },
            "colorscale": [
             [
              0,
              "#0d0887"
             ],
             [
              0.1111111111111111,
              "#46039f"
             ],
             [
              0.2222222222222222,
              "#7201a8"
             ],
             [
              0.3333333333333333,
              "#9c179e"
             ],
             [
              0.4444444444444444,
              "#bd3786"
             ],
             [
              0.5555555555555556,
              "#d8576b"
             ],
             [
              0.6666666666666666,
              "#ed7953"
             ],
             [
              0.7777777777777778,
              "#fb9f3a"
             ],
             [
              0.8888888888888888,
              "#fdca26"
             ],
             [
              1,
              "#f0f921"
             ]
            ],
            "type": "heatmap"
           }
          ],
          "heatmapgl": [
           {
            "colorbar": {
             "outlinewidth": 0,
             "ticks": ""
            },
            "colorscale": [
             [
              0,
              "#0d0887"
             ],
             [
              0.1111111111111111,
              "#46039f"
             ],
             [
              0.2222222222222222,
              "#7201a8"
             ],
             [
              0.3333333333333333,
              "#9c179e"
             ],
             [
              0.4444444444444444,
              "#bd3786"
             ],
             [
              0.5555555555555556,
              "#d8576b"
             ],
             [
              0.6666666666666666,
              "#ed7953"
             ],
             [
              0.7777777777777778,
              "#fb9f3a"
             ],
             [
              0.8888888888888888,
              "#fdca26"
             ],
             [
              1,
              "#f0f921"
             ]
            ],
            "type": "heatmapgl"
           }
          ],
          "histogram": [
           {
            "marker": {
             "pattern": {
              "fillmode": "overlay",
              "size": 10,
              "solidity": 0.2
             }
            },
            "type": "histogram"
           }
          ],
          "histogram2d": [
           {
            "colorbar": {
             "outlinewidth": 0,
             "ticks": ""
            },
            "colorscale": [
             [
              0,
              "#0d0887"
             ],
             [
              0.1111111111111111,
              "#46039f"
             ],
             [
              0.2222222222222222,
              "#7201a8"
             ],
             [
              0.3333333333333333,
              "#9c179e"
             ],
             [
              0.4444444444444444,
              "#bd3786"
             ],
             [
              0.5555555555555556,
              "#d8576b"
             ],
             [
              0.6666666666666666,
              "#ed7953"
             ],
             [
              0.7777777777777778,
              "#fb9f3a"
             ],
             [
              0.8888888888888888,
              "#fdca26"
             ],
             [
              1,
              "#f0f921"
             ]
            ],
            "type": "histogram2d"
           }
          ],
          "histogram2dcontour": [
           {
            "colorbar": {
             "outlinewidth": 0,
             "ticks": ""
            },
            "colorscale": [
             [
              0,
              "#0d0887"
             ],
             [
              0.1111111111111111,
              "#46039f"
             ],
             [
              0.2222222222222222,
              "#7201a8"
             ],
             [
              0.3333333333333333,
              "#9c179e"
             ],
             [
              0.4444444444444444,
              "#bd3786"
             ],
             [
              0.5555555555555556,
              "#d8576b"
             ],
             [
              0.6666666666666666,
              "#ed7953"
             ],
             [
              0.7777777777777778,
              "#fb9f3a"
             ],
             [
              0.8888888888888888,
              "#fdca26"
             ],
             [
              1,
              "#f0f921"
             ]
            ],
            "type": "histogram2dcontour"
           }
          ],
          "mesh3d": [
           {
            "colorbar": {
             "outlinewidth": 0,
             "ticks": ""
            },
            "type": "mesh3d"
           }
          ],
          "parcoords": [
           {
            "line": {
             "colorbar": {
              "outlinewidth": 0,
              "ticks": ""
             }
            },
            "type": "parcoords"
           }
          ],
          "pie": [
           {
            "automargin": true,
            "type": "pie"
           }
          ],
          "scatter": [
           {
            "fillpattern": {
             "fillmode": "overlay",
             "size": 10,
             "solidity": 0.2
            },
            "type": "scatter"
           }
          ],
          "scatter3d": [
           {
            "line": {
             "colorbar": {
              "outlinewidth": 0,
              "ticks": ""
             }
            },
            "marker": {
             "colorbar": {
              "outlinewidth": 0,
              "ticks": ""
             }
            },
            "type": "scatter3d"
           }
          ],
          "scattercarpet": [
           {
            "marker": {
             "colorbar": {
              "outlinewidth": 0,
              "ticks": ""
             }
            },
            "type": "scattercarpet"
           }
          ],
          "scattergeo": [
           {
            "marker": {
             "colorbar": {
              "outlinewidth": 0,
              "ticks": ""
             }
            },
            "type": "scattergeo"
           }
          ],
          "scattergl": [
           {
            "marker": {
             "colorbar": {
              "outlinewidth": 0,
              "ticks": ""
             }
            },
            "type": "scattergl"
           }
          ],
          "scattermapbox": [
           {
            "marker": {
             "colorbar": {
              "outlinewidth": 0,
              "ticks": ""
             }
            },
            "type": "scattermapbox"
           }
          ],
          "scatterpolar": [
           {
            "marker": {
             "colorbar": {
              "outlinewidth": 0,
              "ticks": ""
             }
            },
            "type": "scatterpolar"
           }
          ],
          "scatterpolargl": [
           {
            "marker": {
             "colorbar": {
              "outlinewidth": 0,
              "ticks": ""
             }
            },
            "type": "scatterpolargl"
           }
          ],
          "scatterternary": [
           {
            "marker": {
             "colorbar": {
              "outlinewidth": 0,
              "ticks": ""
             }
            },
            "type": "scatterternary"
           }
          ],
          "surface": [
           {
            "colorbar": {
             "outlinewidth": 0,
             "ticks": ""
            },
            "colorscale": [
             [
              0,
              "#0d0887"
             ],
             [
              0.1111111111111111,
              "#46039f"
             ],
             [
              0.2222222222222222,
              "#7201a8"
             ],
             [
              0.3333333333333333,
              "#9c179e"
             ],
             [
              0.4444444444444444,
              "#bd3786"
             ],
             [
              0.5555555555555556,
              "#d8576b"
             ],
             [
              0.6666666666666666,
              "#ed7953"
             ],
             [
              0.7777777777777778,
              "#fb9f3a"
             ],
             [
              0.8888888888888888,
              "#fdca26"
             ],
             [
              1,
              "#f0f921"
             ]
            ],
            "type": "surface"
           }
          ],
          "table": [
           {
            "cells": {
             "fill": {
              "color": "#EBF0F8"
             },
             "line": {
              "color": "white"
             }
            },
            "header": {
             "fill": {
              "color": "#C8D4E3"
             },
             "line": {
              "color": "white"
             }
            },
            "type": "table"
           }
          ]
         },
         "layout": {
          "annotationdefaults": {
           "arrowcolor": "#2a3f5f",
           "arrowhead": 0,
           "arrowwidth": 1
          },
          "autotypenumbers": "strict",
          "coloraxis": {
           "colorbar": {
            "outlinewidth": 0,
            "ticks": ""
           }
          },
          "colorscale": {
           "diverging": [
            [
             0,
             "#8e0152"
            ],
            [
             0.1,
             "#c51b7d"
            ],
            [
             0.2,
             "#de77ae"
            ],
            [
             0.3,
             "#f1b6da"
            ],
            [
             0.4,
             "#fde0ef"
            ],
            [
             0.5,
             "#f7f7f7"
            ],
            [
             0.6,
             "#e6f5d0"
            ],
            [
             0.7,
             "#b8e186"
            ],
            [
             0.8,
             "#7fbc41"
            ],
            [
             0.9,
             "#4d9221"
            ],
            [
             1,
             "#276419"
            ]
           ],
           "sequential": [
            [
             0,
             "#0d0887"
            ],
            [
             0.1111111111111111,
             "#46039f"
            ],
            [
             0.2222222222222222,
             "#7201a8"
            ],
            [
             0.3333333333333333,
             "#9c179e"
            ],
            [
             0.4444444444444444,
             "#bd3786"
            ],
            [
             0.5555555555555556,
             "#d8576b"
            ],
            [
             0.6666666666666666,
             "#ed7953"
            ],
            [
             0.7777777777777778,
             "#fb9f3a"
            ],
            [
             0.8888888888888888,
             "#fdca26"
            ],
            [
             1,
             "#f0f921"
            ]
           ],
           "sequentialminus": [
            [
             0,
             "#0d0887"
            ],
            [
             0.1111111111111111,
             "#46039f"
            ],
            [
             0.2222222222222222,
             "#7201a8"
            ],
            [
             0.3333333333333333,
             "#9c179e"
            ],
            [
             0.4444444444444444,
             "#bd3786"
            ],
            [
             0.5555555555555556,
             "#d8576b"
            ],
            [
             0.6666666666666666,
             "#ed7953"
            ],
            [
             0.7777777777777778,
             "#fb9f3a"
            ],
            [
             0.8888888888888888,
             "#fdca26"
            ],
            [
             1,
             "#f0f921"
            ]
           ]
          },
          "colorway": [
           "#636efa",
           "#EF553B",
           "#00cc96",
           "#ab63fa",
           "#FFA15A",
           "#19d3f3",
           "#FF6692",
           "#B6E880",
           "#FF97FF",
           "#FECB52"
          ],
          "font": {
           "color": "#2a3f5f"
          },
          "geo": {
           "bgcolor": "white",
           "lakecolor": "white",
           "landcolor": "#E5ECF6",
           "showlakes": true,
           "showland": true,
           "subunitcolor": "white"
          },
          "hoverlabel": {
           "align": "left"
          },
          "hovermode": "closest",
          "mapbox": {
           "style": "light"
          },
          "paper_bgcolor": "white",
          "plot_bgcolor": "#E5ECF6",
          "polar": {
           "angularaxis": {
            "gridcolor": "white",
            "linecolor": "white",
            "ticks": ""
           },
           "bgcolor": "#E5ECF6",
           "radialaxis": {
            "gridcolor": "white",
            "linecolor": "white",
            "ticks": ""
           }
          },
          "scene": {
           "xaxis": {
            "backgroundcolor": "#E5ECF6",
            "gridcolor": "white",
            "gridwidth": 2,
            "linecolor": "white",
            "showbackground": true,
            "ticks": "",
            "zerolinecolor": "white"
           },
           "yaxis": {
            "backgroundcolor": "#E5ECF6",
            "gridcolor": "white",
            "gridwidth": 2,
            "linecolor": "white",
            "showbackground": true,
            "ticks": "",
            "zerolinecolor": "white"
           },
           "zaxis": {
            "backgroundcolor": "#E5ECF6",
            "gridcolor": "white",
            "gridwidth": 2,
            "linecolor": "white",
            "showbackground": true,
            "ticks": "",
            "zerolinecolor": "white"
           }
          },
          "shapedefaults": {
           "line": {
            "color": "#2a3f5f"
           }
          },
          "ternary": {
           "aaxis": {
            "gridcolor": "white",
            "linecolor": "white",
            "ticks": ""
           },
           "baxis": {
            "gridcolor": "white",
            "linecolor": "white",
            "ticks": ""
           },
           "bgcolor": "#E5ECF6",
           "caxis": {
            "gridcolor": "white",
            "linecolor": "white",
            "ticks": ""
           }
          },
          "title": {
           "x": 0.05
          },
          "xaxis": {
           "automargin": true,
           "gridcolor": "white",
           "linecolor": "white",
           "ticks": "",
           "title": {
            "standoff": 15
           },
           "zerolinecolor": "white",
           "zerolinewidth": 2
          },
          "yaxis": {
           "automargin": true,
           "gridcolor": "white",
           "linecolor": "white",
           "ticks": "",
           "title": {
            "standoff": 15
           },
           "zerolinecolor": "white",
           "zerolinewidth": 2
          }
         }
        },
        "title": {
         "text": "Acces To Electricity Around The World"
        },
        "xaxis": {
         "anchor": "y",
         "domain": [
          0,
          1
         ],
         "title": {
          "text": "Year"
         }
        },
        "yaxis": {
         "anchor": "x",
         "domain": [
          0,
          1
         ],
         "title": {
          "text": "Access to electricity (% of population)"
         }
        }
       }
      }
     },
     "metadata": {},
     "output_type": "display_data"
    }
   ],
   "source": [
    "# yıllara göre dünyadaki ortalama elektiriğe erişim yüzdelerini gösteren çizgi grafiği\n",
    "px.line(x = \"Year\", y = \"Access to electricity (% of population)\" ,data_frame=electricity, title = \"Acces To Electricity Around The World\")"
   ]
  },
  {
   "cell_type": "code",
   "execution_count": 353,
   "metadata": {},
   "outputs": [
    {
     "data": {
      "text/html": [
       "<div>\n",
       "<style scoped>\n",
       "    .dataframe tbody tr th:only-of-type {\n",
       "        vertical-align: middle;\n",
       "    }\n",
       "\n",
       "    .dataframe tbody tr th {\n",
       "        vertical-align: top;\n",
       "    }\n",
       "\n",
       "    .dataframe thead th {\n",
       "        text-align: right;\n",
       "    }\n",
       "</style>\n",
       "<table border=\"1\" class=\"dataframe\">\n",
       "  <thead>\n",
       "    <tr style=\"text-align: right;\">\n",
       "      <th></th>\n",
       "      <th>Year</th>\n",
       "      <th>Access to clean fuels for cooking</th>\n",
       "    </tr>\n",
       "  </thead>\n",
       "  <tbody>\n",
       "    <tr>\n",
       "      <th>0</th>\n",
       "      <td>2000</td>\n",
       "      <td>58.333223</td>\n",
       "    </tr>\n",
       "    <tr>\n",
       "      <th>1</th>\n",
       "      <td>2001</td>\n",
       "      <td>58.843851</td>\n",
       "    </tr>\n",
       "    <tr>\n",
       "      <th>2</th>\n",
       "      <td>2002</td>\n",
       "      <td>59.381641</td>\n",
       "    </tr>\n",
       "    <tr>\n",
       "      <th>3</th>\n",
       "      <td>2003</td>\n",
       "      <td>59.941525</td>\n",
       "    </tr>\n",
       "    <tr>\n",
       "      <th>4</th>\n",
       "      <td>2004</td>\n",
       "      <td>60.468269</td>\n",
       "    </tr>\n",
       "    <tr>\n",
       "      <th>5</th>\n",
       "      <td>2005</td>\n",
       "      <td>61.012165</td>\n",
       "    </tr>\n",
       "    <tr>\n",
       "      <th>6</th>\n",
       "      <td>2006</td>\n",
       "      <td>61.556932</td>\n",
       "    </tr>\n",
       "    <tr>\n",
       "      <th>7</th>\n",
       "      <td>2007</td>\n",
       "      <td>62.107427</td>\n",
       "    </tr>\n",
       "    <tr>\n",
       "      <th>8</th>\n",
       "      <td>2008</td>\n",
       "      <td>62.633289</td>\n",
       "    </tr>\n",
       "    <tr>\n",
       "      <th>9</th>\n",
       "      <td>2009</td>\n",
       "      <td>63.129553</td>\n",
       "    </tr>\n",
       "    <tr>\n",
       "      <th>10</th>\n",
       "      <td>2010</td>\n",
       "      <td>63.624668</td>\n",
       "    </tr>\n",
       "    <tr>\n",
       "      <th>11</th>\n",
       "      <td>2011</td>\n",
       "      <td>64.113174</td>\n",
       "    </tr>\n",
       "    <tr>\n",
       "      <th>12</th>\n",
       "      <td>2012</td>\n",
       "      <td>64.559151</td>\n",
       "    </tr>\n",
       "    <tr>\n",
       "      <th>13</th>\n",
       "      <td>2013</td>\n",
       "      <td>64.624242</td>\n",
       "    </tr>\n",
       "    <tr>\n",
       "      <th>14</th>\n",
       "      <td>2014</td>\n",
       "      <td>65.065099</td>\n",
       "    </tr>\n",
       "    <tr>\n",
       "      <th>15</th>\n",
       "      <td>2015</td>\n",
       "      <td>65.457670</td>\n",
       "    </tr>\n",
       "    <tr>\n",
       "      <th>16</th>\n",
       "      <td>2016</td>\n",
       "      <td>65.879385</td>\n",
       "    </tr>\n",
       "    <tr>\n",
       "      <th>17</th>\n",
       "      <td>2017</td>\n",
       "      <td>66.253099</td>\n",
       "    </tr>\n",
       "    <tr>\n",
       "      <th>18</th>\n",
       "      <td>2018</td>\n",
       "      <td>66.633385</td>\n",
       "    </tr>\n",
       "    <tr>\n",
       "      <th>19</th>\n",
       "      <td>2019</td>\n",
       "      <td>67.007385</td>\n",
       "    </tr>\n",
       "    <tr>\n",
       "      <th>20</th>\n",
       "      <td>2020</td>\n",
       "      <td>67.369099</td>\n",
       "    </tr>\n",
       "  </tbody>\n",
       "</table>\n",
       "</div>"
      ],
      "text/plain": [
       "    Year  Access to clean fuels for cooking\n",
       "0   2000                          58.333223\n",
       "1   2001                          58.843851\n",
       "2   2002                          59.381641\n",
       "3   2003                          59.941525\n",
       "4   2004                          60.468269\n",
       "5   2005                          61.012165\n",
       "6   2006                          61.556932\n",
       "7   2007                          62.107427\n",
       "8   2008                          62.633289\n",
       "9   2009                          63.129553\n",
       "10  2010                          63.624668\n",
       "11  2011                          64.113174\n",
       "12  2012                          64.559151\n",
       "13  2013                          64.624242\n",
       "14  2014                          65.065099\n",
       "15  2015                          65.457670\n",
       "16  2016                          65.879385\n",
       "17  2017                          66.253099\n",
       "18  2018                          66.633385\n",
       "19  2019                          67.007385\n",
       "20  2020                          67.369099"
      ]
     },
     "execution_count": 353,
     "metadata": {},
     "output_type": "execute_result"
    }
   ],
   "source": [
    "# yıllara göre dünyadaki ortalama temiz yakıtlara erişim yüzdeleri\n",
    "clean_fuels = data_filled.groupby(\"Year\")[[\"Access to clean fuels for cooking\"]].mean().reset_index()\n",
    "clean_fuels"
   ]
  },
  {
   "cell_type": "code",
   "execution_count": 354,
   "metadata": {},
   "outputs": [],
   "source": [
    "from plotly.subplots import make_subplots\n",
    "import plotly.graph_objects as go\n"
   ]
  },
  {
   "cell_type": "code",
   "execution_count": 355,
   "metadata": {},
   "outputs": [
    {
     "name": "stderr",
     "output_type": "stream",
     "text": [
      "c:\\Users\\Emine\\anaconda3\\Lib\\site-packages\\plotly\\graph_objs\\_deprecations.py:378: DeprecationWarning:\n",
      "\n",
      "plotly.graph_objs.Line is deprecated.\n",
      "Please replace it with one of the following more specific types\n",
      "  - plotly.graph_objs.scatter.Line\n",
      "  - plotly.graph_objs.layout.shape.Line\n",
      "  - etc.\n",
      "\n",
      "\n"
     ]
    },
    {
     "data": {
      "application/vnd.plotly.v1+json": {
       "config": {
        "plotlyServerURL": "https://plot.ly"
       },
       "data": [
        {
         "name": "Access to Electricity",
         "type": "scatter",
         "x": [
          2000,
          2001,
          2002,
          2003,
          2004,
          2005,
          2006,
          2007,
          2008,
          2009,
          2010,
          2011,
          2012,
          2013,
          2014,
          2015,
          2016,
          2017,
          2018,
          2019,
          2020
         ],
         "xaxis": "x",
         "y": [
          73.22208501090307,
          73.70797867688462,
          74.02116545617487,
          74.59020137477953,
          75.16997563524464,
          75.58042581838417,
          76.50642307012836,
          76.9137928678161,
          77.44069590977011,
          77.80496805977012,
          78.53495358850574,
          79.40394607471264,
          80.27541079885057,
          80.31820591828571,
          81.048828764,
          81.68352206285715,
          82.77789023257142,
          83.56211616,
          84.32894910628572,
          84.76053396571429,
          85.46007794457142
         ],
         "yaxis": "y"
        },
        {
         "name": "Acces to Clean Fuels",
         "type": "scatter",
         "x": [
          2000,
          2001,
          2002,
          2003,
          2004,
          2005,
          2006,
          2007,
          2008,
          2009,
          2010,
          2011,
          2012,
          2013,
          2014,
          2015,
          2016,
          2017,
          2018,
          2019,
          2020
         ],
         "xaxis": "x2",
         "y": [
          58.333223041658364,
          58.84385057471264,
          59.381641272387064,
          59.94152499331729,
          60.4682691793638,
          61.01216452820102,
          61.55693197006148,
          62.10742700488836,
          62.633289073853874,
          63.12955344166997,
          63.6246683841987,
          64.11317413132514,
          64.55915114281939,
          64.62424170771757,
          65.06509885057471,
          65.45767027914614,
          65.87938456486043,
          66.25309885057472,
          66.63338456486044,
          67.00738456486043,
          67.36909885057472
         ],
         "yaxis": "y2"
        }
       ],
       "layout": {
        "annotations": [
         {
          "font": {
           "size": 16
          },
          "showarrow": false,
          "text": "Year",
          "x": 0.5,
          "xanchor": "center",
          "xref": "paper",
          "y": 0,
          "yanchor": "top",
          "yref": "paper",
          "yshift": -30
         },
         {
          "font": {
           "size": 16
          },
          "showarrow": false,
          "text": "% Access",
          "textangle": -90,
          "x": 0,
          "xanchor": "right",
          "xref": "paper",
          "xshift": -40,
          "y": 0.5,
          "yanchor": "middle",
          "yref": "paper"
         }
        ],
        "template": {
         "data": {
          "bar": [
           {
            "error_x": {
             "color": "#2a3f5f"
            },
            "error_y": {
             "color": "#2a3f5f"
            },
            "marker": {
             "line": {
              "color": "#E5ECF6",
              "width": 0.5
             },
             "pattern": {
              "fillmode": "overlay",
              "size": 10,
              "solidity": 0.2
             }
            },
            "type": "bar"
           }
          ],
          "barpolar": [
           {
            "marker": {
             "line": {
              "color": "#E5ECF6",
              "width": 0.5
             },
             "pattern": {
              "fillmode": "overlay",
              "size": 10,
              "solidity": 0.2
             }
            },
            "type": "barpolar"
           }
          ],
          "carpet": [
           {
            "aaxis": {
             "endlinecolor": "#2a3f5f",
             "gridcolor": "white",
             "linecolor": "white",
             "minorgridcolor": "white",
             "startlinecolor": "#2a3f5f"
            },
            "baxis": {
             "endlinecolor": "#2a3f5f",
             "gridcolor": "white",
             "linecolor": "white",
             "minorgridcolor": "white",
             "startlinecolor": "#2a3f5f"
            },
            "type": "carpet"
           }
          ],
          "choropleth": [
           {
            "colorbar": {
             "outlinewidth": 0,
             "ticks": ""
            },
            "type": "choropleth"
           }
          ],
          "contour": [
           {
            "colorbar": {
             "outlinewidth": 0,
             "ticks": ""
            },
            "colorscale": [
             [
              0,
              "#0d0887"
             ],
             [
              0.1111111111111111,
              "#46039f"
             ],
             [
              0.2222222222222222,
              "#7201a8"
             ],
             [
              0.3333333333333333,
              "#9c179e"
             ],
             [
              0.4444444444444444,
              "#bd3786"
             ],
             [
              0.5555555555555556,
              "#d8576b"
             ],
             [
              0.6666666666666666,
              "#ed7953"
             ],
             [
              0.7777777777777778,
              "#fb9f3a"
             ],
             [
              0.8888888888888888,
              "#fdca26"
             ],
             [
              1,
              "#f0f921"
             ]
            ],
            "type": "contour"
           }
          ],
          "contourcarpet": [
           {
            "colorbar": {
             "outlinewidth": 0,
             "ticks": ""
            },
            "type": "contourcarpet"
           }
          ],
          "heatmap": [
           {
            "colorbar": {
             "outlinewidth": 0,
             "ticks": ""
            },
            "colorscale": [
             [
              0,
              "#0d0887"
             ],
             [
              0.1111111111111111,
              "#46039f"
             ],
             [
              0.2222222222222222,
              "#7201a8"
             ],
             [
              0.3333333333333333,
              "#9c179e"
             ],
             [
              0.4444444444444444,
              "#bd3786"
             ],
             [
              0.5555555555555556,
              "#d8576b"
             ],
             [
              0.6666666666666666,
              "#ed7953"
             ],
             [
              0.7777777777777778,
              "#fb9f3a"
             ],
             [
              0.8888888888888888,
              "#fdca26"
             ],
             [
              1,
              "#f0f921"
             ]
            ],
            "type": "heatmap"
           }
          ],
          "heatmapgl": [
           {
            "colorbar": {
             "outlinewidth": 0,
             "ticks": ""
            },
            "colorscale": [
             [
              0,
              "#0d0887"
             ],
             [
              0.1111111111111111,
              "#46039f"
             ],
             [
              0.2222222222222222,
              "#7201a8"
             ],
             [
              0.3333333333333333,
              "#9c179e"
             ],
             [
              0.4444444444444444,
              "#bd3786"
             ],
             [
              0.5555555555555556,
              "#d8576b"
             ],
             [
              0.6666666666666666,
              "#ed7953"
             ],
             [
              0.7777777777777778,
              "#fb9f3a"
             ],
             [
              0.8888888888888888,
              "#fdca26"
             ],
             [
              1,
              "#f0f921"
             ]
            ],
            "type": "heatmapgl"
           }
          ],
          "histogram": [
           {
            "marker": {
             "pattern": {
              "fillmode": "overlay",
              "size": 10,
              "solidity": 0.2
             }
            },
            "type": "histogram"
           }
          ],
          "histogram2d": [
           {
            "colorbar": {
             "outlinewidth": 0,
             "ticks": ""
            },
            "colorscale": [
             [
              0,
              "#0d0887"
             ],
             [
              0.1111111111111111,
              "#46039f"
             ],
             [
              0.2222222222222222,
              "#7201a8"
             ],
             [
              0.3333333333333333,
              "#9c179e"
             ],
             [
              0.4444444444444444,
              "#bd3786"
             ],
             [
              0.5555555555555556,
              "#d8576b"
             ],
             [
              0.6666666666666666,
              "#ed7953"
             ],
             [
              0.7777777777777778,
              "#fb9f3a"
             ],
             [
              0.8888888888888888,
              "#fdca26"
             ],
             [
              1,
              "#f0f921"
             ]
            ],
            "type": "histogram2d"
           }
          ],
          "histogram2dcontour": [
           {
            "colorbar": {
             "outlinewidth": 0,
             "ticks": ""
            },
            "colorscale": [
             [
              0,
              "#0d0887"
             ],
             [
              0.1111111111111111,
              "#46039f"
             ],
             [
              0.2222222222222222,
              "#7201a8"
             ],
             [
              0.3333333333333333,
              "#9c179e"
             ],
             [
              0.4444444444444444,
              "#bd3786"
             ],
             [
              0.5555555555555556,
              "#d8576b"
             ],
             [
              0.6666666666666666,
              "#ed7953"
             ],
             [
              0.7777777777777778,
              "#fb9f3a"
             ],
             [
              0.8888888888888888,
              "#fdca26"
             ],
             [
              1,
              "#f0f921"
             ]
            ],
            "type": "histogram2dcontour"
           }
          ],
          "mesh3d": [
           {
            "colorbar": {
             "outlinewidth": 0,
             "ticks": ""
            },
            "type": "mesh3d"
           }
          ],
          "parcoords": [
           {
            "line": {
             "colorbar": {
              "outlinewidth": 0,
              "ticks": ""
             }
            },
            "type": "parcoords"
           }
          ],
          "pie": [
           {
            "automargin": true,
            "type": "pie"
           }
          ],
          "scatter": [
           {
            "fillpattern": {
             "fillmode": "overlay",
             "size": 10,
             "solidity": 0.2
            },
            "type": "scatter"
           }
          ],
          "scatter3d": [
           {
            "line": {
             "colorbar": {
              "outlinewidth": 0,
              "ticks": ""
             }
            },
            "marker": {
             "colorbar": {
              "outlinewidth": 0,
              "ticks": ""
             }
            },
            "type": "scatter3d"
           }
          ],
          "scattercarpet": [
           {
            "marker": {
             "colorbar": {
              "outlinewidth": 0,
              "ticks": ""
             }
            },
            "type": "scattercarpet"
           }
          ],
          "scattergeo": [
           {
            "marker": {
             "colorbar": {
              "outlinewidth": 0,
              "ticks": ""
             }
            },
            "type": "scattergeo"
           }
          ],
          "scattergl": [
           {
            "marker": {
             "colorbar": {
              "outlinewidth": 0,
              "ticks": ""
             }
            },
            "type": "scattergl"
           }
          ],
          "scattermapbox": [
           {
            "marker": {
             "colorbar": {
              "outlinewidth": 0,
              "ticks": ""
             }
            },
            "type": "scattermapbox"
           }
          ],
          "scatterpolar": [
           {
            "marker": {
             "colorbar": {
              "outlinewidth": 0,
              "ticks": ""
             }
            },
            "type": "scatterpolar"
           }
          ],
          "scatterpolargl": [
           {
            "marker": {
             "colorbar": {
              "outlinewidth": 0,
              "ticks": ""
             }
            },
            "type": "scatterpolargl"
           }
          ],
          "scatterternary": [
           {
            "marker": {
             "colorbar": {
              "outlinewidth": 0,
              "ticks": ""
             }
            },
            "type": "scatterternary"
           }
          ],
          "surface": [
           {
            "colorbar": {
             "outlinewidth": 0,
             "ticks": ""
            },
            "colorscale": [
             [
              0,
              "#0d0887"
             ],
             [
              0.1111111111111111,
              "#46039f"
             ],
             [
              0.2222222222222222,
              "#7201a8"
             ],
             [
              0.3333333333333333,
              "#9c179e"
             ],
             [
              0.4444444444444444,
              "#bd3786"
             ],
             [
              0.5555555555555556,
              "#d8576b"
             ],
             [
              0.6666666666666666,
              "#ed7953"
             ],
             [
              0.7777777777777778,
              "#fb9f3a"
             ],
             [
              0.8888888888888888,
              "#fdca26"
             ],
             [
              1,
              "#f0f921"
             ]
            ],
            "type": "surface"
           }
          ],
          "table": [
           {
            "cells": {
             "fill": {
              "color": "#EBF0F8"
             },
             "line": {
              "color": "white"
             }
            },
            "header": {
             "fill": {
              "color": "#C8D4E3"
             },
             "line": {
              "color": "white"
             }
            },
            "type": "table"
           }
          ]
         },
         "layout": {
          "annotationdefaults": {
           "arrowcolor": "#2a3f5f",
           "arrowhead": 0,
           "arrowwidth": 1
          },
          "autotypenumbers": "strict",
          "coloraxis": {
           "colorbar": {
            "outlinewidth": 0,
            "ticks": ""
           }
          },
          "colorscale": {
           "diverging": [
            [
             0,
             "#8e0152"
            ],
            [
             0.1,
             "#c51b7d"
            ],
            [
             0.2,
             "#de77ae"
            ],
            [
             0.3,
             "#f1b6da"
            ],
            [
             0.4,
             "#fde0ef"
            ],
            [
             0.5,
             "#f7f7f7"
            ],
            [
             0.6,
             "#e6f5d0"
            ],
            [
             0.7,
             "#b8e186"
            ],
            [
             0.8,
             "#7fbc41"
            ],
            [
             0.9,
             "#4d9221"
            ],
            [
             1,
             "#276419"
            ]
           ],
           "sequential": [
            [
             0,
             "#0d0887"
            ],
            [
             0.1111111111111111,
             "#46039f"
            ],
            [
             0.2222222222222222,
             "#7201a8"
            ],
            [
             0.3333333333333333,
             "#9c179e"
            ],
            [
             0.4444444444444444,
             "#bd3786"
            ],
            [
             0.5555555555555556,
             "#d8576b"
            ],
            [
             0.6666666666666666,
             "#ed7953"
            ],
            [
             0.7777777777777778,
             "#fb9f3a"
            ],
            [
             0.8888888888888888,
             "#fdca26"
            ],
            [
             1,
             "#f0f921"
            ]
           ],
           "sequentialminus": [
            [
             0,
             "#0d0887"
            ],
            [
             0.1111111111111111,
             "#46039f"
            ],
            [
             0.2222222222222222,
             "#7201a8"
            ],
            [
             0.3333333333333333,
             "#9c179e"
            ],
            [
             0.4444444444444444,
             "#bd3786"
            ],
            [
             0.5555555555555556,
             "#d8576b"
            ],
            [
             0.6666666666666666,
             "#ed7953"
            ],
            [
             0.7777777777777778,
             "#fb9f3a"
            ],
            [
             0.8888888888888888,
             "#fdca26"
            ],
            [
             1,
             "#f0f921"
            ]
           ]
          },
          "colorway": [
           "#636efa",
           "#EF553B",
           "#00cc96",
           "#ab63fa",
           "#FFA15A",
           "#19d3f3",
           "#FF6692",
           "#B6E880",
           "#FF97FF",
           "#FECB52"
          ],
          "font": {
           "color": "#2a3f5f"
          },
          "geo": {
           "bgcolor": "white",
           "lakecolor": "white",
           "landcolor": "#E5ECF6",
           "showlakes": true,
           "showland": true,
           "subunitcolor": "white"
          },
          "hoverlabel": {
           "align": "left"
          },
          "hovermode": "closest",
          "mapbox": {
           "style": "light"
          },
          "paper_bgcolor": "white",
          "plot_bgcolor": "#E5ECF6",
          "polar": {
           "angularaxis": {
            "gridcolor": "white",
            "linecolor": "white",
            "ticks": ""
           },
           "bgcolor": "#E5ECF6",
           "radialaxis": {
            "gridcolor": "white",
            "linecolor": "white",
            "ticks": ""
           }
          },
          "scene": {
           "xaxis": {
            "backgroundcolor": "#E5ECF6",
            "gridcolor": "white",
            "gridwidth": 2,
            "linecolor": "white",
            "showbackground": true,
            "ticks": "",
            "zerolinecolor": "white"
           },
           "yaxis": {
            "backgroundcolor": "#E5ECF6",
            "gridcolor": "white",
            "gridwidth": 2,
            "linecolor": "white",
            "showbackground": true,
            "ticks": "",
            "zerolinecolor": "white"
           },
           "zaxis": {
            "backgroundcolor": "#E5ECF6",
            "gridcolor": "white",
            "gridwidth": 2,
            "linecolor": "white",
            "showbackground": true,
            "ticks": "",
            "zerolinecolor": "white"
           }
          },
          "shapedefaults": {
           "line": {
            "color": "#2a3f5f"
           }
          },
          "ternary": {
           "aaxis": {
            "gridcolor": "white",
            "linecolor": "white",
            "ticks": ""
           },
           "baxis": {
            "gridcolor": "white",
            "linecolor": "white",
            "ticks": ""
           },
           "bgcolor": "#E5ECF6",
           "caxis": {
            "gridcolor": "white",
            "linecolor": "white",
            "ticks": ""
           }
          },
          "title": {
           "x": 0.05
          },
          "xaxis": {
           "automargin": true,
           "gridcolor": "white",
           "linecolor": "white",
           "ticks": "",
           "title": {
            "standoff": 15
           },
           "zerolinecolor": "white",
           "zerolinewidth": 2
          },
          "yaxis": {
           "automargin": true,
           "gridcolor": "white",
           "linecolor": "white",
           "ticks": "",
           "title": {
            "standoff": 15
           },
           "zerolinecolor": "white",
           "zerolinewidth": 2
          }
         }
        },
        "title": {
         "text": "Access To Electricity And Clean Fuels"
        },
        "xaxis": {
         "anchor": "y",
         "domain": [
          0,
          1
         ]
        },
        "xaxis2": {
         "anchor": "y2",
         "domain": [
          0,
          1
         ]
        },
        "yaxis": {
         "anchor": "x",
         "domain": [
          0.575,
          1
         ],
         "range": [
          50,
          90
         ]
        },
        "yaxis2": {
         "anchor": "x2",
         "domain": [
          0,
          0.425
         ],
         "range": [
          50,
          90
         ]
        }
       }
      }
     },
     "metadata": {},
     "output_type": "display_data"
    }
   ],
   "source": [
    "# yıllara göre dünyadaki ortalama elektriğe ve temiz yakıtlara erişim yüzdelerini gösteren çizgi grafiği\n",
    "fig = make_subplots(x_title = \"Year\",y_title = \"% Access\",rows = 2, cols= 1)\n",
    "fig.append_trace(go.Line(x = electricity[\"Year\"], y = electricity[\"Access to electricity (% of population)\"], name=\"Access to Electricity\"), row = 1, col = 1)\n",
    "fig.update_yaxes(range=[50,90], row=1, col=1)\n",
    "fig.append_trace(go.Line(x = clean_fuels[\"Year\"], y = clean_fuels[\"Access to clean fuels for cooking\"],name=\"Acces to Clean Fuels\"), row = 2, col = 1)\n",
    "fig.update_yaxes(range=[50,90], row=2, col=1)\n",
    "fig.update_layout(title_text = \"Access To Electricity And Clean Fuels\")\n",
    "fig.show()"
   ]
  },
  {
   "cell_type": "code",
   "execution_count": 356,
   "metadata": {},
   "outputs": [
    {
     "data": {
      "text/html": [
       "<div>\n",
       "<style scoped>\n",
       "    .dataframe tbody tr th:only-of-type {\n",
       "        vertical-align: middle;\n",
       "    }\n",
       "\n",
       "    .dataframe tbody tr th {\n",
       "        vertical-align: top;\n",
       "    }\n",
       "\n",
       "    .dataframe thead th {\n",
       "        text-align: right;\n",
       "    }\n",
       "</style>\n",
       "<table border=\"1\" class=\"dataframe\">\n",
       "  <thead>\n",
       "    <tr style=\"text-align: right;\">\n",
       "      <th></th>\n",
       "      <th>Entity</th>\n",
       "      <th>Electricity from fossil fuels (TWh)</th>\n",
       "    </tr>\n",
       "  </thead>\n",
       "  <tbody>\n",
       "    <tr>\n",
       "      <th>0</th>\n",
       "      <td>Australia</td>\n",
       "      <td>4241.59</td>\n",
       "    </tr>\n",
       "    <tr>\n",
       "      <th>1</th>\n",
       "      <td>Brazil</td>\n",
       "      <td>1397.75</td>\n",
       "    </tr>\n",
       "    <tr>\n",
       "      <th>2</th>\n",
       "      <td>Canada</td>\n",
       "      <td>2806.02</td>\n",
       "    </tr>\n",
       "    <tr>\n",
       "      <th>3</th>\n",
       "      <td>China</td>\n",
       "      <td>67927.33</td>\n",
       "    </tr>\n",
       "    <tr>\n",
       "      <th>4</th>\n",
       "      <td>France</td>\n",
       "      <td>1128.16</td>\n",
       "    </tr>\n",
       "    <tr>\n",
       "      <th>5</th>\n",
       "      <td>Germany</td>\n",
       "      <td>7640.41</td>\n",
       "    </tr>\n",
       "    <tr>\n",
       "      <th>6</th>\n",
       "      <td>India</td>\n",
       "      <td>17445.83</td>\n",
       "    </tr>\n",
       "    <tr>\n",
       "      <th>7</th>\n",
       "      <td>Japan</td>\n",
       "      <td>15140.82</td>\n",
       "    </tr>\n",
       "    <tr>\n",
       "      <th>8</th>\n",
       "      <td>Mexico</td>\n",
       "      <td>4303.04</td>\n",
       "    </tr>\n",
       "    <tr>\n",
       "      <th>9</th>\n",
       "      <td>Saudi Arabia</td>\n",
       "      <td>5188.39</td>\n",
       "    </tr>\n",
       "    <tr>\n",
       "      <th>10</th>\n",
       "      <td>South Africa</td>\n",
       "      <td>4472.77</td>\n",
       "    </tr>\n",
       "    <tr>\n",
       "      <th>11</th>\n",
       "      <td>Turkey</td>\n",
       "      <td>3216.08</td>\n",
       "    </tr>\n",
       "    <tr>\n",
       "      <th>12</th>\n",
       "      <td>United Kingdom</td>\n",
       "      <td>5131.52</td>\n",
       "    </tr>\n",
       "    <tr>\n",
       "      <th>13</th>\n",
       "      <td>United States</td>\n",
       "      <td>57652.00</td>\n",
       "    </tr>\n",
       "  </tbody>\n",
       "</table>\n",
       "</div>"
      ],
      "text/plain": [
       "            Entity  Electricity from fossil fuels (TWh)\n",
       "0        Australia                              4241.59\n",
       "1           Brazil                              1397.75\n",
       "2           Canada                              2806.02\n",
       "3            China                             67927.33\n",
       "4           France                              1128.16\n",
       "5          Germany                              7640.41\n",
       "6            India                             17445.83\n",
       "7            Japan                             15140.82\n",
       "8           Mexico                              4303.04\n",
       "9     Saudi Arabia                              5188.39\n",
       "10    South Africa                              4472.77\n",
       "11          Turkey                              3216.08\n",
       "12  United Kingdom                              5131.52\n",
       "13   United States                             57652.00"
      ]
     },
     "execution_count": 356,
     "metadata": {},
     "output_type": "execute_result"
    }
   ],
   "source": [
    "# bazı ülkelerin verilerini filtreliyoruz\n",
    "selected_entity = [\"Australia\",\"Brazil\",\"Canada\",\"China\",\"France\",\"Germany\",\"India\",\"Japan\",\"Mexico\",\n",
    "\"Saudi Arabia\",\"South Africa\",\"Turkey\",\"United Kingdom\",\"United States\"]\n",
    "filtered_data = data_filled[data_filled['Entity'].isin(selected_entity)]\n",
    "\n",
    "# 21 yılda ülkelere göre fosil yakıtlardan üretilen toplam elektrik (Twh)\n",
    "electricity_fossilfuels = filtered_data.groupby(\"Entity\")[[\"Electricity from fossil fuels (TWh)\"]].sum().reset_index()\n",
    "electricity_fossilfuels\n",
    "\n"
   ]
  },
  {
   "cell_type": "code",
   "execution_count": 357,
   "metadata": {},
   "outputs": [
    {
     "data": {
      "text/plain": [
       "Text(0.5, 1.0, 'Total Amount Of Electricity From Fossil Fuels')"
      ]
     },
     "execution_count": 357,
     "metadata": {},
     "output_type": "execute_result"
    },
    {
     "data": {
      "image/png": "[encoded data removed]",
      "text/plain": [
       "<Figure size 1000x500 with 1 Axes>"
      ]
     },
     "metadata": {},
     "output_type": "display_data"
    }
   ],
   "source": [
    "# 21 yılda ülkelere göre fosil yakıtlardan üretilen toplam elektriği (Twh) gösteren sütun grafiği\n",
    "plt.figure(figsize=(10,5))\n",
    "plt.bar(x = \"Entity\", height = \"Electricity from fossil fuels (TWh)\", data = electricity_fossilfuels)\n",
    "plt.xticks(rotation=90);\n",
    "plt.xlabel(\"Entity\")\n",
    "plt.ylabel(\"Electricity from fossil fuels (TWh)\")\n",
    "plt.title(\"Total Amount Of Electricity From Fossil Fuels\")\n"
   ]
  },
  {
   "cell_type": "code",
   "execution_count": 358,
   "metadata": {},
   "outputs": [
    {
     "data": {
      "text/html": [
       "<div>\n",
       "<style scoped>\n",
       "    .dataframe tbody tr th:only-of-type {\n",
       "        vertical-align: middle;\n",
       "    }\n",
       "\n",
       "    .dataframe tbody tr th {\n",
       "        vertical-align: top;\n",
       "    }\n",
       "\n",
       "    .dataframe thead th {\n",
       "        text-align: right;\n",
       "    }\n",
       "</style>\n",
       "<table border=\"1\" class=\"dataframe\">\n",
       "  <thead>\n",
       "    <tr style=\"text-align: right;\">\n",
       "      <th></th>\n",
       "      <th>Entity</th>\n",
       "      <th>Electricity from nuclear (TWh)</th>\n",
       "    </tr>\n",
       "  </thead>\n",
       "  <tbody>\n",
       "    <tr>\n",
       "      <th>0</th>\n",
       "      <td>Australia</td>\n",
       "      <td>0.000000</td>\n",
       "    </tr>\n",
       "    <tr>\n",
       "      <th>1</th>\n",
       "      <td>Brazil</td>\n",
       "      <td>277.060000</td>\n",
       "    </tr>\n",
       "    <tr>\n",
       "      <th>2</th>\n",
       "      <td>Canada</td>\n",
       "      <td>1844.240000</td>\n",
       "    </tr>\n",
       "    <tr>\n",
       "      <th>3</th>\n",
       "      <td>China</td>\n",
       "      <td>2609.190000</td>\n",
       "    </tr>\n",
       "    <tr>\n",
       "      <th>4</th>\n",
       "      <td>France</td>\n",
       "      <td>8914.200000</td>\n",
       "    </tr>\n",
       "    <tr>\n",
       "      <th>5</th>\n",
       "      <td>Germany</td>\n",
       "      <td>2602.750000</td>\n",
       "    </tr>\n",
       "    <tr>\n",
       "      <th>6</th>\n",
       "      <td>India</td>\n",
       "      <td>577.530000</td>\n",
       "    </tr>\n",
       "    <tr>\n",
       "      <th>7</th>\n",
       "      <td>Japan</td>\n",
       "      <td>3386.870000</td>\n",
       "    </tr>\n",
       "    <tr>\n",
       "      <th>8</th>\n",
       "      <td>Mexico</td>\n",
       "      <td>205.710000</td>\n",
       "    </tr>\n",
       "    <tr>\n",
       "      <th>9</th>\n",
       "      <td>Saudi Arabia</td>\n",
       "      <td>282.453994</td>\n",
       "    </tr>\n",
       "    <tr>\n",
       "      <th>10</th>\n",
       "      <td>South Africa</td>\n",
       "      <td>265.550000</td>\n",
       "    </tr>\n",
       "    <tr>\n",
       "      <th>11</th>\n",
       "      <td>Turkey</td>\n",
       "      <td>0.000000</td>\n",
       "    </tr>\n",
       "    <tr>\n",
       "      <th>12</th>\n",
       "      <td>United Kingdom</td>\n",
       "      <td>1493.760000</td>\n",
       "    </tr>\n",
       "    <tr>\n",
       "      <th>13</th>\n",
       "      <td>United States</td>\n",
       "      <td>16602.610000</td>\n",
       "    </tr>\n",
       "  </tbody>\n",
       "</table>\n",
       "</div>"
      ],
      "text/plain": [
       "            Entity  Electricity from nuclear (TWh)\n",
       "0        Australia                        0.000000\n",
       "1           Brazil                      277.060000\n",
       "2           Canada                     1844.240000\n",
       "3            China                     2609.190000\n",
       "4           France                     8914.200000\n",
       "5          Germany                     2602.750000\n",
       "6            India                      577.530000\n",
       "7            Japan                     3386.870000\n",
       "8           Mexico                      205.710000\n",
       "9     Saudi Arabia                      282.453994\n",
       "10    South Africa                      265.550000\n",
       "11          Turkey                        0.000000\n",
       "12  United Kingdom                     1493.760000\n",
       "13   United States                    16602.610000"
      ]
     },
     "execution_count": 358,
     "metadata": {},
     "output_type": "execute_result"
    }
   ],
   "source": [
    "# 21 yılda ülkelere göre fnükleer enerjiden üretilen toplam elektrik (Twh)\n",
    "electricity_nuclear = filtered_data.groupby(\"Entity\")[[\"Electricity from nuclear (TWh)\"]].sum().reset_index()\n",
    "electricity_nuclear"
   ]
  },
  {
   "cell_type": "code",
   "execution_count": 359,
   "metadata": {},
   "outputs": [
    {
     "data": {
      "text/html": [
       "<div>\n",
       "<style scoped>\n",
       "    .dataframe tbody tr th:only-of-type {\n",
       "        vertical-align: middle;\n",
       "    }\n",
       "\n",
       "    .dataframe tbody tr th {\n",
       "        vertical-align: top;\n",
       "    }\n",
       "\n",
       "    .dataframe thead th {\n",
       "        text-align: right;\n",
       "    }\n",
       "</style>\n",
       "<table border=\"1\" class=\"dataframe\">\n",
       "  <thead>\n",
       "    <tr style=\"text-align: right;\">\n",
       "      <th></th>\n",
       "      <th>Entity</th>\n",
       "      <th>Electricity from renewables (TWh)</th>\n",
       "    </tr>\n",
       "  </thead>\n",
       "  <tbody>\n",
       "    <tr>\n",
       "      <th>0</th>\n",
       "      <td>Australia</td>\n",
       "      <td>606.52</td>\n",
       "    </tr>\n",
       "    <tr>\n",
       "      <th>1</th>\n",
       "      <td>Brazil</td>\n",
       "      <td>8511.46</td>\n",
       "    </tr>\n",
       "    <tr>\n",
       "      <th>2</th>\n",
       "      <td>Canada</td>\n",
       "      <td>8167.16</td>\n",
       "    </tr>\n",
       "    <tr>\n",
       "      <th>3</th>\n",
       "      <td>China</td>\n",
       "      <td>19702.94</td>\n",
       "    </tr>\n",
       "    <tr>\n",
       "      <th>4</th>\n",
       "      <td>France</td>\n",
       "      <td>1708.15</td>\n",
       "    </tr>\n",
       "    <tr>\n",
       "      <th>5</th>\n",
       "      <td>Germany</td>\n",
       "      <td>2633.80</td>\n",
       "    </tr>\n",
       "    <tr>\n",
       "      <th>6</th>\n",
       "      <td>India</td>\n",
       "      <td>3463.36</td>\n",
       "    </tr>\n",
       "    <tr>\n",
       "      <th>7</th>\n",
       "      <td>Japan</td>\n",
       "      <td>2723.67</td>\n",
       "    </tr>\n",
       "    <tr>\n",
       "      <th>8</th>\n",
       "      <td>Mexico</td>\n",
       "      <td>1011.55</td>\n",
       "    </tr>\n",
       "    <tr>\n",
       "      <th>9</th>\n",
       "      <td>Saudi Arabia</td>\n",
       "      <td>0.88</td>\n",
       "    </tr>\n",
       "    <tr>\n",
       "      <th>10</th>\n",
       "      <td>South Africa</td>\n",
       "      <td>92.53</td>\n",
       "    </tr>\n",
       "    <tr>\n",
       "      <th>11</th>\n",
       "      <td>Turkey</td>\n",
       "      <td>1284.98</td>\n",
       "    </tr>\n",
       "    <tr>\n",
       "      <th>12</th>\n",
       "      <td>United Kingdom</td>\n",
       "      <td>1004.27</td>\n",
       "    </tr>\n",
       "    <tr>\n",
       "      <th>13</th>\n",
       "      <td>United States</td>\n",
       "      <td>10234.10</td>\n",
       "    </tr>\n",
       "  </tbody>\n",
       "</table>\n",
       "</div>"
      ],
      "text/plain": [
       "            Entity  Electricity from renewables (TWh)\n",
       "0        Australia                             606.52\n",
       "1           Brazil                            8511.46\n",
       "2           Canada                            8167.16\n",
       "3            China                           19702.94\n",
       "4           France                            1708.15\n",
       "5          Germany                            2633.80\n",
       "6            India                            3463.36\n",
       "7            Japan                            2723.67\n",
       "8           Mexico                            1011.55\n",
       "9     Saudi Arabia                               0.88\n",
       "10    South Africa                              92.53\n",
       "11          Turkey                            1284.98\n",
       "12  United Kingdom                            1004.27\n",
       "13   United States                           10234.10"
      ]
     },
     "execution_count": 359,
     "metadata": {},
     "output_type": "execute_result"
    }
   ],
   "source": [
    "# 21 yılda ülkelere göre yenilenebilir enerjilerden üretilen toplam elektrik (Twh)\n",
    "electricity_renewables = filtered_data.groupby(\"Entity\")[[\"Electricity from renewables (TWh)\"]].sum().reset_index()\n",
    "electricity_renewables"
   ]
  },
  {
   "cell_type": "code",
   "execution_count": 360,
   "metadata": {},
   "outputs": [
    {
     "data": {
      "text/plain": [
       "Text(0.5, 1.0, 'Total Amount Of Electricity From Renewables')"
      ]
     },
     "execution_count": 360,
     "metadata": {},
     "output_type": "execute_result"
    },
    {
     "data": {
      "image/png": "[encoded data removed]",
      "text/plain": [
       "<Figure size 1000x500 with 1 Axes>"
      ]
     },
     "metadata": {},
     "output_type": "display_data"
    },
    {
     "data": {
      "image/png": "[encoded data removed]",
      "text/plain": [
       "<Figure size 1000x500 with 1 Axes>"
      ]
     },
     "metadata": {},
     "output_type": "display_data"
    }
   ],
   "source": [
    "# 21 yılda ülkelere göre nükleer enerjiden üretilen toplam elektriği (Twh) gösteren sütun grafiği\n",
    "plt.figure(figsize=(10,5))\n",
    "plt.bar(x = \"Entity\", height = \"Electricity from nuclear (TWh)\", data = electricity_nuclear)\n",
    "plt.xticks(rotation=90);\n",
    "plt.xlabel(\"Entity\")\n",
    "plt.ylabel(\"Electricity from nuclear (TWh)\")\n",
    "plt.title(\"Total Amount Of Electricity From Nuclear\")\n",
    "\n",
    "# 21 yılda ülkelere göre yenilenebilir enerjilerden üretilen toplam elektriği (Twh) gösteren sütun grafiği\n",
    "plt.figure(figsize=(10,5))\n",
    "plt.bar(x = \"Entity\", height = \"Electricity from renewables (TWh)\", data = electricity_renewables)\n",
    "plt.xticks(rotation=90);\n",
    "plt.xlabel(\"Entity\")\n",
    "plt.ylabel(\"Electricity from renewables (TWh)\")\n",
    "plt.title(\"Total Amount Of Electricity From Renewables\")\n"
   ]
  },
  {
   "cell_type": "code",
   "execution_count": null,
   "metadata": {},
   "outputs": [],
   "source": []
  }
 ],
 "metadata": {
  "kernelspec": {
   "display_name": "base",
   "language": "python",
   "name": "python3"
  },
  "language_info": {
   "codemirror_mode": {
    "name": "ipython",
    "version": 3
   },
   "file_extension": ".py",
   "mimetype": "text/x-python",
   "name": "python",
   "nbconvert_exporter": "python",
   "pygments_lexer": "ipython3",
   "version": "3.11.7"
  }
 },
 "nbformat": 4,
 "nbformat_minor": 2
}
